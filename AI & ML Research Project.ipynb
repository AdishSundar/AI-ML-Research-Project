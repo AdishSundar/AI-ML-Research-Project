{
 "cells": [
  {
   "cell_type": "code",
   "execution_count": 1,
   "id": "0cb6d4ef",
   "metadata": {},
   "outputs": [],
   "source": [
    "import pandas as pd\n",
    "import numpy as np\n",
    "import matplotlib.pyplot as plt\n",
    "import plotly.express as px\n",
    "import plotly.graph_objects as go"
   ]
  },
  {
   "cell_type": "code",
   "execution_count": 10,
   "id": "9d40bfb1",
   "metadata": {},
   "outputs": [
    {
     "data": {
      "text/html": [
       "<div>\n",
       "<style scoped>\n",
       "    .dataframe tbody tr th:only-of-type {\n",
       "        vertical-align: middle;\n",
       "    }\n",
       "\n",
       "    .dataframe tbody tr th {\n",
       "        vertical-align: top;\n",
       "    }\n",
       "\n",
       "    .dataframe thead th {\n",
       "        text-align: right;\n",
       "    }\n",
       "</style>\n",
       "<table border=\"1\" class=\"dataframe\">\n",
       "  <thead>\n",
       "    <tr style=\"text-align: right;\">\n",
       "      <th></th>\n",
       "      <th>work_year</th>\n",
       "      <th>experience_level</th>\n",
       "      <th>employment_type</th>\n",
       "      <th>job_title</th>\n",
       "      <th>salary</th>\n",
       "      <th>salary_currency</th>\n",
       "      <th>salary_in_usd</th>\n",
       "      <th>employee_residence</th>\n",
       "      <th>remote_ratio</th>\n",
       "      <th>company_location</th>\n",
       "      <th>company_size</th>\n",
       "    </tr>\n",
       "  </thead>\n",
       "  <tbody>\n",
       "    <tr>\n",
       "      <th>0</th>\n",
       "      <td>2023</td>\n",
       "      <td>EN</td>\n",
       "      <td>FT</td>\n",
       "      <td>Data Analyst</td>\n",
       "      <td>75000</td>\n",
       "      <td>USD</td>\n",
       "      <td>75000</td>\n",
       "      <td>US</td>\n",
       "      <td>100</td>\n",
       "      <td>US</td>\n",
       "      <td>M</td>\n",
       "    </tr>\n",
       "    <tr>\n",
       "      <th>1</th>\n",
       "      <td>2023</td>\n",
       "      <td>EN</td>\n",
       "      <td>FT</td>\n",
       "      <td>Data Analyst</td>\n",
       "      <td>60000</td>\n",
       "      <td>USD</td>\n",
       "      <td>60000</td>\n",
       "      <td>US</td>\n",
       "      <td>100</td>\n",
       "      <td>US</td>\n",
       "      <td>M</td>\n",
       "    </tr>\n",
       "    <tr>\n",
       "      <th>2</th>\n",
       "      <td>2023</td>\n",
       "      <td>MI</td>\n",
       "      <td>FT</td>\n",
       "      <td>Analytics Engineer</td>\n",
       "      <td>185700</td>\n",
       "      <td>USD</td>\n",
       "      <td>185700</td>\n",
       "      <td>US</td>\n",
       "      <td>0</td>\n",
       "      <td>US</td>\n",
       "      <td>M</td>\n",
       "    </tr>\n",
       "    <tr>\n",
       "      <th>3</th>\n",
       "      <td>2023</td>\n",
       "      <td>MI</td>\n",
       "      <td>FT</td>\n",
       "      <td>Analytics Engineer</td>\n",
       "      <td>165000</td>\n",
       "      <td>USD</td>\n",
       "      <td>165000</td>\n",
       "      <td>US</td>\n",
       "      <td>0</td>\n",
       "      <td>US</td>\n",
       "      <td>M</td>\n",
       "    </tr>\n",
       "    <tr>\n",
       "      <th>4</th>\n",
       "      <td>2023</td>\n",
       "      <td>SE</td>\n",
       "      <td>FT</td>\n",
       "      <td>Data Engineer</td>\n",
       "      <td>160000</td>\n",
       "      <td>USD</td>\n",
       "      <td>160000</td>\n",
       "      <td>US</td>\n",
       "      <td>100</td>\n",
       "      <td>US</td>\n",
       "      <td>M</td>\n",
       "    </tr>\n",
       "  </tbody>\n",
       "</table>\n",
       "</div>"
      ],
      "text/plain": [
       "   work_year experience_level employment_type           job_title  salary  \\\n",
       "0       2023               EN              FT        Data Analyst   75000   \n",
       "1       2023               EN              FT        Data Analyst   60000   \n",
       "2       2023               MI              FT  Analytics Engineer  185700   \n",
       "3       2023               MI              FT  Analytics Engineer  165000   \n",
       "4       2023               SE              FT       Data Engineer  160000   \n",
       "\n",
       "  salary_currency  salary_in_usd employee_residence  remote_ratio  \\\n",
       "0             USD          75000                 US           100   \n",
       "1             USD          60000                 US           100   \n",
       "2             USD         185700                 US             0   \n",
       "3             USD         165000                 US             0   \n",
       "4             USD         160000                 US           100   \n",
       "\n",
       "  company_location company_size  \n",
       "0               US            M  \n",
       "1               US            M  \n",
       "2               US            M  \n",
       "3               US            M  \n",
       "4               US            M  "
      ]
     },
     "execution_count": 10,
     "metadata": {},
     "output_type": "execute_result"
    }
   ],
   "source": [
    "df = pd.read_csv('/Users/adishsundar/Desktop/AI Research/salaries.csv')\n",
    "df.head()"
   ]
  },
  {
   "cell_type": "code",
   "execution_count": 9,
   "id": "6768bb1c",
   "metadata": {},
   "outputs": [
    {
     "data": {
      "application/vnd.plotly.v1+json": {
       "config": {
        "plotlyServerURL": "https://plotly.com"
       },
       "data": [
        {
         "hovertemplate": "work_year=%{x}<br>salary_in_usd=%{y}<extra></extra>",
         "legendgroup": "",
         "line": {
          "color": "#636efa",
          "dash": "solid"
         },
         "marker": {
          "symbol": "circle"
         },
         "mode": "lines",
         "name": "",
         "orientation": "v",
         "showlegend": false,
         "type": "scatter",
         "x": [
          2020,
          2021,
          2022,
          2023
         ],
         "xaxis": "x",
         "y": [
          93333.33333333333,
          94087.20869565217,
          133273.35304767653,
          147681.83812260538
         ],
         "yaxis": "y"
        }
       ],
       "layout": {
        "font": {
         "color": "white"
        },
        "legend": {
         "tracegroupgap": 0
        },
        "margin": {
         "t": 60
        },
        "paper_bgcolor": "rgb(17, 17, 17)",
        "plot_bgcolor": "rgb(17, 17, 17)",
        "template": {
         "data": {
          "bar": [
           {
            "error_x": {
             "color": "#2a3f5f"
            },
            "error_y": {
             "color": "#2a3f5f"
            },
            "marker": {
             "line": {
              "color": "#E5ECF6",
              "width": 0.5
             },
             "pattern": {
              "fillmode": "overlay",
              "size": 10,
              "solidity": 0.2
             }
            },
            "type": "bar"
           }
          ],
          "barpolar": [
           {
            "marker": {
             "line": {
              "color": "#E5ECF6",
              "width": 0.5
             },
             "pattern": {
              "fillmode": "overlay",
              "size": 10,
              "solidity": 0.2
             }
            },
            "type": "barpolar"
           }
          ],
          "carpet": [
           {
            "aaxis": {
             "endlinecolor": "#2a3f5f",
             "gridcolor": "white",
             "linecolor": "white",
             "minorgridcolor": "white",
             "startlinecolor": "#2a3f5f"
            },
            "baxis": {
             "endlinecolor": "#2a3f5f",
             "gridcolor": "white",
             "linecolor": "white",
             "minorgridcolor": "white",
             "startlinecolor": "#2a3f5f"
            },
            "type": "carpet"
           }
          ],
          "choropleth": [
           {
            "colorbar": {
             "outlinewidth": 0,
             "ticks": ""
            },
            "type": "choropleth"
           }
          ],
          "contour": [
           {
            "colorbar": {
             "outlinewidth": 0,
             "ticks": ""
            },
            "colorscale": [
             [
              0,
              "#0d0887"
             ],
             [
              0.1111111111111111,
              "#46039f"
             ],
             [
              0.2222222222222222,
              "#7201a8"
             ],
             [
              0.3333333333333333,
              "#9c179e"
             ],
             [
              0.4444444444444444,
              "#bd3786"
             ],
             [
              0.5555555555555556,
              "#d8576b"
             ],
             [
              0.6666666666666666,
              "#ed7953"
             ],
             [
              0.7777777777777778,
              "#fb9f3a"
             ],
             [
              0.8888888888888888,
              "#fdca26"
             ],
             [
              1,
              "#f0f921"
             ]
            ],
            "type": "contour"
           }
          ],
          "contourcarpet": [
           {
            "colorbar": {
             "outlinewidth": 0,
             "ticks": ""
            },
            "type": "contourcarpet"
           }
          ],
          "heatmap": [
           {
            "colorbar": {
             "outlinewidth": 0,
             "ticks": ""
            },
            "colorscale": [
             [
              0,
              "#0d0887"
             ],
             [
              0.1111111111111111,
              "#46039f"
             ],
             [
              0.2222222222222222,
              "#7201a8"
             ],
             [
              0.3333333333333333,
              "#9c179e"
             ],
             [
              0.4444444444444444,
              "#bd3786"
             ],
             [
              0.5555555555555556,
              "#d8576b"
             ],
             [
              0.6666666666666666,
              "#ed7953"
             ],
             [
              0.7777777777777778,
              "#fb9f3a"
             ],
             [
              0.8888888888888888,
              "#fdca26"
             ],
             [
              1,
              "#f0f921"
             ]
            ],
            "type": "heatmap"
           }
          ],
          "heatmapgl": [
           {
            "colorbar": {
             "outlinewidth": 0,
             "ticks": ""
            },
            "colorscale": [
             [
              0,
              "#0d0887"
             ],
             [
              0.1111111111111111,
              "#46039f"
             ],
             [
              0.2222222222222222,
              "#7201a8"
             ],
             [
              0.3333333333333333,
              "#9c179e"
             ],
             [
              0.4444444444444444,
              "#bd3786"
             ],
             [
              0.5555555555555556,
              "#d8576b"
             ],
             [
              0.6666666666666666,
              "#ed7953"
             ],
             [
              0.7777777777777778,
              "#fb9f3a"
             ],
             [
              0.8888888888888888,
              "#fdca26"
             ],
             [
              1,
              "#f0f921"
             ]
            ],
            "type": "heatmapgl"
           }
          ],
          "histogram": [
           {
            "marker": {
             "pattern": {
              "fillmode": "overlay",
              "size": 10,
              "solidity": 0.2
             }
            },
            "type": "histogram"
           }
          ],
          "histogram2d": [
           {
            "colorbar": {
             "outlinewidth": 0,
             "ticks": ""
            },
            "colorscale": [
             [
              0,
              "#0d0887"
             ],
             [
              0.1111111111111111,
              "#46039f"
             ],
             [
              0.2222222222222222,
              "#7201a8"
             ],
             [
              0.3333333333333333,
              "#9c179e"
             ],
             [
              0.4444444444444444,
              "#bd3786"
             ],
             [
              0.5555555555555556,
              "#d8576b"
             ],
             [
              0.6666666666666666,
              "#ed7953"
             ],
             [
              0.7777777777777778,
              "#fb9f3a"
             ],
             [
              0.8888888888888888,
              "#fdca26"
             ],
             [
              1,
              "#f0f921"
             ]
            ],
            "type": "histogram2d"
           }
          ],
          "histogram2dcontour": [
           {
            "colorbar": {
             "outlinewidth": 0,
             "ticks": ""
            },
            "colorscale": [
             [
              0,
              "#0d0887"
             ],
             [
              0.1111111111111111,
              "#46039f"
             ],
             [
              0.2222222222222222,
              "#7201a8"
             ],
             [
              0.3333333333333333,
              "#9c179e"
             ],
             [
              0.4444444444444444,
              "#bd3786"
             ],
             [
              0.5555555555555556,
              "#d8576b"
             ],
             [
              0.6666666666666666,
              "#ed7953"
             ],
             [
              0.7777777777777778,
              "#fb9f3a"
             ],
             [
              0.8888888888888888,
              "#fdca26"
             ],
             [
              1,
              "#f0f921"
             ]
            ],
            "type": "histogram2dcontour"
           }
          ],
          "mesh3d": [
           {
            "colorbar": {
             "outlinewidth": 0,
             "ticks": ""
            },
            "type": "mesh3d"
           }
          ],
          "parcoords": [
           {
            "line": {
             "colorbar": {
              "outlinewidth": 0,
              "ticks": ""
             }
            },
            "type": "parcoords"
           }
          ],
          "pie": [
           {
            "automargin": true,
            "type": "pie"
           }
          ],
          "scatter": [
           {
            "marker": {
             "colorbar": {
              "outlinewidth": 0,
              "ticks": ""
             }
            },
            "type": "scatter"
           }
          ],
          "scatter3d": [
           {
            "line": {
             "colorbar": {
              "outlinewidth": 0,
              "ticks": ""
             }
            },
            "marker": {
             "colorbar": {
              "outlinewidth": 0,
              "ticks": ""
             }
            },
            "type": "scatter3d"
           }
          ],
          "scattercarpet": [
           {
            "marker": {
             "colorbar": {
              "outlinewidth": 0,
              "ticks": ""
             }
            },
            "type": "scattercarpet"
           }
          ],
          "scattergeo": [
           {
            "marker": {
             "colorbar": {
              "outlinewidth": 0,
              "ticks": ""
             }
            },
            "type": "scattergeo"
           }
          ],
          "scattergl": [
           {
            "marker": {
             "colorbar": {
              "outlinewidth": 0,
              "ticks": ""
             }
            },
            "type": "scattergl"
           }
          ],
          "scattermapbox": [
           {
            "marker": {
             "colorbar": {
              "outlinewidth": 0,
              "ticks": ""
             }
            },
            "type": "scattermapbox"
           }
          ],
          "scatterpolar": [
           {
            "marker": {
             "colorbar": {
              "outlinewidth": 0,
              "ticks": ""
             }
            },
            "type": "scatterpolar"
           }
          ],
          "scatterpolargl": [
           {
            "marker": {
             "colorbar": {
              "outlinewidth": 0,
              "ticks": ""
             }
            },
            "type": "scatterpolargl"
           }
          ],
          "scatterternary": [
           {
            "marker": {
             "colorbar": {
              "outlinewidth": 0,
              "ticks": ""
             }
            },
            "type": "scatterternary"
           }
          ],
          "surface": [
           {
            "colorbar": {
             "outlinewidth": 0,
             "ticks": ""
            },
            "colorscale": [
             [
              0,
              "#0d0887"
             ],
             [
              0.1111111111111111,
              "#46039f"
             ],
             [
              0.2222222222222222,
              "#7201a8"
             ],
             [
              0.3333333333333333,
              "#9c179e"
             ],
             [
              0.4444444444444444,
              "#bd3786"
             ],
             [
              0.5555555555555556,
              "#d8576b"
             ],
             [
              0.6666666666666666,
              "#ed7953"
             ],
             [
              0.7777777777777778,
              "#fb9f3a"
             ],
             [
              0.8888888888888888,
              "#fdca26"
             ],
             [
              1,
              "#f0f921"
             ]
            ],
            "type": "surface"
           }
          ],
          "table": [
           {
            "cells": {
             "fill": {
              "color": "#EBF0F8"
             },
             "line": {
              "color": "white"
             }
            },
            "header": {
             "fill": {
              "color": "#C8D4E3"
             },
             "line": {
              "color": "white"
             }
            },
            "type": "table"
           }
          ]
         },
         "layout": {
          "annotationdefaults": {
           "arrowcolor": "#2a3f5f",
           "arrowhead": 0,
           "arrowwidth": 1
          },
          "autotypenumbers": "strict",
          "coloraxis": {
           "colorbar": {
            "outlinewidth": 0,
            "ticks": ""
           }
          },
          "colorscale": {
           "diverging": [
            [
             0,
             "#8e0152"
            ],
            [
             0.1,
             "#c51b7d"
            ],
            [
             0.2,
             "#de77ae"
            ],
            [
             0.3,
             "#f1b6da"
            ],
            [
             0.4,
             "#fde0ef"
            ],
            [
             0.5,
             "#f7f7f7"
            ],
            [
             0.6,
             "#e6f5d0"
            ],
            [
             0.7,
             "#b8e186"
            ],
            [
             0.8,
             "#7fbc41"
            ],
            [
             0.9,
             "#4d9221"
            ],
            [
             1,
             "#276419"
            ]
           ],
           "sequential": [
            [
             0,
             "#0d0887"
            ],
            [
             0.1111111111111111,
             "#46039f"
            ],
            [
             0.2222222222222222,
             "#7201a8"
            ],
            [
             0.3333333333333333,
             "#9c179e"
            ],
            [
             0.4444444444444444,
             "#bd3786"
            ],
            [
             0.5555555555555556,
             "#d8576b"
            ],
            [
             0.6666666666666666,
             "#ed7953"
            ],
            [
             0.7777777777777778,
             "#fb9f3a"
            ],
            [
             0.8888888888888888,
             "#fdca26"
            ],
            [
             1,
             "#f0f921"
            ]
           ],
           "sequentialminus": [
            [
             0,
             "#0d0887"
            ],
            [
             0.1111111111111111,
             "#46039f"
            ],
            [
             0.2222222222222222,
             "#7201a8"
            ],
            [
             0.3333333333333333,
             "#9c179e"
            ],
            [
             0.4444444444444444,
             "#bd3786"
            ],
            [
             0.5555555555555556,
             "#d8576b"
            ],
            [
             0.6666666666666666,
             "#ed7953"
            ],
            [
             0.7777777777777778,
             "#fb9f3a"
            ],
            [
             0.8888888888888888,
             "#fdca26"
            ],
            [
             1,
             "#f0f921"
            ]
           ]
          },
          "colorway": [
           "#636efa",
           "#EF553B",
           "#00cc96",
           "#ab63fa",
           "#FFA15A",
           "#19d3f3",
           "#FF6692",
           "#B6E880",
           "#FF97FF",
           "#FECB52"
          ],
          "font": {
           "color": "#2a3f5f"
          },
          "geo": {
           "bgcolor": "white",
           "lakecolor": "white",
           "landcolor": "#E5ECF6",
           "showlakes": true,
           "showland": true,
           "subunitcolor": "white"
          },
          "hoverlabel": {
           "align": "left"
          },
          "hovermode": "closest",
          "mapbox": {
           "style": "light"
          },
          "paper_bgcolor": "white",
          "plot_bgcolor": "#E5ECF6",
          "polar": {
           "angularaxis": {
            "gridcolor": "white",
            "linecolor": "white",
            "ticks": ""
           },
           "bgcolor": "#E5ECF6",
           "radialaxis": {
            "gridcolor": "white",
            "linecolor": "white",
            "ticks": ""
           }
          },
          "scene": {
           "xaxis": {
            "backgroundcolor": "#E5ECF6",
            "gridcolor": "white",
            "gridwidth": 2,
            "linecolor": "white",
            "showbackground": true,
            "ticks": "",
            "zerolinecolor": "white"
           },
           "yaxis": {
            "backgroundcolor": "#E5ECF6",
            "gridcolor": "white",
            "gridwidth": 2,
            "linecolor": "white",
            "showbackground": true,
            "ticks": "",
            "zerolinecolor": "white"
           },
           "zaxis": {
            "backgroundcolor": "#E5ECF6",
            "gridcolor": "white",
            "gridwidth": 2,
            "linecolor": "white",
            "showbackground": true,
            "ticks": "",
            "zerolinecolor": "white"
           }
          },
          "shapedefaults": {
           "line": {
            "color": "#2a3f5f"
           }
          },
          "ternary": {
           "aaxis": {
            "gridcolor": "white",
            "linecolor": "white",
            "ticks": ""
           },
           "baxis": {
            "gridcolor": "white",
            "linecolor": "white",
            "ticks": ""
           },
           "bgcolor": "#E5ECF6",
           "caxis": {
            "gridcolor": "white",
            "linecolor": "white",
            "ticks": ""
           }
          },
          "title": {
           "x": 0.05
          },
          "xaxis": {
           "automargin": true,
           "gridcolor": "white",
           "linecolor": "white",
           "ticks": "",
           "title": {
            "standoff": 15
           },
           "zerolinecolor": "white",
           "zerolinewidth": 2
          },
          "yaxis": {
           "automargin": true,
           "gridcolor": "white",
           "linecolor": "white",
           "ticks": "",
           "title": {
            "standoff": 15
           },
           "zerolinecolor": "white",
           "zerolinewidth": 2
          }
         }
        },
        "title": {
         "text": "Average Salary by Year for AI/ML related jobs"
        },
        "xaxis": {
         "anchor": "y",
         "domain": [
          0,
          1
         ],
         "title": {
          "text": "Year"
         }
        },
        "yaxis": {
         "anchor": "x",
         "domain": [
          0,
          1
         ],
         "title": {
          "text": "Average Salary (USD)"
         }
        }
       }
      },
      "text/html": [
       "<div>                            <div id=\"ff72091b-a393-45cf-a4ee-f20b2a06b0c7\" class=\"plotly-graph-div\" style=\"height:525px; width:100%;\"></div>            <script type=\"text/javascript\">                require([\"plotly\"], function(Plotly) {                    window.PLOTLYENV=window.PLOTLYENV || {};                                    if (document.getElementById(\"ff72091b-a393-45cf-a4ee-f20b2a06b0c7\")) {                    Plotly.newPlot(                        \"ff72091b-a393-45cf-a4ee-f20b2a06b0c7\",                        [{\"hovertemplate\":\"work_year=%{x}<br>salary_in_usd=%{y}<extra></extra>\",\"legendgroup\":\"\",\"line\":{\"color\":\"#636efa\",\"dash\":\"solid\"},\"marker\":{\"symbol\":\"circle\"},\"mode\":\"lines\",\"name\":\"\",\"orientation\":\"v\",\"showlegend\":false,\"x\":[2020,2021,2022,2023],\"xaxis\":\"x\",\"y\":[93333.33333333333,94087.20869565217,133273.35304767653,147681.83812260538],\"yaxis\":\"y\",\"type\":\"scatter\"}],                        {\"template\":{\"data\":{\"bar\":[{\"error_x\":{\"color\":\"#2a3f5f\"},\"error_y\":{\"color\":\"#2a3f5f\"},\"marker\":{\"line\":{\"color\":\"#E5ECF6\",\"width\":0.5},\"pattern\":{\"fillmode\":\"overlay\",\"size\":10,\"solidity\":0.2}},\"type\":\"bar\"}],\"barpolar\":[{\"marker\":{\"line\":{\"color\":\"#E5ECF6\",\"width\":0.5},\"pattern\":{\"fillmode\":\"overlay\",\"size\":10,\"solidity\":0.2}},\"type\":\"barpolar\"}],\"carpet\":[{\"aaxis\":{\"endlinecolor\":\"#2a3f5f\",\"gridcolor\":\"white\",\"linecolor\":\"white\",\"minorgridcolor\":\"white\",\"startlinecolor\":\"#2a3f5f\"},\"baxis\":{\"endlinecolor\":\"#2a3f5f\",\"gridcolor\":\"white\",\"linecolor\":\"white\",\"minorgridcolor\":\"white\",\"startlinecolor\":\"#2a3f5f\"},\"type\":\"carpet\"}],\"choropleth\":[{\"colorbar\":{\"outlinewidth\":0,\"ticks\":\"\"},\"type\":\"choropleth\"}],\"contour\":[{\"colorbar\":{\"outlinewidth\":0,\"ticks\":\"\"},\"colorscale\":[[0.0,\"#0d0887\"],[0.1111111111111111,\"#46039f\"],[0.2222222222222222,\"#7201a8\"],[0.3333333333333333,\"#9c179e\"],[0.4444444444444444,\"#bd3786\"],[0.5555555555555556,\"#d8576b\"],[0.6666666666666666,\"#ed7953\"],[0.7777777777777778,\"#fb9f3a\"],[0.8888888888888888,\"#fdca26\"],[1.0,\"#f0f921\"]],\"type\":\"contour\"}],\"contourcarpet\":[{\"colorbar\":{\"outlinewidth\":0,\"ticks\":\"\"},\"type\":\"contourcarpet\"}],\"heatmap\":[{\"colorbar\":{\"outlinewidth\":0,\"ticks\":\"\"},\"colorscale\":[[0.0,\"#0d0887\"],[0.1111111111111111,\"#46039f\"],[0.2222222222222222,\"#7201a8\"],[0.3333333333333333,\"#9c179e\"],[0.4444444444444444,\"#bd3786\"],[0.5555555555555556,\"#d8576b\"],[0.6666666666666666,\"#ed7953\"],[0.7777777777777778,\"#fb9f3a\"],[0.8888888888888888,\"#fdca26\"],[1.0,\"#f0f921\"]],\"type\":\"heatmap\"}],\"heatmapgl\":[{\"colorbar\":{\"outlinewidth\":0,\"ticks\":\"\"},\"colorscale\":[[0.0,\"#0d0887\"],[0.1111111111111111,\"#46039f\"],[0.2222222222222222,\"#7201a8\"],[0.3333333333333333,\"#9c179e\"],[0.4444444444444444,\"#bd3786\"],[0.5555555555555556,\"#d8576b\"],[0.6666666666666666,\"#ed7953\"],[0.7777777777777778,\"#fb9f3a\"],[0.8888888888888888,\"#fdca26\"],[1.0,\"#f0f921\"]],\"type\":\"heatmapgl\"}],\"histogram\":[{\"marker\":{\"pattern\":{\"fillmode\":\"overlay\",\"size\":10,\"solidity\":0.2}},\"type\":\"histogram\"}],\"histogram2d\":[{\"colorbar\":{\"outlinewidth\":0,\"ticks\":\"\"},\"colorscale\":[[0.0,\"#0d0887\"],[0.1111111111111111,\"#46039f\"],[0.2222222222222222,\"#7201a8\"],[0.3333333333333333,\"#9c179e\"],[0.4444444444444444,\"#bd3786\"],[0.5555555555555556,\"#d8576b\"],[0.6666666666666666,\"#ed7953\"],[0.7777777777777778,\"#fb9f3a\"],[0.8888888888888888,\"#fdca26\"],[1.0,\"#f0f921\"]],\"type\":\"histogram2d\"}],\"histogram2dcontour\":[{\"colorbar\":{\"outlinewidth\":0,\"ticks\":\"\"},\"colorscale\":[[0.0,\"#0d0887\"],[0.1111111111111111,\"#46039f\"],[0.2222222222222222,\"#7201a8\"],[0.3333333333333333,\"#9c179e\"],[0.4444444444444444,\"#bd3786\"],[0.5555555555555556,\"#d8576b\"],[0.6666666666666666,\"#ed7953\"],[0.7777777777777778,\"#fb9f3a\"],[0.8888888888888888,\"#fdca26\"],[1.0,\"#f0f921\"]],\"type\":\"histogram2dcontour\"}],\"mesh3d\":[{\"colorbar\":{\"outlinewidth\":0,\"ticks\":\"\"},\"type\":\"mesh3d\"}],\"parcoords\":[{\"line\":{\"colorbar\":{\"outlinewidth\":0,\"ticks\":\"\"}},\"type\":\"parcoords\"}],\"pie\":[{\"automargin\":true,\"type\":\"pie\"}],\"scatter\":[{\"marker\":{\"colorbar\":{\"outlinewidth\":0,\"ticks\":\"\"}},\"type\":\"scatter\"}],\"scatter3d\":[{\"line\":{\"colorbar\":{\"outlinewidth\":0,\"ticks\":\"\"}},\"marker\":{\"colorbar\":{\"outlinewidth\":0,\"ticks\":\"\"}},\"type\":\"scatter3d\"}],\"scattercarpet\":[{\"marker\":{\"colorbar\":{\"outlinewidth\":0,\"ticks\":\"\"}},\"type\":\"scattercarpet\"}],\"scattergeo\":[{\"marker\":{\"colorbar\":{\"outlinewidth\":0,\"ticks\":\"\"}},\"type\":\"scattergeo\"}],\"scattergl\":[{\"marker\":{\"colorbar\":{\"outlinewidth\":0,\"ticks\":\"\"}},\"type\":\"scattergl\"}],\"scattermapbox\":[{\"marker\":{\"colorbar\":{\"outlinewidth\":0,\"ticks\":\"\"}},\"type\":\"scattermapbox\"}],\"scatterpolar\":[{\"marker\":{\"colorbar\":{\"outlinewidth\":0,\"ticks\":\"\"}},\"type\":\"scatterpolar\"}],\"scatterpolargl\":[{\"marker\":{\"colorbar\":{\"outlinewidth\":0,\"ticks\":\"\"}},\"type\":\"scatterpolargl\"}],\"scatterternary\":[{\"marker\":{\"colorbar\":{\"outlinewidth\":0,\"ticks\":\"\"}},\"type\":\"scatterternary\"}],\"surface\":[{\"colorbar\":{\"outlinewidth\":0,\"ticks\":\"\"},\"colorscale\":[[0.0,\"#0d0887\"],[0.1111111111111111,\"#46039f\"],[0.2222222222222222,\"#7201a8\"],[0.3333333333333333,\"#9c179e\"],[0.4444444444444444,\"#bd3786\"],[0.5555555555555556,\"#d8576b\"],[0.6666666666666666,\"#ed7953\"],[0.7777777777777778,\"#fb9f3a\"],[0.8888888888888888,\"#fdca26\"],[1.0,\"#f0f921\"]],\"type\":\"surface\"}],\"table\":[{\"cells\":{\"fill\":{\"color\":\"#EBF0F8\"},\"line\":{\"color\":\"white\"}},\"header\":{\"fill\":{\"color\":\"#C8D4E3\"},\"line\":{\"color\":\"white\"}},\"type\":\"table\"}]},\"layout\":{\"annotationdefaults\":{\"arrowcolor\":\"#2a3f5f\",\"arrowhead\":0,\"arrowwidth\":1},\"autotypenumbers\":\"strict\",\"coloraxis\":{\"colorbar\":{\"outlinewidth\":0,\"ticks\":\"\"}},\"colorscale\":{\"diverging\":[[0,\"#8e0152\"],[0.1,\"#c51b7d\"],[0.2,\"#de77ae\"],[0.3,\"#f1b6da\"],[0.4,\"#fde0ef\"],[0.5,\"#f7f7f7\"],[0.6,\"#e6f5d0\"],[0.7,\"#b8e186\"],[0.8,\"#7fbc41\"],[0.9,\"#4d9221\"],[1,\"#276419\"]],\"sequential\":[[0.0,\"#0d0887\"],[0.1111111111111111,\"#46039f\"],[0.2222222222222222,\"#7201a8\"],[0.3333333333333333,\"#9c179e\"],[0.4444444444444444,\"#bd3786\"],[0.5555555555555556,\"#d8576b\"],[0.6666666666666666,\"#ed7953\"],[0.7777777777777778,\"#fb9f3a\"],[0.8888888888888888,\"#fdca26\"],[1.0,\"#f0f921\"]],\"sequentialminus\":[[0.0,\"#0d0887\"],[0.1111111111111111,\"#46039f\"],[0.2222222222222222,\"#7201a8\"],[0.3333333333333333,\"#9c179e\"],[0.4444444444444444,\"#bd3786\"],[0.5555555555555556,\"#d8576b\"],[0.6666666666666666,\"#ed7953\"],[0.7777777777777778,\"#fb9f3a\"],[0.8888888888888888,\"#fdca26\"],[1.0,\"#f0f921\"]]},\"colorway\":[\"#636efa\",\"#EF553B\",\"#00cc96\",\"#ab63fa\",\"#FFA15A\",\"#19d3f3\",\"#FF6692\",\"#B6E880\",\"#FF97FF\",\"#FECB52\"],\"font\":{\"color\":\"#2a3f5f\"},\"geo\":{\"bgcolor\":\"white\",\"lakecolor\":\"white\",\"landcolor\":\"#E5ECF6\",\"showlakes\":true,\"showland\":true,\"subunitcolor\":\"white\"},\"hoverlabel\":{\"align\":\"left\"},\"hovermode\":\"closest\",\"mapbox\":{\"style\":\"light\"},\"paper_bgcolor\":\"white\",\"plot_bgcolor\":\"#E5ECF6\",\"polar\":{\"angularaxis\":{\"gridcolor\":\"white\",\"linecolor\":\"white\",\"ticks\":\"\"},\"bgcolor\":\"#E5ECF6\",\"radialaxis\":{\"gridcolor\":\"white\",\"linecolor\":\"white\",\"ticks\":\"\"}},\"scene\":{\"xaxis\":{\"backgroundcolor\":\"#E5ECF6\",\"gridcolor\":\"white\",\"gridwidth\":2,\"linecolor\":\"white\",\"showbackground\":true,\"ticks\":\"\",\"zerolinecolor\":\"white\"},\"yaxis\":{\"backgroundcolor\":\"#E5ECF6\",\"gridcolor\":\"white\",\"gridwidth\":2,\"linecolor\":\"white\",\"showbackground\":true,\"ticks\":\"\",\"zerolinecolor\":\"white\"},\"zaxis\":{\"backgroundcolor\":\"#E5ECF6\",\"gridcolor\":\"white\",\"gridwidth\":2,\"linecolor\":\"white\",\"showbackground\":true,\"ticks\":\"\",\"zerolinecolor\":\"white\"}},\"shapedefaults\":{\"line\":{\"color\":\"#2a3f5f\"}},\"ternary\":{\"aaxis\":{\"gridcolor\":\"white\",\"linecolor\":\"white\",\"ticks\":\"\"},\"baxis\":{\"gridcolor\":\"white\",\"linecolor\":\"white\",\"ticks\":\"\"},\"bgcolor\":\"#E5ECF6\",\"caxis\":{\"gridcolor\":\"white\",\"linecolor\":\"white\",\"ticks\":\"\"}},\"title\":{\"x\":0.05},\"xaxis\":{\"automargin\":true,\"gridcolor\":\"white\",\"linecolor\":\"white\",\"ticks\":\"\",\"title\":{\"standoff\":15},\"zerolinecolor\":\"white\",\"zerolinewidth\":2},\"yaxis\":{\"automargin\":true,\"gridcolor\":\"white\",\"linecolor\":\"white\",\"ticks\":\"\",\"title\":{\"standoff\":15},\"zerolinecolor\":\"white\",\"zerolinewidth\":2}}},\"xaxis\":{\"anchor\":\"y\",\"domain\":[0.0,1.0],\"title\":{\"text\":\"Year\"}},\"yaxis\":{\"anchor\":\"x\",\"domain\":[0.0,1.0],\"title\":{\"text\":\"Average Salary (USD)\"}},\"legend\":{\"tracegroupgap\":0},\"margin\":{\"t\":60},\"font\":{\"color\":\"white\"},\"title\":{\"text\":\"Average Salary by Year for AI/ML related jobs\"},\"plot_bgcolor\":\"rgb(17, 17, 17)\",\"paper_bgcolor\":\"rgb(17, 17, 17)\"},                        {\"responsive\": true}                    ).then(function(){\n",
       "                            \n",
       "var gd = document.getElementById('ff72091b-a393-45cf-a4ee-f20b2a06b0c7');\n",
       "var x = new MutationObserver(function (mutations, observer) {{\n",
       "        var display = window.getComputedStyle(gd).display;\n",
       "        if (!display || display === 'none') {{\n",
       "            console.log([gd, 'removed!']);\n",
       "            Plotly.purge(gd);\n",
       "            observer.disconnect();\n",
       "        }}\n",
       "}});\n",
       "\n",
       "// Listen for the removal of the full notebook cells\n",
       "var notebookContainer = gd.closest('#notebook-container');\n",
       "if (notebookContainer) {{\n",
       "    x.observe(notebookContainer, {childList: true});\n",
       "}}\n",
       "\n",
       "// Listen for the clearing of the current output cell\n",
       "var outputEl = gd.closest('.output');\n",
       "if (outputEl) {{\n",
       "    x.observe(outputEl, {childList: true});\n",
       "}}\n",
       "\n",
       "                        })                };                });            </script>        </div>"
      ]
     },
     "metadata": {},
     "output_type": "display_data"
    }
   ],
   "source": [
    "# Exploring the growth of the AI/ML Industry in terms of salaries, 2020 - 2023. Explosive growth in 2021.\n",
    "\n",
    "# Group the data by work year and calculate the average salary\n",
    "avg_salary_by_year = df.groupby('work_year')['salary_in_usd'].mean().reset_index()\n",
    "\n",
    "# Create the time series graph\n",
    "fig = px.line(avg_salary_by_year, x='work_year', y='salary_in_usd')\n",
    "fig.update_layout(\n",
    "    title='Average Salary by Year for AI/ML related jobs',\n",
    "    xaxis_title='Year',\n",
    "    yaxis_title='Average Salary (USD)',\n",
    "    plot_bgcolor='rgb(17, 17, 17)',  # Dark background color\n",
    "    paper_bgcolor='rgb(17, 17, 17)',  # Dark background color\n",
    "    font_color='white'  # Font color\n",
    ")\n",
    "\n",
    "# Display the graph\n",
    "fig.show()"
   ]
  },
  {
   "cell_type": "code",
   "execution_count": 118,
   "id": "ccd9f790",
   "metadata": {},
   "outputs": [
    {
     "data": {
      "text/html": [
       "<div>\n",
       "<style scoped>\n",
       "    .dataframe tbody tr th:only-of-type {\n",
       "        vertical-align: middle;\n",
       "    }\n",
       "\n",
       "    .dataframe tbody tr th {\n",
       "        vertical-align: top;\n",
       "    }\n",
       "\n",
       "    .dataframe thead th {\n",
       "        text-align: right;\n",
       "    }\n",
       "</style>\n",
       "<table border=\"1\" class=\"dataframe\">\n",
       "  <thead>\n",
       "    <tr style=\"text-align: right;\">\n",
       "      <th></th>\n",
       "      <th>Unnamed: 0</th>\n",
       "      <th>Unnamed: 1</th>\n",
       "      <th>Unnamed: 2</th>\n",
       "      <th>Unnamed: 3</th>\n",
       "      <th>Unnamed: 4</th>\n",
       "      <th>Unnamed: 5</th>\n",
       "      <th>Unnamed: 6</th>\n",
       "    </tr>\n",
       "  </thead>\n",
       "  <tbody>\n",
       "    <tr>\n",
       "      <th>0</th>\n",
       "      <td>NaN</td>\n",
       "      <td>NaN</td>\n",
       "      <td>NaN</td>\n",
       "      <td>NaN</td>\n",
       "      <td>NaN</td>\n",
       "      <td>NaN</td>\n",
       "      <td>NaN</td>\n",
       "    </tr>\n",
       "    <tr>\n",
       "      <th>1</th>\n",
       "      <td>NaN</td>\n",
       "      <td>NaN</td>\n",
       "      <td>NaN</td>\n",
       "      <td>NaN</td>\n",
       "      <td>NaN</td>\n",
       "      <td>NaN</td>\n",
       "      <td>NaN</td>\n",
       "    </tr>\n",
       "    <tr>\n",
       "      <th>2</th>\n",
       "      <td>Occupation</td>\n",
       "      <td>NaN</td>\n",
       "      <td>NaN</td>\n",
       "      <td>NaN</td>\n",
       "      <td>NaN</td>\n",
       "      <td>NaN</td>\n",
       "      <td>NaN</td>\n",
       "    </tr>\n",
       "    <tr>\n",
       "      <th>3</th>\n",
       "      <td>NaN</td>\n",
       "      <td>NaN</td>\n",
       "      <td>NaN</td>\n",
       "      <td>NaN</td>\n",
       "      <td>NaN</td>\n",
       "      <td>NaN</td>\n",
       "      <td>NaN</td>\n",
       "    </tr>\n",
       "    <tr>\n",
       "      <th>4</th>\n",
       "      <td>NaN</td>\n",
       "      <td>Total_workers</td>\n",
       "      <td>Total_weekly_earnings</td>\n",
       "      <td>M_workers</td>\n",
       "      <td>M_weekly_earnings</td>\n",
       "      <td>F_workers</td>\n",
       "      <td>F_weekly_earnings</td>\n",
       "    </tr>\n",
       "  </tbody>\n",
       "</table>\n",
       "</div>"
      ],
      "text/plain": [
       "   Unnamed: 0     Unnamed: 1             Unnamed: 2 Unnamed: 3  \\\n",
       "0         NaN            NaN                    NaN        NaN   \n",
       "1         NaN            NaN                    NaN        NaN   \n",
       "2  Occupation            NaN                    NaN        NaN   \n",
       "3         NaN            NaN                    NaN        NaN   \n",
       "4         NaN  Total_workers  Total_weekly_earnings  M_workers   \n",
       "\n",
       "          Unnamed: 4 Unnamed: 5         Unnamed: 6  \n",
       "0                NaN        NaN                NaN  \n",
       "1                NaN        NaN                NaN  \n",
       "2                NaN        NaN                NaN  \n",
       "3                NaN        NaN                NaN  \n",
       "4  M_weekly_earnings  F_workers  F_weekly_earnings  "
      ]
     },
     "execution_count": 118,
     "metadata": {},
     "output_type": "execute_result"
    }
   ],
   "source": [
    "# 2022 Data from BLS\n",
    "\n",
    "income_2022 = pd.read_csv('/Users/adishsundar/Desktop/AI Research/cpsaat39.csv')\n",
    "income_2022.head()"
   ]
  },
  {
   "cell_type": "code",
   "execution_count": 119,
   "id": "41c7e3b0",
   "metadata": {},
   "outputs": [
    {
     "data": {
      "text/html": [
       "<div>\n",
       "<style scoped>\n",
       "    .dataframe tbody tr th:only-of-type {\n",
       "        vertical-align: middle;\n",
       "    }\n",
       "\n",
       "    .dataframe tbody tr th {\n",
       "        vertical-align: top;\n",
       "    }\n",
       "\n",
       "    .dataframe thead th {\n",
       "        text-align: right;\n",
       "    }\n",
       "</style>\n",
       "<table border=\"1\" class=\"dataframe\">\n",
       "  <thead>\n",
       "    <tr style=\"text-align: right;\">\n",
       "      <th>4</th>\n",
       "      <th>Occupations</th>\n",
       "      <th>Total_workers</th>\n",
       "      <th>Total_weekly_earnings</th>\n",
       "      <th>M_workers</th>\n",
       "      <th>M_weekly_earnings</th>\n",
       "      <th>F_workers</th>\n",
       "      <th>F_weekly_earnings</th>\n",
       "    </tr>\n",
       "  </thead>\n",
       "  <tbody>\n",
       "    <tr>\n",
       "      <th>0</th>\n",
       "      <td>Total, full-time wage and salary workers</td>\n",
       "      <td>118,869</td>\n",
       "      <td>$1,059</td>\n",
       "      <td>65,554</td>\n",
       "      <td>$1,154</td>\n",
       "      <td>53,315</td>\n",
       "      <td>$958</td>\n",
       "    </tr>\n",
       "    <tr>\n",
       "      <th>1</th>\n",
       "      <td>Management, professional, and related occupations</td>\n",
       "      <td>53,962</td>\n",
       "      <td>1,465</td>\n",
       "      <td>26,229</td>\n",
       "      <td>1,726</td>\n",
       "      <td>27,733</td>\n",
       "      <td>1,284</td>\n",
       "    </tr>\n",
       "    <tr>\n",
       "      <th>2</th>\n",
       "      <td>Management, business, and financial operations...</td>\n",
       "      <td>22,707</td>\n",
       "      <td>1,569</td>\n",
       "      <td>12,079</td>\n",
       "      <td>1,772</td>\n",
       "      <td>10,629</td>\n",
       "      <td>1,409</td>\n",
       "    </tr>\n",
       "    <tr>\n",
       "      <th>3</th>\n",
       "      <td>Management occupations</td>\n",
       "      <td>14,909</td>\n",
       "      <td>1,658</td>\n",
       "      <td>8,532</td>\n",
       "      <td>1,868</td>\n",
       "      <td>6,376</td>\n",
       "      <td>1,457</td>\n",
       "    </tr>\n",
       "    <tr>\n",
       "      <th>4</th>\n",
       "      <td>Chief executives</td>\n",
       "      <td>1,249</td>\n",
       "      <td>2,701</td>\n",
       "      <td>878</td>\n",
       "      <td>2,908</td>\n",
       "      <td>370</td>\n",
       "      <td>2,277</td>\n",
       "    </tr>\n",
       "  </tbody>\n",
       "</table>\n",
       "</div>"
      ],
      "text/plain": [
       "4                                        Occupations Total_workers  \\\n",
       "0           Total, full-time wage and salary workers       118,869   \n",
       "1  Management, professional, and related occupations        53,962   \n",
       "2  Management, business, and financial operations...        22,707   \n",
       "3                             Management occupations        14,909   \n",
       "4                                   Chief executives         1,249   \n",
       "\n",
       "4 Total_weekly_earnings M_workers M_weekly_earnings F_workers  \\\n",
       "0                $1,059    65,554            $1,154    53,315   \n",
       "1                 1,465    26,229             1,726    27,733   \n",
       "2                 1,569    12,079             1,772    10,629   \n",
       "3                 1,658     8,532             1,868     6,376   \n",
       "4                 2,701       878             2,908       370   \n",
       "\n",
       "4 F_weekly_earnings  \n",
       "0              $958  \n",
       "1             1,284  \n",
       "2             1,409  \n",
       "3             1,457  \n",
       "4             2,277  "
      ]
     },
     "execution_count": 119,
     "metadata": {},
     "output_type": "execute_result"
    }
   ],
   "source": [
    "df = income_2022.copy()\n",
    "\n",
    "# Set the first non-null row as the column headers\n",
    "new_header = df.iloc[4]\n",
    "df = df[5:]\n",
    "df.columns = new_header\n",
    "\n",
    "# Remove rows with '-' values\n",
    "df = df.replace('–', np.nan)\n",
    "\n",
    "# Remove rows with all NaN values\n",
    "df.dropna(inplace=True)\n",
    "\n",
    "# Reset the index\n",
    "df.reset_index(drop=True, inplace=True)\n",
    "\n",
    "# Change first column name to Occupations\n",
    "df.rename(columns={df.columns[0]: 'Occupations'}, inplace=True)\n",
    "\n",
    "# Display the cleaned DataFrame\n",
    "df.head()"
   ]
  },
  {
   "cell_type": "code",
   "execution_count": 120,
   "id": "3587493c",
   "metadata": {},
   "outputs": [
    {
     "name": "stderr",
     "output_type": "stream",
     "text": [
      "/var/folders/bn/cbv7ftpx4cx24wl0rz52v1z00000gn/T/ipykernel_87493/3088555579.py:3: FutureWarning:\n",
      "\n",
      "The default value of regex will change from True to False in a future version. In addition, single character regular expressions will *not* be treated as literal strings when regex=True.\n",
      "\n",
      "/var/folders/bn/cbv7ftpx4cx24wl0rz52v1z00000gn/T/ipykernel_87493/3088555579.py:5: FutureWarning:\n",
      "\n",
      "The default value of regex will change from True to False in a future version. In addition, single character regular expressions will *not* be treated as literal strings when regex=True.\n",
      "\n",
      "/var/folders/bn/cbv7ftpx4cx24wl0rz52v1z00000gn/T/ipykernel_87493/3088555579.py:7: FutureWarning:\n",
      "\n",
      "The default value of regex will change from True to False in a future version. In addition, single character regular expressions will *not* be treated as literal strings when regex=True.\n",
      "\n"
     ]
    },
    {
     "data": {
      "text/html": [
       "<div>\n",
       "<style scoped>\n",
       "    .dataframe tbody tr th:only-of-type {\n",
       "        vertical-align: middle;\n",
       "    }\n",
       "\n",
       "    .dataframe tbody tr th {\n",
       "        vertical-align: top;\n",
       "    }\n",
       "\n",
       "    .dataframe thead th {\n",
       "        text-align: right;\n",
       "    }\n",
       "</style>\n",
       "<table border=\"1\" class=\"dataframe\">\n",
       "  <thead>\n",
       "    <tr style=\"text-align: right;\">\n",
       "      <th>4</th>\n",
       "      <th>Occupations</th>\n",
       "      <th>Total_workers</th>\n",
       "      <th>Total_weekly_earnings</th>\n",
       "      <th>M_workers</th>\n",
       "      <th>M_weekly_earnings</th>\n",
       "      <th>F_workers</th>\n",
       "      <th>F_weekly_earnings</th>\n",
       "      <th>Total_Annual_Salary</th>\n",
       "      <th>Male_Annual_Salary</th>\n",
       "      <th>Female_Annual_Salary</th>\n",
       "    </tr>\n",
       "  </thead>\n",
       "  <tbody>\n",
       "    <tr>\n",
       "      <th>0</th>\n",
       "      <td>Total, full-time wage and salary workers</td>\n",
       "      <td>118869</td>\n",
       "      <td>1059</td>\n",
       "      <td>65554</td>\n",
       "      <td>1154</td>\n",
       "      <td>53315</td>\n",
       "      <td>958</td>\n",
       "      <td>55068</td>\n",
       "      <td>60008</td>\n",
       "      <td>49816</td>\n",
       "    </tr>\n",
       "    <tr>\n",
       "      <th>1</th>\n",
       "      <td>Management, professional, and related occupations</td>\n",
       "      <td>53962</td>\n",
       "      <td>1465</td>\n",
       "      <td>26229</td>\n",
       "      <td>1726</td>\n",
       "      <td>27733</td>\n",
       "      <td>1284</td>\n",
       "      <td>76180</td>\n",
       "      <td>89752</td>\n",
       "      <td>66768</td>\n",
       "    </tr>\n",
       "    <tr>\n",
       "      <th>2</th>\n",
       "      <td>Management, business, and financial operations...</td>\n",
       "      <td>22707</td>\n",
       "      <td>1569</td>\n",
       "      <td>12079</td>\n",
       "      <td>1772</td>\n",
       "      <td>10629</td>\n",
       "      <td>1409</td>\n",
       "      <td>81588</td>\n",
       "      <td>92144</td>\n",
       "      <td>73268</td>\n",
       "    </tr>\n",
       "    <tr>\n",
       "      <th>3</th>\n",
       "      <td>Management occupations</td>\n",
       "      <td>14909</td>\n",
       "      <td>1658</td>\n",
       "      <td>8532</td>\n",
       "      <td>1868</td>\n",
       "      <td>6376</td>\n",
       "      <td>1457</td>\n",
       "      <td>86216</td>\n",
       "      <td>97136</td>\n",
       "      <td>75764</td>\n",
       "    </tr>\n",
       "    <tr>\n",
       "      <th>4</th>\n",
       "      <td>Chief executives</td>\n",
       "      <td>1249</td>\n",
       "      <td>2701</td>\n",
       "      <td>878</td>\n",
       "      <td>2908</td>\n",
       "      <td>370</td>\n",
       "      <td>2277</td>\n",
       "      <td>140452</td>\n",
       "      <td>151216</td>\n",
       "      <td>118404</td>\n",
       "    </tr>\n",
       "  </tbody>\n",
       "</table>\n",
       "</div>"
      ],
      "text/plain": [
       "4                                        Occupations  Total_workers  \\\n",
       "0           Total, full-time wage and salary workers         118869   \n",
       "1  Management, professional, and related occupations          53962   \n",
       "2  Management, business, and financial operations...          22707   \n",
       "3                             Management occupations          14909   \n",
       "4                                   Chief executives           1249   \n",
       "\n",
       "4  Total_weekly_earnings  M_workers  M_weekly_earnings  F_workers  \\\n",
       "0                   1059      65554               1154      53315   \n",
       "1                   1465      26229               1726      27733   \n",
       "2                   1569      12079               1772      10629   \n",
       "3                   1658       8532               1868       6376   \n",
       "4                   2701        878               2908        370   \n",
       "\n",
       "4  F_weekly_earnings  Total_Annual_Salary  Male_Annual_Salary  \\\n",
       "0                958                55068               60008   \n",
       "1               1284                76180               89752   \n",
       "2               1409                81588               92144   \n",
       "3               1457                86216               97136   \n",
       "4               2277               140452              151216   \n",
       "\n",
       "4  Female_Annual_Salary  \n",
       "0                 49816  \n",
       "1                 66768  \n",
       "2                 73268  \n",
       "3                 75764  \n",
       "4                118404  "
      ]
     },
     "execution_count": 120,
     "metadata": {},
     "output_type": "execute_result"
    }
   ],
   "source": [
    "# Remove commas and dollar signs from the necessary columns\n",
    "df['Total_workers'] = df['Total_workers'].str.replace(',', '').astype(int)\n",
    "df['Total_weekly_earnings'] = df['Total_weekly_earnings'].str.replace(',', '').str.replace('$', '').astype(int)\n",
    "df['M_workers'] = df['M_workers'].str.replace(',', '').astype(int)\n",
    "df['M_weekly_earnings'] = df['M_weekly_earnings'].str.replace(',', '').str.replace('$', '').astype(int)\n",
    "df['F_workers'] = df['F_workers'].str.replace(',', '').astype(int)\n",
    "df['F_weekly_earnings'] = df['F_weekly_earnings'].str.replace(',', '').str.replace('$', '').astype(int)\n",
    "\n",
    "# Create the new columns for annual salaries\n",
    "df['Total_Annual_Salary'] = df['Total_weekly_earnings'] * 52\n",
    "df['Male_Annual_Salary'] = df['M_weekly_earnings'] * 52\n",
    "df['Female_Annual_Salary'] = df['F_weekly_earnings'] * 52\n",
    "\n",
    "# Print the updated DataFrame\n",
    "df.head()"
   ]
  },
  {
   "cell_type": "code",
   "execution_count": 191,
   "id": "f7524fbe",
   "metadata": {},
   "outputs": [
    {
     "data": {
      "text/html": [
       "<div>\n",
       "<style scoped>\n",
       "    .dataframe tbody tr th:only-of-type {\n",
       "        vertical-align: middle;\n",
       "    }\n",
       "\n",
       "    .dataframe tbody tr th {\n",
       "        vertical-align: top;\n",
       "    }\n",
       "\n",
       "    .dataframe thead th {\n",
       "        text-align: right;\n",
       "    }\n",
       "</style>\n",
       "<table border=\"1\" class=\"dataframe\">\n",
       "  <thead>\n",
       "    <tr style=\"text-align: right;\">\n",
       "      <th>4</th>\n",
       "      <th>Occupations</th>\n",
       "      <th>Total_workers</th>\n",
       "      <th>Total_weekly_earnings</th>\n",
       "      <th>M_workers</th>\n",
       "      <th>M_weekly_earnings</th>\n",
       "      <th>F_workers</th>\n",
       "      <th>F_weekly_earnings</th>\n",
       "      <th>Total_Annual_Salary</th>\n",
       "      <th>Male_Annual_Salary</th>\n",
       "      <th>Female_Annual_Salary</th>\n",
       "      <th>Income_Class</th>\n",
       "      <th>Year</th>\n",
       "    </tr>\n",
       "  </thead>\n",
       "  <tbody>\n",
       "    <tr>\n",
       "      <th>0</th>\n",
       "      <td>Total, full-time wage and salary workers</td>\n",
       "      <td>118869</td>\n",
       "      <td>1059</td>\n",
       "      <td>65554</td>\n",
       "      <td>1154</td>\n",
       "      <td>53315</td>\n",
       "      <td>958</td>\n",
       "      <td>55068</td>\n",
       "      <td>60008</td>\n",
       "      <td>49816</td>\n",
       "      <td>Middle Class</td>\n",
       "      <td>2022</td>\n",
       "    </tr>\n",
       "    <tr>\n",
       "      <th>1</th>\n",
       "      <td>Management, professional, and related occupations</td>\n",
       "      <td>53962</td>\n",
       "      <td>1465</td>\n",
       "      <td>26229</td>\n",
       "      <td>1726</td>\n",
       "      <td>27733</td>\n",
       "      <td>1284</td>\n",
       "      <td>76180</td>\n",
       "      <td>89752</td>\n",
       "      <td>66768</td>\n",
       "      <td>Upper Middle Class</td>\n",
       "      <td>2022</td>\n",
       "    </tr>\n",
       "    <tr>\n",
       "      <th>2</th>\n",
       "      <td>Management, business, and financial operations...</td>\n",
       "      <td>22707</td>\n",
       "      <td>1569</td>\n",
       "      <td>12079</td>\n",
       "      <td>1772</td>\n",
       "      <td>10629</td>\n",
       "      <td>1409</td>\n",
       "      <td>81588</td>\n",
       "      <td>92144</td>\n",
       "      <td>73268</td>\n",
       "      <td>Upper Middle Class</td>\n",
       "      <td>2022</td>\n",
       "    </tr>\n",
       "    <tr>\n",
       "      <th>3</th>\n",
       "      <td>Management occupations</td>\n",
       "      <td>14909</td>\n",
       "      <td>1658</td>\n",
       "      <td>8532</td>\n",
       "      <td>1868</td>\n",
       "      <td>6376</td>\n",
       "      <td>1457</td>\n",
       "      <td>86216</td>\n",
       "      <td>97136</td>\n",
       "      <td>75764</td>\n",
       "      <td>Upper Middle Class</td>\n",
       "      <td>2022</td>\n",
       "    </tr>\n",
       "    <tr>\n",
       "      <th>4</th>\n",
       "      <td>Chief executives</td>\n",
       "      <td>1249</td>\n",
       "      <td>2701</td>\n",
       "      <td>878</td>\n",
       "      <td>2908</td>\n",
       "      <td>370</td>\n",
       "      <td>2277</td>\n",
       "      <td>140452</td>\n",
       "      <td>151216</td>\n",
       "      <td>118404</td>\n",
       "      <td>Upper Class</td>\n",
       "      <td>2022</td>\n",
       "    </tr>\n",
       "  </tbody>\n",
       "</table>\n",
       "</div>"
      ],
      "text/plain": [
       "4                                        Occupations  Total_workers  \\\n",
       "0           Total, full-time wage and salary workers         118869   \n",
       "1  Management, professional, and related occupations          53962   \n",
       "2  Management, business, and financial operations...          22707   \n",
       "3                             Management occupations          14909   \n",
       "4                                   Chief executives           1249   \n",
       "\n",
       "4  Total_weekly_earnings  M_workers  M_weekly_earnings  F_workers  \\\n",
       "0                   1059      65554               1154      53315   \n",
       "1                   1465      26229               1726      27733   \n",
       "2                   1569      12079               1772      10629   \n",
       "3                   1658       8532               1868       6376   \n",
       "4                   2701        878               2908        370   \n",
       "\n",
       "4  F_weekly_earnings  Total_Annual_Salary  Male_Annual_Salary  \\\n",
       "0                958                55068               60008   \n",
       "1               1284                76180               89752   \n",
       "2               1409                81588               92144   \n",
       "3               1457                86216               97136   \n",
       "4               2277               140452              151216   \n",
       "\n",
       "4  Female_Annual_Salary        Income_Class  Year  \n",
       "0                 49816        Middle Class  2022  \n",
       "1                 66768  Upper Middle Class  2022  \n",
       "2                 73268  Upper Middle Class  2022  \n",
       "3                 75764  Upper Middle Class  2022  \n",
       "4                118404         Upper Class  2022  "
      ]
     },
     "execution_count": 191,
     "metadata": {},
     "output_type": "execute_result"
    }
   ],
   "source": [
    "# Create the Income_Class column based on Total Annual Salary\n",
    "income_bins = [0, 30000, 50000, 70000, 90000, float('inf')]\n",
    "income_labels = ['Lower Class', 'Lower Middle Class', 'Middle Class', 'Upper Middle Class', 'Upper Class']\n",
    "df['Income_Class'] = pd.cut(df['Total_Annual_Salary'], bins=income_bins, labels=income_labels)\n",
    "\n",
    "# Display the DataFrame\n",
    "df['Year'] = 2022\n",
    "df.head()"
   ]
  },
  {
   "cell_type": "code",
   "execution_count": 175,
   "id": "4ebb4350",
   "metadata": {},
   "outputs": [],
   "source": [
    "income_2021 = pd.read_csv('/Users/adishsundar/Desktop/AI Research/2021.csv')\n",
    "income_2020 = pd.read_csv('/Users/adishsundar/Desktop/AI Research/2020.csv')\n",
    "income_2019 = pd.read_csv('/Users/adishsundar/Desktop/AI Research/2019.csv')\n",
    "income_2018 = pd.read_csv('/Users/adishsundar/Desktop/AI Research/2018.csv')"
   ]
  },
  {
   "cell_type": "code",
   "execution_count": 192,
   "id": "e1516f5d",
   "metadata": {},
   "outputs": [
    {
     "name": "stderr",
     "output_type": "stream",
     "text": [
      "/var/folders/bn/cbv7ftpx4cx24wl0rz52v1z00000gn/T/ipykernel_87493/3812538851.py:23: FutureWarning:\n",
      "\n",
      "The default value of regex will change from True to False in a future version. In addition, single character regular expressions will *not* be treated as literal strings when regex=True.\n",
      "\n",
      "/var/folders/bn/cbv7ftpx4cx24wl0rz52v1z00000gn/T/ipykernel_87493/3812538851.py:25: FutureWarning:\n",
      "\n",
      "The default value of regex will change from True to False in a future version. In addition, single character regular expressions will *not* be treated as literal strings when regex=True.\n",
      "\n",
      "/var/folders/bn/cbv7ftpx4cx24wl0rz52v1z00000gn/T/ipykernel_87493/3812538851.py:27: FutureWarning:\n",
      "\n",
      "The default value of regex will change from True to False in a future version. In addition, single character regular expressions will *not* be treated as literal strings when regex=True.\n",
      "\n"
     ]
    },
    {
     "data": {
      "text/html": [
       "<div>\n",
       "<style scoped>\n",
       "    .dataframe tbody tr th:only-of-type {\n",
       "        vertical-align: middle;\n",
       "    }\n",
       "\n",
       "    .dataframe tbody tr th {\n",
       "        vertical-align: top;\n",
       "    }\n",
       "\n",
       "    .dataframe thead th {\n",
       "        text-align: right;\n",
       "    }\n",
       "</style>\n",
       "<table border=\"1\" class=\"dataframe\">\n",
       "  <thead>\n",
       "    <tr style=\"text-align: right;\">\n",
       "      <th>4</th>\n",
       "      <th>Occupations</th>\n",
       "      <th>Total_workers</th>\n",
       "      <th>Total_weekly_earnings</th>\n",
       "      <th>M_workers</th>\n",
       "      <th>M_weekly_earnings</th>\n",
       "      <th>F_workers</th>\n",
       "      <th>F_weekly_earnings</th>\n",
       "      <th>Total_Annual_Salary</th>\n",
       "      <th>Male_Annual_Salary</th>\n",
       "      <th>Female_Annual_Salary</th>\n",
       "      <th>Income_Class</th>\n",
       "      <th>Year</th>\n",
       "    </tr>\n",
       "  </thead>\n",
       "  <tbody>\n",
       "    <tr>\n",
       "      <th>0</th>\n",
       "      <td>Total, full-time wage and salary workers</td>\n",
       "      <td>114316</td>\n",
       "      <td>998</td>\n",
       "      <td>62928</td>\n",
       "      <td>1097</td>\n",
       "      <td>51388</td>\n",
       "      <td>912</td>\n",
       "      <td>51896</td>\n",
       "      <td>57044</td>\n",
       "      <td>47424</td>\n",
       "      <td>Middle Class</td>\n",
       "      <td>2021</td>\n",
       "    </tr>\n",
       "    <tr>\n",
       "      <th>1</th>\n",
       "      <td>Management, professional, and related occupations</td>\n",
       "      <td>51166</td>\n",
       "      <td>1390</td>\n",
       "      <td>24561</td>\n",
       "      <td>1609</td>\n",
       "      <td>26605</td>\n",
       "      <td>1222</td>\n",
       "      <td>72280</td>\n",
       "      <td>83668</td>\n",
       "      <td>63544</td>\n",
       "      <td>Upper Middle Class</td>\n",
       "      <td>2021</td>\n",
       "    </tr>\n",
       "    <tr>\n",
       "      <th>2</th>\n",
       "      <td>Management, business, and financial operations...</td>\n",
       "      <td>21529</td>\n",
       "      <td>1482</td>\n",
       "      <td>11231</td>\n",
       "      <td>1672</td>\n",
       "      <td>10299</td>\n",
       "      <td>1306</td>\n",
       "      <td>77064</td>\n",
       "      <td>86944</td>\n",
       "      <td>67912</td>\n",
       "      <td>Upper Middle Class</td>\n",
       "      <td>2021</td>\n",
       "    </tr>\n",
       "    <tr>\n",
       "      <th>3</th>\n",
       "      <td>Management occupations</td>\n",
       "      <td>13942</td>\n",
       "      <td>1546</td>\n",
       "      <td>7826</td>\n",
       "      <td>1752</td>\n",
       "      <td>6116</td>\n",
       "      <td>1341</td>\n",
       "      <td>80392</td>\n",
       "      <td>91104</td>\n",
       "      <td>69732</td>\n",
       "      <td>Upper Middle Class</td>\n",
       "      <td>2021</td>\n",
       "    </tr>\n",
       "    <tr>\n",
       "      <th>4</th>\n",
       "      <td>Chief executives</td>\n",
       "      <td>1151</td>\n",
       "      <td>2473</td>\n",
       "      <td>803</td>\n",
       "      <td>2721</td>\n",
       "      <td>348</td>\n",
       "      <td>1904</td>\n",
       "      <td>128596</td>\n",
       "      <td>141492</td>\n",
       "      <td>99008</td>\n",
       "      <td>Upper Class</td>\n",
       "      <td>2021</td>\n",
       "    </tr>\n",
       "  </tbody>\n",
       "</table>\n",
       "</div>"
      ],
      "text/plain": [
       "4                                        Occupations  Total_workers  \\\n",
       "0           Total, full-time wage and salary workers         114316   \n",
       "1  Management, professional, and related occupations          51166   \n",
       "2  Management, business, and financial operations...          21529   \n",
       "3                             Management occupations          13942   \n",
       "4                                   Chief executives           1151   \n",
       "\n",
       "4  Total_weekly_earnings  M_workers  M_weekly_earnings  F_workers  \\\n",
       "0                    998      62928               1097      51388   \n",
       "1                   1390      24561               1609      26605   \n",
       "2                   1482      11231               1672      10299   \n",
       "3                   1546       7826               1752       6116   \n",
       "4                   2473        803               2721        348   \n",
       "\n",
       "4  F_weekly_earnings  Total_Annual_Salary  Male_Annual_Salary  \\\n",
       "0                912                51896               57044   \n",
       "1               1222                72280               83668   \n",
       "2               1306                77064               86944   \n",
       "3               1341                80392               91104   \n",
       "4               1904               128596              141492   \n",
       "\n",
       "4  Female_Annual_Salary        Income_Class  Year  \n",
       "0                 47424        Middle Class  2021  \n",
       "1                 63544  Upper Middle Class  2021  \n",
       "2                 67912  Upper Middle Class  2021  \n",
       "3                 69732  Upper Middle Class  2021  \n",
       "4                 99008         Upper Class  2021  "
      ]
     },
     "execution_count": 192,
     "metadata": {},
     "output_type": "execute_result"
    }
   ],
   "source": [
    "df_2 = income_2021.copy()\n",
    "\n",
    "# Set the first non-null row as the column headers\n",
    "new_header = df_2.iloc[4]\n",
    "df_2 = df_2[5:]\n",
    "df_2.columns = new_header\n",
    "\n",
    "# Change first column name to Occupations\n",
    "df_2.rename(columns={df_2.columns[0]: 'Occupations'}, inplace=True)\n",
    "df_2 = df_2.iloc[:, :-2]\n",
    "\n",
    "# Remove rows with '-' values\n",
    "df_2 = df_2.replace('–', np.nan)\n",
    "\n",
    "# Remove rows with all NaN values\n",
    "df_2.dropna(inplace=True)\n",
    "\n",
    "# Reset the index\n",
    "df_2.reset_index(drop=True, inplace=True)\n",
    "\n",
    "# Remove commas and dollar signs from the necessary columns\n",
    "df_2['Total_workers'] = df_2['Total_workers'].str.replace(',', '').astype(int)\n",
    "df_2['Total_weekly_earnings'] = df_2['Total_weekly_earnings'].str.replace(',', '').str.replace('$', '').astype(int)\n",
    "df_2['M_workers'] = df_2['M_workers'].str.replace(',', '').astype(int)\n",
    "df_2['M_weekly_earnings'] = df_2['M_weekly_earnings'].str.replace(',', '').str.replace('$', '').astype(int)\n",
    "df_2['F_workers'] = df_2['F_workers'].str.replace(',', '').astype(int)\n",
    "df_2['F_weekly_earnings'] = df_2['F_weekly_earnings'].str.replace(',', '').str.replace('$', '').astype(int)\n",
    "\n",
    "# Create the new columns for annual salaries\n",
    "df_2['Total_Annual_Salary'] = df_2['Total_weekly_earnings'] * 52\n",
    "df_2['Male_Annual_Salary'] = df_2['M_weekly_earnings'] * 52\n",
    "df_2['Female_Annual_Salary'] = df_2['F_weekly_earnings'] * 52\n",
    "\n",
    "# Create the Income_Class column based on Total Annual Salary\n",
    "income_bins = [0, 30000, 50000, 70000, 90000, float('inf')]\n",
    "income_labels = ['Lower Class', 'Lower Middle Class', 'Middle Class', 'Upper Middle Class', 'Upper Class']\n",
    "df_2['Income_Class'] = pd.cut(df_2['Total_Annual_Salary'], bins=income_bins, labels=income_labels)\n",
    "\n",
    "# Print the updated DataFrame\n",
    "df_2['Year'] = 2021\n",
    "df_2.head()"
   ]
  },
  {
   "cell_type": "code",
   "execution_count": 193,
   "id": "2311bec0",
   "metadata": {},
   "outputs": [
    {
     "name": "stderr",
     "output_type": "stream",
     "text": [
      "/var/folders/bn/cbv7ftpx4cx24wl0rz52v1z00000gn/T/ipykernel_87493/1381171167.py:24: FutureWarning:\n",
      "\n",
      "The default value of regex will change from True to False in a future version. In addition, single character regular expressions will *not* be treated as literal strings when regex=True.\n",
      "\n",
      "/var/folders/bn/cbv7ftpx4cx24wl0rz52v1z00000gn/T/ipykernel_87493/1381171167.py:26: FutureWarning:\n",
      "\n",
      "The default value of regex will change from True to False in a future version. In addition, single character regular expressions will *not* be treated as literal strings when regex=True.\n",
      "\n",
      "/var/folders/bn/cbv7ftpx4cx24wl0rz52v1z00000gn/T/ipykernel_87493/1381171167.py:28: FutureWarning:\n",
      "\n",
      "The default value of regex will change from True to False in a future version. In addition, single character regular expressions will *not* be treated as literal strings when regex=True.\n",
      "\n"
     ]
    },
    {
     "data": {
      "text/html": [
       "<div>\n",
       "<style scoped>\n",
       "    .dataframe tbody tr th:only-of-type {\n",
       "        vertical-align: middle;\n",
       "    }\n",
       "\n",
       "    .dataframe tbody tr th {\n",
       "        vertical-align: top;\n",
       "    }\n",
       "\n",
       "    .dataframe thead th {\n",
       "        text-align: right;\n",
       "    }\n",
       "</style>\n",
       "<table border=\"1\" class=\"dataframe\">\n",
       "  <thead>\n",
       "    <tr style=\"text-align: right;\">\n",
       "      <th>4</th>\n",
       "      <th>Occupations</th>\n",
       "      <th>Total_workers</th>\n",
       "      <th>Total_weekly_earnings</th>\n",
       "      <th>M_workers</th>\n",
       "      <th>M_weekly_earnings</th>\n",
       "      <th>F_workers</th>\n",
       "      <th>F_weekly_earnings</th>\n",
       "      <th>Total_Annual_Salary</th>\n",
       "      <th>Male_Annual_Salary</th>\n",
       "      <th>Female_Annual_Salary</th>\n",
       "      <th>Income_Class</th>\n",
       "      <th>Year</th>\n",
       "    </tr>\n",
       "  </thead>\n",
       "  <tbody>\n",
       "    <tr>\n",
       "      <th>0</th>\n",
       "      <td>Total, full-time wage and salary workers</td>\n",
       "      <td>110387</td>\n",
       "      <td>984</td>\n",
       "      <td>60911</td>\n",
       "      <td>1082</td>\n",
       "      <td>49476</td>\n",
       "      <td>891</td>\n",
       "      <td>51168</td>\n",
       "      <td>56264</td>\n",
       "      <td>46332</td>\n",
       "      <td>Middle Class</td>\n",
       "      <td>2020</td>\n",
       "    </tr>\n",
       "    <tr>\n",
       "      <th>1</th>\n",
       "      <td>Management, professional, and related occupations</td>\n",
       "      <td>50023</td>\n",
       "      <td>1356</td>\n",
       "      <td>24090</td>\n",
       "      <td>1578</td>\n",
       "      <td>25933</td>\n",
       "      <td>1164</td>\n",
       "      <td>70512</td>\n",
       "      <td>82056</td>\n",
       "      <td>60528</td>\n",
       "      <td>Upper Middle Class</td>\n",
       "      <td>2020</td>\n",
       "    </tr>\n",
       "    <tr>\n",
       "      <th>2</th>\n",
       "      <td>Management, business, and financial operations...</td>\n",
       "      <td>20811</td>\n",
       "      <td>1461</td>\n",
       "      <td>11082</td>\n",
       "      <td>1667</td>\n",
       "      <td>9729</td>\n",
       "      <td>1274</td>\n",
       "      <td>75972</td>\n",
       "      <td>86684</td>\n",
       "      <td>66248</td>\n",
       "      <td>Upper Middle Class</td>\n",
       "      <td>2020</td>\n",
       "    </tr>\n",
       "    <tr>\n",
       "      <th>3</th>\n",
       "      <td>Management occupations</td>\n",
       "      <td>13517</td>\n",
       "      <td>1541</td>\n",
       "      <td>7770</td>\n",
       "      <td>1737</td>\n",
       "      <td>5747</td>\n",
       "      <td>1347</td>\n",
       "      <td>80132</td>\n",
       "      <td>90324</td>\n",
       "      <td>70044</td>\n",
       "      <td>Upper Middle Class</td>\n",
       "      <td>2020</td>\n",
       "    </tr>\n",
       "    <tr>\n",
       "      <th>4</th>\n",
       "      <td>Chief executives</td>\n",
       "      <td>1157</td>\n",
       "      <td>2402</td>\n",
       "      <td>794</td>\n",
       "      <td>2712</td>\n",
       "      <td>363</td>\n",
       "      <td>2051</td>\n",
       "      <td>124904</td>\n",
       "      <td>141024</td>\n",
       "      <td>106652</td>\n",
       "      <td>Upper Class</td>\n",
       "      <td>2020</td>\n",
       "    </tr>\n",
       "  </tbody>\n",
       "</table>\n",
       "</div>"
      ],
      "text/plain": [
       "4                                        Occupations  Total_workers  \\\n",
       "0           Total, full-time wage and salary workers         110387   \n",
       "1  Management, professional, and related occupations          50023   \n",
       "2  Management, business, and financial operations...          20811   \n",
       "3                             Management occupations          13517   \n",
       "4                                   Chief executives           1157   \n",
       "\n",
       "4  Total_weekly_earnings  M_workers  M_weekly_earnings  F_workers  \\\n",
       "0                    984      60911               1082      49476   \n",
       "1                   1356      24090               1578      25933   \n",
       "2                   1461      11082               1667       9729   \n",
       "3                   1541       7770               1737       5747   \n",
       "4                   2402        794               2712        363   \n",
       "\n",
       "4  F_weekly_earnings  Total_Annual_Salary  Male_Annual_Salary  \\\n",
       "0                891                51168               56264   \n",
       "1               1164                70512               82056   \n",
       "2               1274                75972               86684   \n",
       "3               1347                80132               90324   \n",
       "4               2051               124904              141024   \n",
       "\n",
       "4  Female_Annual_Salary        Income_Class  Year  \n",
       "0                 46332        Middle Class  2020  \n",
       "1                 60528  Upper Middle Class  2020  \n",
       "2                 66248  Upper Middle Class  2020  \n",
       "3                 70044  Upper Middle Class  2020  \n",
       "4                106652         Upper Class  2020  "
      ]
     },
     "execution_count": 193,
     "metadata": {},
     "output_type": "execute_result"
    }
   ],
   "source": [
    "df_3 = income_2020.copy()\n",
    "\n",
    "# Set the first non-null row as the column headers\n",
    "new_header = df_3.iloc[4]\n",
    "df_3 = df_3[5:]\n",
    "df_3.columns = new_header\n",
    "\n",
    "# Change first column name to Occupations\n",
    "df_3.rename(columns={df_3.columns[0]: 'Occupations'}, inplace=True)\n",
    "\n",
    "# Remove rows with '-' values\n",
    "df_3 = df_3.replace('–', np.nan)\n",
    "\n",
    "# Remove rows with all NaN values\n",
    "df_3.dropna(inplace=True)\n",
    "\n",
    "# Reset the index\n",
    "df_3.reset_index(drop=True, inplace=True)\n",
    "\n",
    "df_3.head()\n",
    "\n",
    "# Remove commas and dollar signs from the necessary columns\n",
    "df_3['Total_workers'] = df_3['Total_workers'].str.replace(',', '').astype(int)\n",
    "df_3['Total_weekly_earnings'] = df_3['Total_weekly_earnings'].str.replace(',', '').str.replace('$', '').astype(int)\n",
    "df_3['M_workers'] = df_3['M_workers'].str.replace(',', '').astype(int)\n",
    "df_3['M_weekly_earnings'] = df_3['M_weekly_earnings'].str.replace(',', '').str.replace('$', '').astype(int)\n",
    "df_3['F_workers'] = df_3['F_workers'].str.replace(',', '').astype(int)\n",
    "df_3['F_weekly_earnings'] = df_3['F_weekly_earnings'].str.replace(',', '').str.replace('$', '').astype(int)\n",
    "\n",
    "# Create the new columns for annual salaries\n",
    "df_3['Total_Annual_Salary'] = df_3['Total_weekly_earnings'] * 52\n",
    "df_3['Male_Annual_Salary'] = df_3['M_weekly_earnings'] * 52\n",
    "df_3['Female_Annual_Salary'] = df_3['F_weekly_earnings'] * 52\n",
    "\n",
    "# Create the Income_Class column based on Total Annual Salary\n",
    "income_bins = [0, 30000, 50000, 70000, 90000, float('inf')]\n",
    "income_labels = ['Lower Class', 'Lower Middle Class', 'Middle Class', 'Upper Middle Class', 'Upper Class']\n",
    "df_3['Income_Class'] = pd.cut(df_3['Total_Annual_Salary'], bins=income_bins, labels=income_labels)\n",
    "\n",
    "# Print the updated DataFrame\n",
    "df_3['Year'] = 2020\n",
    "df_3.head()"
   ]
  },
  {
   "cell_type": "code",
   "execution_count": 194,
   "id": "cf883dc2",
   "metadata": {},
   "outputs": [
    {
     "name": "stderr",
     "output_type": "stream",
     "text": [
      "/var/folders/bn/cbv7ftpx4cx24wl0rz52v1z00000gn/T/ipykernel_87493/1334716522.py:22: FutureWarning:\n",
      "\n",
      "The default value of regex will change from True to False in a future version. In addition, single character regular expressions will *not* be treated as literal strings when regex=True.\n",
      "\n",
      "/var/folders/bn/cbv7ftpx4cx24wl0rz52v1z00000gn/T/ipykernel_87493/1334716522.py:24: FutureWarning:\n",
      "\n",
      "The default value of regex will change from True to False in a future version. In addition, single character regular expressions will *not* be treated as literal strings when regex=True.\n",
      "\n",
      "/var/folders/bn/cbv7ftpx4cx24wl0rz52v1z00000gn/T/ipykernel_87493/1334716522.py:26: FutureWarning:\n",
      "\n",
      "The default value of regex will change from True to False in a future version. In addition, single character regular expressions will *not* be treated as literal strings when regex=True.\n",
      "\n"
     ]
    },
    {
     "data": {
      "text/html": [
       "<div>\n",
       "<style scoped>\n",
       "    .dataframe tbody tr th:only-of-type {\n",
       "        vertical-align: middle;\n",
       "    }\n",
       "\n",
       "    .dataframe tbody tr th {\n",
       "        vertical-align: top;\n",
       "    }\n",
       "\n",
       "    .dataframe thead th {\n",
       "        text-align: right;\n",
       "    }\n",
       "</style>\n",
       "<table border=\"1\" class=\"dataframe\">\n",
       "  <thead>\n",
       "    <tr style=\"text-align: right;\">\n",
       "      <th>4</th>\n",
       "      <th>Occupations</th>\n",
       "      <th>Total_workers</th>\n",
       "      <th>Total_weekly_earnings</th>\n",
       "      <th>M_workers</th>\n",
       "      <th>M_weekly_earnings</th>\n",
       "      <th>F_workers</th>\n",
       "      <th>F_weekly_earnings</th>\n",
       "      <th>Total_Annual_Salary</th>\n",
       "      <th>Male_Annual_Salary</th>\n",
       "      <th>Female_Annual_Salary</th>\n",
       "      <th>Income_Class</th>\n",
       "      <th>Year</th>\n",
       "    </tr>\n",
       "  </thead>\n",
       "  <tbody>\n",
       "    <tr>\n",
       "      <th>0</th>\n",
       "      <td>Total, full-time wage and salary workers</td>\n",
       "      <td>117584</td>\n",
       "      <td>917</td>\n",
       "      <td>65007</td>\n",
       "      <td>1007</td>\n",
       "      <td>52577</td>\n",
       "      <td>821</td>\n",
       "      <td>47684</td>\n",
       "      <td>52364</td>\n",
       "      <td>42692</td>\n",
       "      <td>Lower Middle Class</td>\n",
       "      <td>2019</td>\n",
       "    </tr>\n",
       "    <tr>\n",
       "      <th>1</th>\n",
       "      <td>Management, professional, and related occupations</td>\n",
       "      <td>50119</td>\n",
       "      <td>1309</td>\n",
       "      <td>24260</td>\n",
       "      <td>1539</td>\n",
       "      <td>25859</td>\n",
       "      <td>1135</td>\n",
       "      <td>68068</td>\n",
       "      <td>80028</td>\n",
       "      <td>59020</td>\n",
       "      <td>Middle Class</td>\n",
       "      <td>2019</td>\n",
       "    </tr>\n",
       "    <tr>\n",
       "      <th>2</th>\n",
       "      <td>Management, business, and financial operations...</td>\n",
       "      <td>20696</td>\n",
       "      <td>1415</td>\n",
       "      <td>11111</td>\n",
       "      <td>1598</td>\n",
       "      <td>9585</td>\n",
       "      <td>1221</td>\n",
       "      <td>73580</td>\n",
       "      <td>83096</td>\n",
       "      <td>63492</td>\n",
       "      <td>Upper Middle Class</td>\n",
       "      <td>2019</td>\n",
       "    </tr>\n",
       "    <tr>\n",
       "      <th>3</th>\n",
       "      <td>Management occupations</td>\n",
       "      <td>13948</td>\n",
       "      <td>1478</td>\n",
       "      <td>8002</td>\n",
       "      <td>1659</td>\n",
       "      <td>5946</td>\n",
       "      <td>1266</td>\n",
       "      <td>76856</td>\n",
       "      <td>86268</td>\n",
       "      <td>65832</td>\n",
       "      <td>Upper Middle Class</td>\n",
       "      <td>2019</td>\n",
       "    </tr>\n",
       "    <tr>\n",
       "      <th>4</th>\n",
       "      <td>Chief executives</td>\n",
       "      <td>1113</td>\n",
       "      <td>2380</td>\n",
       "      <td>812</td>\n",
       "      <td>2509</td>\n",
       "      <td>302</td>\n",
       "      <td>2019</td>\n",
       "      <td>123760</td>\n",
       "      <td>130468</td>\n",
       "      <td>104988</td>\n",
       "      <td>Upper Class</td>\n",
       "      <td>2019</td>\n",
       "    </tr>\n",
       "  </tbody>\n",
       "</table>\n",
       "</div>"
      ],
      "text/plain": [
       "4                                        Occupations  Total_workers  \\\n",
       "0           Total, full-time wage and salary workers         117584   \n",
       "1  Management, professional, and related occupations          50119   \n",
       "2  Management, business, and financial operations...          20696   \n",
       "3                             Management occupations          13948   \n",
       "4                                   Chief executives           1113   \n",
       "\n",
       "4  Total_weekly_earnings  M_workers  M_weekly_earnings  F_workers  \\\n",
       "0                    917      65007               1007      52577   \n",
       "1                   1309      24260               1539      25859   \n",
       "2                   1415      11111               1598       9585   \n",
       "3                   1478       8002               1659       5946   \n",
       "4                   2380        812               2509        302   \n",
       "\n",
       "4  F_weekly_earnings  Total_Annual_Salary  Male_Annual_Salary  \\\n",
       "0                821                47684               52364   \n",
       "1               1135                68068               80028   \n",
       "2               1221                73580               83096   \n",
       "3               1266                76856               86268   \n",
       "4               2019               123760              130468   \n",
       "\n",
       "4  Female_Annual_Salary        Income_Class  Year  \n",
       "0                 42692  Lower Middle Class  2019  \n",
       "1                 59020        Middle Class  2019  \n",
       "2                 63492  Upper Middle Class  2019  \n",
       "3                 65832  Upper Middle Class  2019  \n",
       "4                104988         Upper Class  2019  "
      ]
     },
     "execution_count": 194,
     "metadata": {},
     "output_type": "execute_result"
    }
   ],
   "source": [
    "df_4 = income_2019.copy()\n",
    "\n",
    "# Set the first non-null row as the column headers\n",
    "new_header = df_4.iloc[4]\n",
    "df_4 = df_4[5:]\n",
    "df_4.columns = new_header\n",
    "\n",
    "# Change first column name to Occupations\n",
    "df_4.rename(columns={df_4.columns[0]: 'Occupations'}, inplace=True)\n",
    "\n",
    "# Remove rows with '-' values\n",
    "df_4 = df_4.replace('–', np.nan)\n",
    "\n",
    "# Remove rows with all NaN values\n",
    "df_4.dropna(inplace=True)\n",
    "\n",
    "# Reset the index\n",
    "df_4.reset_index(drop=True, inplace=True)\n",
    "\n",
    "# Remove commas and dollar signs from the necessary columns\n",
    "df_4['Total_workers'] = df_4['Total_workers'].str.replace(',', '').astype(int)\n",
    "df_4['Total_weekly_earnings'] = df_4['Total_weekly_earnings'].str.replace(',', '').str.replace('$', '').astype(int)\n",
    "df_4['M_workers'] = df_4['M_workers'].str.replace(',', '').astype(int)\n",
    "df_4['M_weekly_earnings'] = df_4['M_weekly_earnings'].str.replace(',', '').str.replace('$', '').astype(int)\n",
    "df_4['F_workers'] = df_4['F_workers'].str.replace(',', '').astype(int)\n",
    "df_4['F_weekly_earnings'] = df_4['F_weekly_earnings'].str.replace(',', '').str.replace('$', '').astype(int)\n",
    "\n",
    "# Create the new columns for annual salaries\n",
    "df_4['Total_Annual_Salary'] = df_4['Total_weekly_earnings'] * 52\n",
    "df_4['Male_Annual_Salary'] = df_4['M_weekly_earnings'] * 52\n",
    "df_4['Female_Annual_Salary'] = df_4['F_weekly_earnings'] * 52\n",
    "\n",
    "# Create the Income_Class column based on Total Annual Salary\n",
    "income_bins = [0, 30000, 50000, 70000, 90000, float('inf')]\n",
    "income_labels = ['Lower Class', 'Lower Middle Class', 'Middle Class', 'Upper Middle Class', 'Upper Class']\n",
    "df_4['Income_Class'] = pd.cut(df_4['Total_Annual_Salary'], bins=income_bins, labels=income_labels)\n",
    "\n",
    "# Print the updated DataFrame\n",
    "df_4['Year'] = 2019\n",
    "df_4.head()"
   ]
  },
  {
   "cell_type": "code",
   "execution_count": 195,
   "id": "68594ab3",
   "metadata": {},
   "outputs": [
    {
     "name": "stdout",
     "output_type": "stream",
     "text": [
      "Index(['Occupations', 'Total_workers', 'Total_weekly_earnings', ' M_workers',\n",
      "       'M_weekly_earnings', 'F_workers', 'F_weekly_earnings'],\n",
      "      dtype='object', name=4)\n"
     ]
    },
    {
     "name": "stderr",
     "output_type": "stream",
     "text": [
      "/var/folders/bn/cbv7ftpx4cx24wl0rz52v1z00000gn/T/ipykernel_87493/3682398751.py:24: FutureWarning:\n",
      "\n",
      "The default value of regex will change from True to False in a future version. In addition, single character regular expressions will *not* be treated as literal strings when regex=True.\n",
      "\n",
      "/var/folders/bn/cbv7ftpx4cx24wl0rz52v1z00000gn/T/ipykernel_87493/3682398751.py:26: FutureWarning:\n",
      "\n",
      "The default value of regex will change from True to False in a future version. In addition, single character regular expressions will *not* be treated as literal strings when regex=True.\n",
      "\n",
      "/var/folders/bn/cbv7ftpx4cx24wl0rz52v1z00000gn/T/ipykernel_87493/3682398751.py:28: FutureWarning:\n",
      "\n",
      "The default value of regex will change from True to False in a future version. In addition, single character regular expressions will *not* be treated as literal strings when regex=True.\n",
      "\n"
     ]
    },
    {
     "data": {
      "text/html": [
       "<div>\n",
       "<style scoped>\n",
       "    .dataframe tbody tr th:only-of-type {\n",
       "        vertical-align: middle;\n",
       "    }\n",
       "\n",
       "    .dataframe tbody tr th {\n",
       "        vertical-align: top;\n",
       "    }\n",
       "\n",
       "    .dataframe thead th {\n",
       "        text-align: right;\n",
       "    }\n",
       "</style>\n",
       "<table border=\"1\" class=\"dataframe\">\n",
       "  <thead>\n",
       "    <tr style=\"text-align: right;\">\n",
       "      <th>4</th>\n",
       "      <th>Occupations</th>\n",
       "      <th>Total_workers</th>\n",
       "      <th>Total_weekly_earnings</th>\n",
       "      <th>M_workers</th>\n",
       "      <th>M_weekly_earnings</th>\n",
       "      <th>F_workers</th>\n",
       "      <th>F_weekly_earnings</th>\n",
       "      <th>M_workers</th>\n",
       "      <th>Total_Annual_Salary</th>\n",
       "      <th>Male_Annual_Salary</th>\n",
       "      <th>Female_Annual_Salary</th>\n",
       "      <th>Income_Class</th>\n",
       "      <th>Year</th>\n",
       "    </tr>\n",
       "  </thead>\n",
       "  <tbody>\n",
       "    <tr>\n",
       "      <th>0</th>\n",
       "      <td>Total, full-time wage and salary workers</td>\n",
       "      <td>115567</td>\n",
       "      <td>886</td>\n",
       "      <td>64,142</td>\n",
       "      <td>973</td>\n",
       "      <td>51425</td>\n",
       "      <td>789</td>\n",
       "      <td>64142</td>\n",
       "      <td>46072</td>\n",
       "      <td>50596</td>\n",
       "      <td>41028</td>\n",
       "      <td>Lower Middle Class</td>\n",
       "      <td>2018</td>\n",
       "    </tr>\n",
       "    <tr>\n",
       "      <th>1</th>\n",
       "      <td>Management, professional, and related occupations</td>\n",
       "      <td>48808</td>\n",
       "      <td>1246</td>\n",
       "      <td>23,685</td>\n",
       "      <td>1468</td>\n",
       "      <td>25123</td>\n",
       "      <td>1078</td>\n",
       "      <td>23685</td>\n",
       "      <td>64792</td>\n",
       "      <td>76336</td>\n",
       "      <td>56056</td>\n",
       "      <td>Middle Class</td>\n",
       "      <td>2018</td>\n",
       "    </tr>\n",
       "    <tr>\n",
       "      <th>2</th>\n",
       "      <td>Management, business, and financial operations...</td>\n",
       "      <td>19863</td>\n",
       "      <td>1355</td>\n",
       "      <td>10,668</td>\n",
       "      <td>1537</td>\n",
       "      <td>9195</td>\n",
       "      <td>1168</td>\n",
       "      <td>10668</td>\n",
       "      <td>70460</td>\n",
       "      <td>79924</td>\n",
       "      <td>60736</td>\n",
       "      <td>Upper Middle Class</td>\n",
       "      <td>2018</td>\n",
       "    </tr>\n",
       "    <tr>\n",
       "      <th>3</th>\n",
       "      <td>Management occupations</td>\n",
       "      <td>13477</td>\n",
       "      <td>1429</td>\n",
       "      <td>7,754</td>\n",
       "      <td>1585</td>\n",
       "      <td>5724</td>\n",
       "      <td>1236</td>\n",
       "      <td>7754</td>\n",
       "      <td>74308</td>\n",
       "      <td>82420</td>\n",
       "      <td>64272</td>\n",
       "      <td>Upper Middle Class</td>\n",
       "      <td>2018</td>\n",
       "    </tr>\n",
       "    <tr>\n",
       "      <th>4</th>\n",
       "      <td>Chief executives</td>\n",
       "      <td>1098</td>\n",
       "      <td>2291</td>\n",
       "      <td>790</td>\n",
       "      <td>2488</td>\n",
       "      <td>307</td>\n",
       "      <td>1736</td>\n",
       "      <td>790</td>\n",
       "      <td>119132</td>\n",
       "      <td>129376</td>\n",
       "      <td>90272</td>\n",
       "      <td>Upper Class</td>\n",
       "      <td>2018</td>\n",
       "    </tr>\n",
       "  </tbody>\n",
       "</table>\n",
       "</div>"
      ],
      "text/plain": [
       "4                                        Occupations  Total_workers  \\\n",
       "0           Total, full-time wage and salary workers         115567   \n",
       "1  Management, professional, and related occupations          48808   \n",
       "2  Management, business, and financial operations...          19863   \n",
       "3                             Management occupations          13477   \n",
       "4                                   Chief executives           1098   \n",
       "\n",
       "4  Total_weekly_earnings  M_workers  M_weekly_earnings  F_workers  \\\n",
       "0                    886     64,142                973      51425   \n",
       "1                   1246     23,685               1468      25123   \n",
       "2                   1355     10,668               1537       9195   \n",
       "3                   1429      7,754               1585       5724   \n",
       "4                   2291        790               2488        307   \n",
       "\n",
       "4  F_weekly_earnings  M_workers  Total_Annual_Salary  Male_Annual_Salary  \\\n",
       "0                789      64142                46072               50596   \n",
       "1               1078      23685                64792               76336   \n",
       "2               1168      10668                70460               79924   \n",
       "3               1236       7754                74308               82420   \n",
       "4               1736        790               119132              129376   \n",
       "\n",
       "4  Female_Annual_Salary        Income_Class  Year  \n",
       "0                 41028  Lower Middle Class  2018  \n",
       "1                 56056        Middle Class  2018  \n",
       "2                 60736  Upper Middle Class  2018  \n",
       "3                 64272  Upper Middle Class  2018  \n",
       "4                 90272         Upper Class  2018  "
      ]
     },
     "execution_count": 195,
     "metadata": {},
     "output_type": "execute_result"
    }
   ],
   "source": [
    "df_5 = income_2018.copy()\n",
    "\n",
    "# Set the first non-null row as the column headers\n",
    "new_header = df_5.iloc[4]\n",
    "df_5 = df_5[5:]\n",
    "df_5.columns = new_header\n",
    "\n",
    "# Change first column name to Occupations\n",
    "df_5.rename(columns={df_5.columns[0]: 'Occupations'}, inplace=True)\n",
    "\n",
    "# Remove rows with '-' values\n",
    "df_5 = df_5.replace('–', np.nan)\n",
    "\n",
    "# Remove rows with all NaN values\n",
    "df_5.dropna(inplace=True)\n",
    "\n",
    "# Reset the index\n",
    "df_5.reset_index(drop=True, inplace=True)\n",
    "\n",
    "print(df_5.columns)\n",
    "\n",
    "# Remove commas and dollar signs from the necessary columns\n",
    "df_5['Total_workers'] = df_5['Total_workers'].str.replace(',', '').astype(int)\n",
    "df_5['Total_weekly_earnings'] = df_5['Total_weekly_earnings'].str.replace(',', '').str.replace('$', '').astype(int)\n",
    "df_5['M_workers'] = df_5[' M_workers'].str.replace(',', '').astype(int)\n",
    "df_5['M_weekly_earnings'] = df_5['M_weekly_earnings'].str.replace(',', '').str.replace('$', '').astype(int)\n",
    "df_5['F_workers'] = df_5['F_workers'].str.replace(',', '').astype(int)\n",
    "df_5['F_weekly_earnings'] = df_5['F_weekly_earnings'].str.replace(',', '').str.replace('$', '').astype(int)\n",
    "\n",
    "# Create the new columns for annual salaries\n",
    "df_5['Total_Annual_Salary'] = df_5['Total_weekly_earnings'] * 52\n",
    "df_5['Male_Annual_Salary'] = df_5['M_weekly_earnings'] * 52\n",
    "df_5['Female_Annual_Salary'] = df_5['F_weekly_earnings'] * 52\n",
    "\n",
    "# Create the Income_Class column based on Total Annual Salary\n",
    "income_bins = [0, 30000, 50000, 70000, 90000, float('inf')]\n",
    "income_labels = ['Lower Class', 'Lower Middle Class', 'Middle Class', 'Upper Middle Class', 'Upper Class']\n",
    "df_5['Income_Class'] = pd.cut(df_5['Total_Annual_Salary'], bins=income_bins, labels=income_labels)\n",
    "\n",
    "# Print the updated DataFrame\n",
    "df_5['Year'] = 2018\n",
    "df_5.head()"
   ]
  },
  {
   "cell_type": "code",
   "execution_count": 107,
   "id": "79673cf4",
   "metadata": {},
   "outputs": [
    {
     "data": {
      "application/vnd.plotly.v1+json": {
       "config": {
        "plotlyServerURL": "https://plotly.com"
       },
       "data": [
        {
         "marker": {
          "color": "purple"
         },
         "type": "bar",
         "x": [
          "Lower Middle Class",
          "Middle Class",
          "Upper Middle Class",
          "Upper Class",
          "Lower Class"
         ],
         "y": [
          38.2716049382716,
          27.160493827160494,
          22.22222222222222,
          11.728395061728394,
          0.6172839506172839
         ]
        }
       ],
       "layout": {
        "font": {
         "color": "white"
        },
        "paper_bgcolor": "rgb(17, 17, 17)",
        "plot_bgcolor": "rgb(17, 17, 17)",
        "template": {
         "data": {
          "bar": [
           {
            "error_x": {
             "color": "#2a3f5f"
            },
            "error_y": {
             "color": "#2a3f5f"
            },
            "marker": {
             "line": {
              "color": "#E5ECF6",
              "width": 0.5
             },
             "pattern": {
              "fillmode": "overlay",
              "size": 10,
              "solidity": 0.2
             }
            },
            "type": "bar"
           }
          ],
          "barpolar": [
           {
            "marker": {
             "line": {
              "color": "#E5ECF6",
              "width": 0.5
             },
             "pattern": {
              "fillmode": "overlay",
              "size": 10,
              "solidity": 0.2
             }
            },
            "type": "barpolar"
           }
          ],
          "carpet": [
           {
            "aaxis": {
             "endlinecolor": "#2a3f5f",
             "gridcolor": "white",
             "linecolor": "white",
             "minorgridcolor": "white",
             "startlinecolor": "#2a3f5f"
            },
            "baxis": {
             "endlinecolor": "#2a3f5f",
             "gridcolor": "white",
             "linecolor": "white",
             "minorgridcolor": "white",
             "startlinecolor": "#2a3f5f"
            },
            "type": "carpet"
           }
          ],
          "choropleth": [
           {
            "colorbar": {
             "outlinewidth": 0,
             "ticks": ""
            },
            "type": "choropleth"
           }
          ],
          "contour": [
           {
            "colorbar": {
             "outlinewidth": 0,
             "ticks": ""
            },
            "colorscale": [
             [
              0,
              "#0d0887"
             ],
             [
              0.1111111111111111,
              "#46039f"
             ],
             [
              0.2222222222222222,
              "#7201a8"
             ],
             [
              0.3333333333333333,
              "#9c179e"
             ],
             [
              0.4444444444444444,
              "#bd3786"
             ],
             [
              0.5555555555555556,
              "#d8576b"
             ],
             [
              0.6666666666666666,
              "#ed7953"
             ],
             [
              0.7777777777777778,
              "#fb9f3a"
             ],
             [
              0.8888888888888888,
              "#fdca26"
             ],
             [
              1,
              "#f0f921"
             ]
            ],
            "type": "contour"
           }
          ],
          "contourcarpet": [
           {
            "colorbar": {
             "outlinewidth": 0,
             "ticks": ""
            },
            "type": "contourcarpet"
           }
          ],
          "heatmap": [
           {
            "colorbar": {
             "outlinewidth": 0,
             "ticks": ""
            },
            "colorscale": [
             [
              0,
              "#0d0887"
             ],
             [
              0.1111111111111111,
              "#46039f"
             ],
             [
              0.2222222222222222,
              "#7201a8"
             ],
             [
              0.3333333333333333,
              "#9c179e"
             ],
             [
              0.4444444444444444,
              "#bd3786"
             ],
             [
              0.5555555555555556,
              "#d8576b"
             ],
             [
              0.6666666666666666,
              "#ed7953"
             ],
             [
              0.7777777777777778,
              "#fb9f3a"
             ],
             [
              0.8888888888888888,
              "#fdca26"
             ],
             [
              1,
              "#f0f921"
             ]
            ],
            "type": "heatmap"
           }
          ],
          "heatmapgl": [
           {
            "colorbar": {
             "outlinewidth": 0,
             "ticks": ""
            },
            "colorscale": [
             [
              0,
              "#0d0887"
             ],
             [
              0.1111111111111111,
              "#46039f"
             ],
             [
              0.2222222222222222,
              "#7201a8"
             ],
             [
              0.3333333333333333,
              "#9c179e"
             ],
             [
              0.4444444444444444,
              "#bd3786"
             ],
             [
              0.5555555555555556,
              "#d8576b"
             ],
             [
              0.6666666666666666,
              "#ed7953"
             ],
             [
              0.7777777777777778,
              "#fb9f3a"
             ],
             [
              0.8888888888888888,
              "#fdca26"
             ],
             [
              1,
              "#f0f921"
             ]
            ],
            "type": "heatmapgl"
           }
          ],
          "histogram": [
           {
            "marker": {
             "pattern": {
              "fillmode": "overlay",
              "size": 10,
              "solidity": 0.2
             }
            },
            "type": "histogram"
           }
          ],
          "histogram2d": [
           {
            "colorbar": {
             "outlinewidth": 0,
             "ticks": ""
            },
            "colorscale": [
             [
              0,
              "#0d0887"
             ],
             [
              0.1111111111111111,
              "#46039f"
             ],
             [
              0.2222222222222222,
              "#7201a8"
             ],
             [
              0.3333333333333333,
              "#9c179e"
             ],
             [
              0.4444444444444444,
              "#bd3786"
             ],
             [
              0.5555555555555556,
              "#d8576b"
             ],
             [
              0.6666666666666666,
              "#ed7953"
             ],
             [
              0.7777777777777778,
              "#fb9f3a"
             ],
             [
              0.8888888888888888,
              "#fdca26"
             ],
             [
              1,
              "#f0f921"
             ]
            ],
            "type": "histogram2d"
           }
          ],
          "histogram2dcontour": [
           {
            "colorbar": {
             "outlinewidth": 0,
             "ticks": ""
            },
            "colorscale": [
             [
              0,
              "#0d0887"
             ],
             [
              0.1111111111111111,
              "#46039f"
             ],
             [
              0.2222222222222222,
              "#7201a8"
             ],
             [
              0.3333333333333333,
              "#9c179e"
             ],
             [
              0.4444444444444444,
              "#bd3786"
             ],
             [
              0.5555555555555556,
              "#d8576b"
             ],
             [
              0.6666666666666666,
              "#ed7953"
             ],
             [
              0.7777777777777778,
              "#fb9f3a"
             ],
             [
              0.8888888888888888,
              "#fdca26"
             ],
             [
              1,
              "#f0f921"
             ]
            ],
            "type": "histogram2dcontour"
           }
          ],
          "mesh3d": [
           {
            "colorbar": {
             "outlinewidth": 0,
             "ticks": ""
            },
            "type": "mesh3d"
           }
          ],
          "parcoords": [
           {
            "line": {
             "colorbar": {
              "outlinewidth": 0,
              "ticks": ""
             }
            },
            "type": "parcoords"
           }
          ],
          "pie": [
           {
            "automargin": true,
            "type": "pie"
           }
          ],
          "scatter": [
           {
            "marker": {
             "colorbar": {
              "outlinewidth": 0,
              "ticks": ""
             }
            },
            "type": "scatter"
           }
          ],
          "scatter3d": [
           {
            "line": {
             "colorbar": {
              "outlinewidth": 0,
              "ticks": ""
             }
            },
            "marker": {
             "colorbar": {
              "outlinewidth": 0,
              "ticks": ""
             }
            },
            "type": "scatter3d"
           }
          ],
          "scattercarpet": [
           {
            "marker": {
             "colorbar": {
              "outlinewidth": 0,
              "ticks": ""
             }
            },
            "type": "scattercarpet"
           }
          ],
          "scattergeo": [
           {
            "marker": {
             "colorbar": {
              "outlinewidth": 0,
              "ticks": ""
             }
            },
            "type": "scattergeo"
           }
          ],
          "scattergl": [
           {
            "marker": {
             "colorbar": {
              "outlinewidth": 0,
              "ticks": ""
             }
            },
            "type": "scattergl"
           }
          ],
          "scattermapbox": [
           {
            "marker": {
             "colorbar": {
              "outlinewidth": 0,
              "ticks": ""
             }
            },
            "type": "scattermapbox"
           }
          ],
          "scatterpolar": [
           {
            "marker": {
             "colorbar": {
              "outlinewidth": 0,
              "ticks": ""
             }
            },
            "type": "scatterpolar"
           }
          ],
          "scatterpolargl": [
           {
            "marker": {
             "colorbar": {
              "outlinewidth": 0,
              "ticks": ""
             }
            },
            "type": "scatterpolargl"
           }
          ],
          "scatterternary": [
           {
            "marker": {
             "colorbar": {
              "outlinewidth": 0,
              "ticks": ""
             }
            },
            "type": "scatterternary"
           }
          ],
          "surface": [
           {
            "colorbar": {
             "outlinewidth": 0,
             "ticks": ""
            },
            "colorscale": [
             [
              0,
              "#0d0887"
             ],
             [
              0.1111111111111111,
              "#46039f"
             ],
             [
              0.2222222222222222,
              "#7201a8"
             ],
             [
              0.3333333333333333,
              "#9c179e"
             ],
             [
              0.4444444444444444,
              "#bd3786"
             ],
             [
              0.5555555555555556,
              "#d8576b"
             ],
             [
              0.6666666666666666,
              "#ed7953"
             ],
             [
              0.7777777777777778,
              "#fb9f3a"
             ],
             [
              0.8888888888888888,
              "#fdca26"
             ],
             [
              1,
              "#f0f921"
             ]
            ],
            "type": "surface"
           }
          ],
          "table": [
           {
            "cells": {
             "fill": {
              "color": "#EBF0F8"
             },
             "line": {
              "color": "white"
             }
            },
            "header": {
             "fill": {
              "color": "#C8D4E3"
             },
             "line": {
              "color": "white"
             }
            },
            "type": "table"
           }
          ]
         },
         "layout": {
          "annotationdefaults": {
           "arrowcolor": "#2a3f5f",
           "arrowhead": 0,
           "arrowwidth": 1
          },
          "autotypenumbers": "strict",
          "coloraxis": {
           "colorbar": {
            "outlinewidth": 0,
            "ticks": ""
           }
          },
          "colorscale": {
           "diverging": [
            [
             0,
             "#8e0152"
            ],
            [
             0.1,
             "#c51b7d"
            ],
            [
             0.2,
             "#de77ae"
            ],
            [
             0.3,
             "#f1b6da"
            ],
            [
             0.4,
             "#fde0ef"
            ],
            [
             0.5,
             "#f7f7f7"
            ],
            [
             0.6,
             "#e6f5d0"
            ],
            [
             0.7,
             "#b8e186"
            ],
            [
             0.8,
             "#7fbc41"
            ],
            [
             0.9,
             "#4d9221"
            ],
            [
             1,
             "#276419"
            ]
           ],
           "sequential": [
            [
             0,
             "#0d0887"
            ],
            [
             0.1111111111111111,
             "#46039f"
            ],
            [
             0.2222222222222222,
             "#7201a8"
            ],
            [
             0.3333333333333333,
             "#9c179e"
            ],
            [
             0.4444444444444444,
             "#bd3786"
            ],
            [
             0.5555555555555556,
             "#d8576b"
            ],
            [
             0.6666666666666666,
             "#ed7953"
            ],
            [
             0.7777777777777778,
             "#fb9f3a"
            ],
            [
             0.8888888888888888,
             "#fdca26"
            ],
            [
             1,
             "#f0f921"
            ]
           ],
           "sequentialminus": [
            [
             0,
             "#0d0887"
            ],
            [
             0.1111111111111111,
             "#46039f"
            ],
            [
             0.2222222222222222,
             "#7201a8"
            ],
            [
             0.3333333333333333,
             "#9c179e"
            ],
            [
             0.4444444444444444,
             "#bd3786"
            ],
            [
             0.5555555555555556,
             "#d8576b"
            ],
            [
             0.6666666666666666,
             "#ed7953"
            ],
            [
             0.7777777777777778,
             "#fb9f3a"
            ],
            [
             0.8888888888888888,
             "#fdca26"
            ],
            [
             1,
             "#f0f921"
            ]
           ]
          },
          "colorway": [
           "#636efa",
           "#EF553B",
           "#00cc96",
           "#ab63fa",
           "#FFA15A",
           "#19d3f3",
           "#FF6692",
           "#B6E880",
           "#FF97FF",
           "#FECB52"
          ],
          "font": {
           "color": "#2a3f5f"
          },
          "geo": {
           "bgcolor": "white",
           "lakecolor": "white",
           "landcolor": "#E5ECF6",
           "showlakes": true,
           "showland": true,
           "subunitcolor": "white"
          },
          "hoverlabel": {
           "align": "left"
          },
          "hovermode": "closest",
          "mapbox": {
           "style": "light"
          },
          "paper_bgcolor": "white",
          "plot_bgcolor": "#E5ECF6",
          "polar": {
           "angularaxis": {
            "gridcolor": "white",
            "linecolor": "white",
            "ticks": ""
           },
           "bgcolor": "#E5ECF6",
           "radialaxis": {
            "gridcolor": "white",
            "linecolor": "white",
            "ticks": ""
           }
          },
          "scene": {
           "xaxis": {
            "backgroundcolor": "#E5ECF6",
            "gridcolor": "white",
            "gridwidth": 2,
            "linecolor": "white",
            "showbackground": true,
            "ticks": "",
            "zerolinecolor": "white"
           },
           "yaxis": {
            "backgroundcolor": "#E5ECF6",
            "gridcolor": "white",
            "gridwidth": 2,
            "linecolor": "white",
            "showbackground": true,
            "ticks": "",
            "zerolinecolor": "white"
           },
           "zaxis": {
            "backgroundcolor": "#E5ECF6",
            "gridcolor": "white",
            "gridwidth": 2,
            "linecolor": "white",
            "showbackground": true,
            "ticks": "",
            "zerolinecolor": "white"
           }
          },
          "shapedefaults": {
           "line": {
            "color": "#2a3f5f"
           }
          },
          "ternary": {
           "aaxis": {
            "gridcolor": "white",
            "linecolor": "white",
            "ticks": ""
           },
           "baxis": {
            "gridcolor": "white",
            "linecolor": "white",
            "ticks": ""
           },
           "bgcolor": "#E5ECF6",
           "caxis": {
            "gridcolor": "white",
            "linecolor": "white",
            "ticks": ""
           }
          },
          "title": {
           "x": 0.05
          },
          "xaxis": {
           "automargin": true,
           "gridcolor": "white",
           "linecolor": "white",
           "ticks": "",
           "title": {
            "standoff": 15
           },
           "zerolinecolor": "white",
           "zerolinewidth": 2
          },
          "yaxis": {
           "automargin": true,
           "gridcolor": "white",
           "linecolor": "white",
           "ticks": "",
           "title": {
            "standoff": 15
           },
           "zerolinecolor": "white",
           "zerolinewidth": 2
          }
         }
        },
        "title": {
         "text": "Percentage of Records by Income Class"
        },
        "xaxis": {
         "title": {
          "text": "Income Class"
         }
        },
        "yaxis": {
         "title": {
          "text": "Percentage"
         }
        }
       }
      },
      "text/html": [
       "<div>                            <div id=\"25e5d054-8697-47ad-a2e1-469e7abec64f\" class=\"plotly-graph-div\" style=\"height:525px; width:100%;\"></div>            <script type=\"text/javascript\">                require([\"plotly\"], function(Plotly) {                    window.PLOTLYENV=window.PLOTLYENV || {};                                    if (document.getElementById(\"25e5d054-8697-47ad-a2e1-469e7abec64f\")) {                    Plotly.newPlot(                        \"25e5d054-8697-47ad-a2e1-469e7abec64f\",                        [{\"marker\":{\"color\":\"purple\"},\"x\":[\"Lower Middle Class\",\"Middle Class\",\"Upper Middle Class\",\"Upper Class\",\"Lower Class\"],\"y\":[38.2716049382716,27.160493827160494,22.22222222222222,11.728395061728394,0.6172839506172839],\"type\":\"bar\"}],                        {\"template\":{\"data\":{\"bar\":[{\"error_x\":{\"color\":\"#2a3f5f\"},\"error_y\":{\"color\":\"#2a3f5f\"},\"marker\":{\"line\":{\"color\":\"#E5ECF6\",\"width\":0.5},\"pattern\":{\"fillmode\":\"overlay\",\"size\":10,\"solidity\":0.2}},\"type\":\"bar\"}],\"barpolar\":[{\"marker\":{\"line\":{\"color\":\"#E5ECF6\",\"width\":0.5},\"pattern\":{\"fillmode\":\"overlay\",\"size\":10,\"solidity\":0.2}},\"type\":\"barpolar\"}],\"carpet\":[{\"aaxis\":{\"endlinecolor\":\"#2a3f5f\",\"gridcolor\":\"white\",\"linecolor\":\"white\",\"minorgridcolor\":\"white\",\"startlinecolor\":\"#2a3f5f\"},\"baxis\":{\"endlinecolor\":\"#2a3f5f\",\"gridcolor\":\"white\",\"linecolor\":\"white\",\"minorgridcolor\":\"white\",\"startlinecolor\":\"#2a3f5f\"},\"type\":\"carpet\"}],\"choropleth\":[{\"colorbar\":{\"outlinewidth\":0,\"ticks\":\"\"},\"type\":\"choropleth\"}],\"contour\":[{\"colorbar\":{\"outlinewidth\":0,\"ticks\":\"\"},\"colorscale\":[[0.0,\"#0d0887\"],[0.1111111111111111,\"#46039f\"],[0.2222222222222222,\"#7201a8\"],[0.3333333333333333,\"#9c179e\"],[0.4444444444444444,\"#bd3786\"],[0.5555555555555556,\"#d8576b\"],[0.6666666666666666,\"#ed7953\"],[0.7777777777777778,\"#fb9f3a\"],[0.8888888888888888,\"#fdca26\"],[1.0,\"#f0f921\"]],\"type\":\"contour\"}],\"contourcarpet\":[{\"colorbar\":{\"outlinewidth\":0,\"ticks\":\"\"},\"type\":\"contourcarpet\"}],\"heatmap\":[{\"colorbar\":{\"outlinewidth\":0,\"ticks\":\"\"},\"colorscale\":[[0.0,\"#0d0887\"],[0.1111111111111111,\"#46039f\"],[0.2222222222222222,\"#7201a8\"],[0.3333333333333333,\"#9c179e\"],[0.4444444444444444,\"#bd3786\"],[0.5555555555555556,\"#d8576b\"],[0.6666666666666666,\"#ed7953\"],[0.7777777777777778,\"#fb9f3a\"],[0.8888888888888888,\"#fdca26\"],[1.0,\"#f0f921\"]],\"type\":\"heatmap\"}],\"heatmapgl\":[{\"colorbar\":{\"outlinewidth\":0,\"ticks\":\"\"},\"colorscale\":[[0.0,\"#0d0887\"],[0.1111111111111111,\"#46039f\"],[0.2222222222222222,\"#7201a8\"],[0.3333333333333333,\"#9c179e\"],[0.4444444444444444,\"#bd3786\"],[0.5555555555555556,\"#d8576b\"],[0.6666666666666666,\"#ed7953\"],[0.7777777777777778,\"#fb9f3a\"],[0.8888888888888888,\"#fdca26\"],[1.0,\"#f0f921\"]],\"type\":\"heatmapgl\"}],\"histogram\":[{\"marker\":{\"pattern\":{\"fillmode\":\"overlay\",\"size\":10,\"solidity\":0.2}},\"type\":\"histogram\"}],\"histogram2d\":[{\"colorbar\":{\"outlinewidth\":0,\"ticks\":\"\"},\"colorscale\":[[0.0,\"#0d0887\"],[0.1111111111111111,\"#46039f\"],[0.2222222222222222,\"#7201a8\"],[0.3333333333333333,\"#9c179e\"],[0.4444444444444444,\"#bd3786\"],[0.5555555555555556,\"#d8576b\"],[0.6666666666666666,\"#ed7953\"],[0.7777777777777778,\"#fb9f3a\"],[0.8888888888888888,\"#fdca26\"],[1.0,\"#f0f921\"]],\"type\":\"histogram2d\"}],\"histogram2dcontour\":[{\"colorbar\":{\"outlinewidth\":0,\"ticks\":\"\"},\"colorscale\":[[0.0,\"#0d0887\"],[0.1111111111111111,\"#46039f\"],[0.2222222222222222,\"#7201a8\"],[0.3333333333333333,\"#9c179e\"],[0.4444444444444444,\"#bd3786\"],[0.5555555555555556,\"#d8576b\"],[0.6666666666666666,\"#ed7953\"],[0.7777777777777778,\"#fb9f3a\"],[0.8888888888888888,\"#fdca26\"],[1.0,\"#f0f921\"]],\"type\":\"histogram2dcontour\"}],\"mesh3d\":[{\"colorbar\":{\"outlinewidth\":0,\"ticks\":\"\"},\"type\":\"mesh3d\"}],\"parcoords\":[{\"line\":{\"colorbar\":{\"outlinewidth\":0,\"ticks\":\"\"}},\"type\":\"parcoords\"}],\"pie\":[{\"automargin\":true,\"type\":\"pie\"}],\"scatter\":[{\"marker\":{\"colorbar\":{\"outlinewidth\":0,\"ticks\":\"\"}},\"type\":\"scatter\"}],\"scatter3d\":[{\"line\":{\"colorbar\":{\"outlinewidth\":0,\"ticks\":\"\"}},\"marker\":{\"colorbar\":{\"outlinewidth\":0,\"ticks\":\"\"}},\"type\":\"scatter3d\"}],\"scattercarpet\":[{\"marker\":{\"colorbar\":{\"outlinewidth\":0,\"ticks\":\"\"}},\"type\":\"scattercarpet\"}],\"scattergeo\":[{\"marker\":{\"colorbar\":{\"outlinewidth\":0,\"ticks\":\"\"}},\"type\":\"scattergeo\"}],\"scattergl\":[{\"marker\":{\"colorbar\":{\"outlinewidth\":0,\"ticks\":\"\"}},\"type\":\"scattergl\"}],\"scattermapbox\":[{\"marker\":{\"colorbar\":{\"outlinewidth\":0,\"ticks\":\"\"}},\"type\":\"scattermapbox\"}],\"scatterpolar\":[{\"marker\":{\"colorbar\":{\"outlinewidth\":0,\"ticks\":\"\"}},\"type\":\"scatterpolar\"}],\"scatterpolargl\":[{\"marker\":{\"colorbar\":{\"outlinewidth\":0,\"ticks\":\"\"}},\"type\":\"scatterpolargl\"}],\"scatterternary\":[{\"marker\":{\"colorbar\":{\"outlinewidth\":0,\"ticks\":\"\"}},\"type\":\"scatterternary\"}],\"surface\":[{\"colorbar\":{\"outlinewidth\":0,\"ticks\":\"\"},\"colorscale\":[[0.0,\"#0d0887\"],[0.1111111111111111,\"#46039f\"],[0.2222222222222222,\"#7201a8\"],[0.3333333333333333,\"#9c179e\"],[0.4444444444444444,\"#bd3786\"],[0.5555555555555556,\"#d8576b\"],[0.6666666666666666,\"#ed7953\"],[0.7777777777777778,\"#fb9f3a\"],[0.8888888888888888,\"#fdca26\"],[1.0,\"#f0f921\"]],\"type\":\"surface\"}],\"table\":[{\"cells\":{\"fill\":{\"color\":\"#EBF0F8\"},\"line\":{\"color\":\"white\"}},\"header\":{\"fill\":{\"color\":\"#C8D4E3\"},\"line\":{\"color\":\"white\"}},\"type\":\"table\"}]},\"layout\":{\"annotationdefaults\":{\"arrowcolor\":\"#2a3f5f\",\"arrowhead\":0,\"arrowwidth\":1},\"autotypenumbers\":\"strict\",\"coloraxis\":{\"colorbar\":{\"outlinewidth\":0,\"ticks\":\"\"}},\"colorscale\":{\"diverging\":[[0,\"#8e0152\"],[0.1,\"#c51b7d\"],[0.2,\"#de77ae\"],[0.3,\"#f1b6da\"],[0.4,\"#fde0ef\"],[0.5,\"#f7f7f7\"],[0.6,\"#e6f5d0\"],[0.7,\"#b8e186\"],[0.8,\"#7fbc41\"],[0.9,\"#4d9221\"],[1,\"#276419\"]],\"sequential\":[[0.0,\"#0d0887\"],[0.1111111111111111,\"#46039f\"],[0.2222222222222222,\"#7201a8\"],[0.3333333333333333,\"#9c179e\"],[0.4444444444444444,\"#bd3786\"],[0.5555555555555556,\"#d8576b\"],[0.6666666666666666,\"#ed7953\"],[0.7777777777777778,\"#fb9f3a\"],[0.8888888888888888,\"#fdca26\"],[1.0,\"#f0f921\"]],\"sequentialminus\":[[0.0,\"#0d0887\"],[0.1111111111111111,\"#46039f\"],[0.2222222222222222,\"#7201a8\"],[0.3333333333333333,\"#9c179e\"],[0.4444444444444444,\"#bd3786\"],[0.5555555555555556,\"#d8576b\"],[0.6666666666666666,\"#ed7953\"],[0.7777777777777778,\"#fb9f3a\"],[0.8888888888888888,\"#fdca26\"],[1.0,\"#f0f921\"]]},\"colorway\":[\"#636efa\",\"#EF553B\",\"#00cc96\",\"#ab63fa\",\"#FFA15A\",\"#19d3f3\",\"#FF6692\",\"#B6E880\",\"#FF97FF\",\"#FECB52\"],\"font\":{\"color\":\"#2a3f5f\"},\"geo\":{\"bgcolor\":\"white\",\"lakecolor\":\"white\",\"landcolor\":\"#E5ECF6\",\"showlakes\":true,\"showland\":true,\"subunitcolor\":\"white\"},\"hoverlabel\":{\"align\":\"left\"},\"hovermode\":\"closest\",\"mapbox\":{\"style\":\"light\"},\"paper_bgcolor\":\"white\",\"plot_bgcolor\":\"#E5ECF6\",\"polar\":{\"angularaxis\":{\"gridcolor\":\"white\",\"linecolor\":\"white\",\"ticks\":\"\"},\"bgcolor\":\"#E5ECF6\",\"radialaxis\":{\"gridcolor\":\"white\",\"linecolor\":\"white\",\"ticks\":\"\"}},\"scene\":{\"xaxis\":{\"backgroundcolor\":\"#E5ECF6\",\"gridcolor\":\"white\",\"gridwidth\":2,\"linecolor\":\"white\",\"showbackground\":true,\"ticks\":\"\",\"zerolinecolor\":\"white\"},\"yaxis\":{\"backgroundcolor\":\"#E5ECF6\",\"gridcolor\":\"white\",\"gridwidth\":2,\"linecolor\":\"white\",\"showbackground\":true,\"ticks\":\"\",\"zerolinecolor\":\"white\"},\"zaxis\":{\"backgroundcolor\":\"#E5ECF6\",\"gridcolor\":\"white\",\"gridwidth\":2,\"linecolor\":\"white\",\"showbackground\":true,\"ticks\":\"\",\"zerolinecolor\":\"white\"}},\"shapedefaults\":{\"line\":{\"color\":\"#2a3f5f\"}},\"ternary\":{\"aaxis\":{\"gridcolor\":\"white\",\"linecolor\":\"white\",\"ticks\":\"\"},\"baxis\":{\"gridcolor\":\"white\",\"linecolor\":\"white\",\"ticks\":\"\"},\"bgcolor\":\"#E5ECF6\",\"caxis\":{\"gridcolor\":\"white\",\"linecolor\":\"white\",\"ticks\":\"\"}},\"title\":{\"x\":0.05},\"xaxis\":{\"automargin\":true,\"gridcolor\":\"white\",\"linecolor\":\"white\",\"ticks\":\"\",\"title\":{\"standoff\":15},\"zerolinecolor\":\"white\",\"zerolinewidth\":2},\"yaxis\":{\"automargin\":true,\"gridcolor\":\"white\",\"linecolor\":\"white\",\"ticks\":\"\",\"title\":{\"standoff\":15},\"zerolinecolor\":\"white\",\"zerolinewidth\":2}}},\"font\":{\"color\":\"white\"},\"title\":{\"text\":\"Percentage of Records by Income Class\"},\"xaxis\":{\"title\":{\"text\":\"Income Class\"}},\"yaxis\":{\"title\":{\"text\":\"Percentage\"}},\"plot_bgcolor\":\"rgb(17, 17, 17)\",\"paper_bgcolor\":\"rgb(17, 17, 17)\"},                        {\"responsive\": true}                    ).then(function(){\n",
       "                            \n",
       "var gd = document.getElementById('25e5d054-8697-47ad-a2e1-469e7abec64f');\n",
       "var x = new MutationObserver(function (mutations, observer) {{\n",
       "        var display = window.getComputedStyle(gd).display;\n",
       "        if (!display || display === 'none') {{\n",
       "            console.log([gd, 'removed!']);\n",
       "            Plotly.purge(gd);\n",
       "            observer.disconnect();\n",
       "        }}\n",
       "}});\n",
       "\n",
       "// Listen for the removal of the full notebook cells\n",
       "var notebookContainer = gd.closest('#notebook-container');\n",
       "if (notebookContainer) {{\n",
       "    x.observe(notebookContainer, {childList: true});\n",
       "}}\n",
       "\n",
       "// Listen for the clearing of the current output cell\n",
       "var outputEl = gd.closest('.output');\n",
       "if (outputEl) {{\n",
       "    x.observe(outputEl, {childList: true});\n",
       "}}\n",
       "\n",
       "                        })                };                });            </script>        </div>"
      ]
     },
     "metadata": {},
     "output_type": "display_data"
    }
   ],
   "source": [
    "# Calculate the percentage of each income class\n",
    "class_counts = df['Income_Class'].value_counts()\n",
    "total_records = class_counts.sum()\n",
    "class_percentages = class_counts / total_records * 100\n",
    "\n",
    "# Create the bar chart\n",
    "fig = go.Figure(data=[\n",
    "    go.Bar(\n",
    "        x=class_percentages.index,\n",
    "        y=class_percentages.values,\n",
    "        marker_color='purple'  # Black color for bars\n",
    "    )\n",
    "])\n",
    "\n",
    "# Customize the layout\n",
    "fig.update_layout(\n",
    "    title='Percentage of Records by Income Class',\n",
    "    xaxis_title='Income Class',\n",
    "    yaxis_title='Percentage',\n",
    "    plot_bgcolor='rgb(17, 17, 17)',  # Dark background color\n",
    "    paper_bgcolor='rgb(17, 17, 17)',  # Dark background color for the entire plot\n",
    "    font=dict(color='white'),  # White font color\n",
    ")\n",
    "\n",
    "# Display the chart\n",
    "fig.show()"
   ]
  },
  {
   "cell_type": "code",
   "execution_count": 108,
   "id": "ec09913f",
   "metadata": {},
   "outputs": [
    {
     "name": "stdout",
     "output_type": "stream",
     "text": [
      "Income Class: Lower Class\n",
      "Occupations: ['Fast food and counter workers']\n",
      "\n",
      "Income Class: Lower Middle Class\n",
      "Occupations: ['Food service managers', 'Teaching assistants', 'Licensed practical and licensed vocational nurses', 'Service occupations', 'Healthcare support occupations', 'Personal care aides', 'Nursing assistants', 'Other healthcare support workers', 'Correctional officers and jailers', 'Security guards and gambling surveillance officers', 'Food preparation and serving related occupations', 'Chefs and head cooks', 'First-line supervisors of food preparation and serving workers', 'Cooks', 'Food preparation workers', 'Bartenders', 'Waiters and waitresses', 'Building and grounds cleaning and maintenance occupations', 'First-line supervisors of housekeeping and janitorial workers', 'Janitors and building cleaners', 'Maids and housekeeping cleaners', 'Personal care and service occupations', 'Recreation workers', 'Sales and office occupations', 'Sales and related occupations', 'First-line supervisors of retail sales workers', 'Cashiers', 'Retail salespersons', 'Sales and related workers, all other', 'Office and administrative support occupations', 'Billing and posting clerks', 'Bookkeeping, accounting, and auditing clerks', 'Customer service representatives', 'Receptionists and information clerks', 'Couriers and messengers', 'Dispatchers, except police, fire, and ambulance', 'Shipping, receiving, and inventory clerks', 'Secretaries and administrative assistants, except legal, medical, and executive', 'Data entry keyers', 'Insurance claims and policy processing clerks', 'Office clerks, general', 'Office and administrative support workers, all other', 'Farming, fishing, and forestry occupations', 'Miscellaneous agricultural workers', 'Construction and extraction occupations', 'Construction laborers', 'Production, transportation, and material moving occupations', 'Production occupations', 'Other assemblers and fabricators', 'Bakers', 'Butchers and other meat, poultry, and fish processing workers', 'Other metal workers and plastic workers', 'Inspectors, testers, sorters, samplers, and weighers', 'Packaging and filling machine operators and tenders', 'Other production workers', 'Transportation and material moving occupations', 'Bus drivers, school', 'Bus drivers, transit and intercity', 'Industrial truck and tractor operators', 'Laborers and freight, stock, and material movers, hand', 'Packers and packagers, hand', 'Stockers and order fillers']\n",
      "\n",
      "Income Class: Middle Class\n",
      "Occupations: ['Total, full-time wage and salary workers', 'Transportation, storage, and distribution managers', 'Property, real estate, and community association managers', 'Wholesale and retail buyers, except farm products', 'Purchasing agents, except wholesale, retail, and farm products', 'Claims adjusters, appraisers, examiners, and investigators', 'Training and development specialists', 'Business operations specialists, all other', 'Credit counselors and loan officers', 'Computer support specialists', 'Other engineering technologists and technicians, except drafters', 'Other life, physical, and social science technicians', 'Community and social service occupations', 'Educational, guidance, and career counselors and advisors', 'Counselors, all other', 'Social workers, all other', 'Clergy', 'Paralegals and legal assistants', 'Education, training, and library occupations', 'Elementary and middle school teachers', 'Secondary school teachers', 'Special education teachers', 'Other teachers and instructors', 'Arts, design, entertainment, sports, and media occupations', 'Graphic designers', 'Clinical laboratory technologists and technicians', 'Miscellaneous health technologists and technicians', 'Protective service occupations', 'Police officers', 'First-line supervisors of non-retail sales workers', 'Advertising sales agents', 'Insurance sales agents', 'Sales representatives, wholesale and manufacturing', 'Real estate brokers and sales agents', 'First-line supervisors of office and administrative support workers', 'Financial clerks, all other', 'Loan interviewers and clerks', 'Postal service mail carriers', 'Production, planning, and expediting clerks', 'Natural resources, construction, and maintenance occupations', 'Installation, maintenance, and repair occupations', 'First-line supervisors of production and operating workers', 'Supervisors of transportation and material moving workers', 'Driver/sales workers and truck drivers']\n",
      "\n",
      "Income Class: Upper Middle Class\n",
      "Occupations: ['Management, professional, and related occupations', 'Management, business, and financial operations occupations', 'Management occupations', 'General and operations managers', 'Marketing managers', 'Financial managers', 'Human resources managers', 'Purchasing managers', 'Construction managers', 'Education and childcare administrators', 'Medical and health services managers', 'Social and community service managers', 'Business and financial operations occupations', 'Compliance officers', 'Human resources workers', 'Logisticians', 'Market research analysts and marketing specialists', 'Accountants and auditors', 'Personal financial advisors', 'Professional and related occupations', 'Computer systems analysts', 'Computer occupations, all other', 'Operations research analysts', 'Other mathematical science occupations', 'Civil engineers', 'Life, physical, and social science occupations', 'Medical scientists', 'Postsecondary teachers', 'Other designers', 'Producers and directors', 'Writers and authors', 'Healthcare practitioners and technical occupations', 'Physical therapists', 'Registered nurses', 'Securities, commodities, and financial services sales agents', 'Sales representatives of services, except advertising, insurance, financial services, and travel']\n",
      "\n",
      "Income Class: Upper Class\n",
      "Occupations: ['Chief executives', 'Sales managers', 'Computer and information systems managers', 'Industrial production managers', 'Managers, all other', 'Project management specialists', 'Management analysts', 'Financial and investment analysts', 'Computer and mathematical occupations', 'Computer programmers', 'Software developers', 'Database administrators and architects', 'Architecture and engineering occupations', 'Engineers, all other', 'Physical scientists, all other', 'Legal occupations', 'Lawyers', 'Pharmacists', 'Other physicians']\n",
      "\n"
     ]
    }
   ],
   "source": [
    "# Looking at 162 total occupations\n",
    "\n",
    "# Group occupations by income class\n",
    "grouped = df.groupby('Income_Class')['Occupations'].apply(list)\n",
    "\n",
    "# Output the occupations by income class\n",
    "for income_class, occupations in grouped.items():\n",
    "    print(f'Income Class: {income_class}')\n",
    "    print(f'Occupations: {occupations}')\n",
    "    print()"
   ]
  },
  {
   "cell_type": "code",
   "execution_count": null,
   "id": "5ba34a09",
   "metadata": {},
   "outputs": [],
   "source": [
    "# Look at Data for these jobs and see if they would be replacable according to Gaussian model in report\n",
    "# Create machine learning model to predict of a job could be replaced by AI \n",
    "# Predict the impact of AI on employment\n",
    "# Potential Benefits and risks of AI & ML in different industries\n",
    "\n",
    "# Create as many ML models as I can"
   ]
  },
  {
   "cell_type": "code",
   "execution_count": 110,
   "id": "1f22b119",
   "metadata": {
    "scrolled": true
   },
   "outputs": [
    {
     "data": {
      "text/html": [
       "<div>\n",
       "<style scoped>\n",
       "    .dataframe tbody tr th:only-of-type {\n",
       "        vertical-align: middle;\n",
       "    }\n",
       "\n",
       "    .dataframe tbody tr th {\n",
       "        vertical-align: top;\n",
       "    }\n",
       "\n",
       "    .dataframe thead th {\n",
       "        text-align: right;\n",
       "    }\n",
       "</style>\n",
       "<table border=\"1\" class=\"dataframe\">\n",
       "  <thead>\n",
       "    <tr style=\"text-align: right;\">\n",
       "      <th></th>\n",
       "      <th>Year</th>\n",
       "      <th>AI Adoption Rates (%)</th>\n",
       "    </tr>\n",
       "  </thead>\n",
       "  <tbody>\n",
       "    <tr>\n",
       "      <th>0</th>\n",
       "      <td>2017</td>\n",
       "      <td>0.20</td>\n",
       "    </tr>\n",
       "    <tr>\n",
       "      <th>1</th>\n",
       "      <td>2018</td>\n",
       "      <td>0.47</td>\n",
       "    </tr>\n",
       "    <tr>\n",
       "      <th>2</th>\n",
       "      <td>2019</td>\n",
       "      <td>0.58</td>\n",
       "    </tr>\n",
       "    <tr>\n",
       "      <th>3</th>\n",
       "      <td>2020</td>\n",
       "      <td>0.50</td>\n",
       "    </tr>\n",
       "    <tr>\n",
       "      <th>4</th>\n",
       "      <td>2021</td>\n",
       "      <td>0.56</td>\n",
       "    </tr>\n",
       "  </tbody>\n",
       "</table>\n",
       "</div>"
      ],
      "text/plain": [
       "   Year  AI Adoption Rates (%)\n",
       "0  2017                   0.20\n",
       "1  2018                   0.47\n",
       "2  2019                   0.58\n",
       "3  2020                   0.50\n",
       "4  2021                   0.56"
      ]
     },
     "execution_count": 110,
     "metadata": {},
     "output_type": "execute_result"
    }
   ],
   "source": [
    "AI_AdoptionRates = {\n",
    "    'Year': [2017, 2018, 2019, 2020, 2021, 2022],\n",
    "    'AI Adoption Rates (%)': [.20, .47, .58, .50, .56, .50],\n",
    "}\n",
    "\n",
    "# Create the DataFrame\n",
    "AI_AdoptionRates = pd.DataFrame(AI_AdoptionRates)\n",
    "\n",
    "# Display the DataFrame\n",
    "AI_AdoptionRates.head()"
   ]
  },
  {
   "cell_type": "code",
   "execution_count": 112,
   "id": "bd358dff",
   "metadata": {},
   "outputs": [
    {
     "data": {
      "text/html": [
       "<div>\n",
       "<style scoped>\n",
       "    .dataframe tbody tr th:only-of-type {\n",
       "        vertical-align: middle;\n",
       "    }\n",
       "\n",
       "    .dataframe tbody tr th {\n",
       "        vertical-align: top;\n",
       "    }\n",
       "\n",
       "    .dataframe thead th {\n",
       "        text-align: right;\n",
       "    }\n",
       "</style>\n",
       "<table border=\"1\" class=\"dataframe\">\n",
       "  <thead>\n",
       "    <tr style=\"text-align: right;\">\n",
       "      <th></th>\n",
       "      <th>Year</th>\n",
       "      <th>AI Adoption Rates (%)</th>\n",
       "    </tr>\n",
       "  </thead>\n",
       "  <tbody>\n",
       "    <tr>\n",
       "      <th>0</th>\n",
       "      <td>2017</td>\n",
       "      <td>0.200000</td>\n",
       "    </tr>\n",
       "    <tr>\n",
       "      <th>1</th>\n",
       "      <td>2018</td>\n",
       "      <td>0.470000</td>\n",
       "    </tr>\n",
       "    <tr>\n",
       "      <th>2</th>\n",
       "      <td>2019</td>\n",
       "      <td>0.580000</td>\n",
       "    </tr>\n",
       "    <tr>\n",
       "      <th>3</th>\n",
       "      <td>2020</td>\n",
       "      <td>0.500000</td>\n",
       "    </tr>\n",
       "    <tr>\n",
       "      <th>4</th>\n",
       "      <td>2021</td>\n",
       "      <td>0.560000</td>\n",
       "    </tr>\n",
       "    <tr>\n",
       "      <th>5</th>\n",
       "      <td>2022</td>\n",
       "      <td>0.500000</td>\n",
       "    </tr>\n",
       "    <tr>\n",
       "      <th>6</th>\n",
       "      <td>2023</td>\n",
       "      <td>0.637333</td>\n",
       "    </tr>\n",
       "    <tr>\n",
       "      <th>7</th>\n",
       "      <td>2024</td>\n",
       "      <td>0.685619</td>\n",
       "    </tr>\n",
       "    <tr>\n",
       "      <th>8</th>\n",
       "      <td>2025</td>\n",
       "      <td>0.733905</td>\n",
       "    </tr>\n",
       "    <tr>\n",
       "      <th>9</th>\n",
       "      <td>2026</td>\n",
       "      <td>0.782190</td>\n",
       "    </tr>\n",
       "    <tr>\n",
       "      <th>10</th>\n",
       "      <td>2027</td>\n",
       "      <td>0.830476</td>\n",
       "    </tr>\n",
       "  </tbody>\n",
       "</table>\n",
       "</div>"
      ],
      "text/plain": [
       "    Year  AI Adoption Rates (%)\n",
       "0   2017               0.200000\n",
       "1   2018               0.470000\n",
       "2   2019               0.580000\n",
       "3   2020               0.500000\n",
       "4   2021               0.560000\n",
       "5   2022               0.500000\n",
       "6   2023               0.637333\n",
       "7   2024               0.685619\n",
       "8   2025               0.733905\n",
       "9   2026               0.782190\n",
       "10  2027               0.830476"
      ]
     },
     "execution_count": 112,
     "metadata": {},
     "output_type": "execute_result"
    }
   ],
   "source": [
    "from sklearn.linear_model import LinearRegression\n",
    "\n",
    "# Split the data into features (X) and target variable (y)\n",
    "X = AI_AdoptionRates['Year'].values.reshape(-1, 1)\n",
    "y = AI_AdoptionRates['AI Adoption Rates (%)'].values\n",
    "\n",
    "# Create a linear regression model\n",
    "model = LinearRegression()\n",
    "\n",
    "# Fit the model to the training data\n",
    "model.fit(X, y)\n",
    "\n",
    "# Predict future AI adoption rates for the next 5 years\n",
    "future_years = np.array([2023, 2024, 2025, 2026, 2027]).reshape(-1, 1)\n",
    "future_predictions = model.predict(future_years)\n",
    "\n",
    "# Create a data frame for the future predictions\n",
    "future_df = pd.DataFrame({'Year': future_years.flatten(), 'AI Adoption Rates (%)': future_predictions})\n",
    "\n",
    "# Concatenate the original data frame and the future predictions data frame\n",
    "predicted_df = pd.concat([AI_AdoptionRates, future_df], ignore_index=True)\n",
    "\n",
    "predicted_df"
   ]
  },
  {
   "cell_type": "code",
   "execution_count": 113,
   "id": "84592200",
   "metadata": {},
   "outputs": [
    {
     "data": {
      "text/html": [
       "<div>\n",
       "<style scoped>\n",
       "    .dataframe tbody tr th:only-of-type {\n",
       "        vertical-align: middle;\n",
       "    }\n",
       "\n",
       "    .dataframe tbody tr th {\n",
       "        vertical-align: top;\n",
       "    }\n",
       "\n",
       "    .dataframe thead th {\n",
       "        text-align: right;\n",
       "    }\n",
       "</style>\n",
       "<table border=\"1\" class=\"dataframe\">\n",
       "  <thead>\n",
       "    <tr style=\"text-align: right;\">\n",
       "      <th></th>\n",
       "      <th>Year</th>\n",
       "      <th>AI Market Size (Billions USD)</th>\n",
       "    </tr>\n",
       "  </thead>\n",
       "  <tbody>\n",
       "    <tr>\n",
       "      <th>0</th>\n",
       "      <td>2021</td>\n",
       "      <td>87.04</td>\n",
       "    </tr>\n",
       "    <tr>\n",
       "      <th>1</th>\n",
       "      <td>2022</td>\n",
       "      <td>119.78</td>\n",
       "    </tr>\n",
       "    <tr>\n",
       "      <th>2</th>\n",
       "      <td>2023</td>\n",
       "      <td>164.99</td>\n",
       "    </tr>\n",
       "    <tr>\n",
       "      <th>3</th>\n",
       "      <td>2024</td>\n",
       "      <td>227.46</td>\n",
       "    </tr>\n",
       "    <tr>\n",
       "      <th>4</th>\n",
       "      <td>2025</td>\n",
       "      <td>313.86</td>\n",
       "    </tr>\n",
       "  </tbody>\n",
       "</table>\n",
       "</div>"
      ],
      "text/plain": [
       "   Year  AI Market Size (Billions USD)\n",
       "0  2021                          87.04\n",
       "1  2022                         119.78\n",
       "2  2023                         164.99\n",
       "3  2024                         227.46\n",
       "4  2025                         313.86"
      ]
     },
     "execution_count": 113,
     "metadata": {},
     "output_type": "execute_result"
    }
   ],
   "source": [
    "AI_MarketSize = {\n",
    "    'Year': [2021, 2022, 2023, 2024, 2025, 2026, 2027, 2028, 2029, 2030],\n",
    "    'AI Market Size (Billions USD)': [87.04, 119.78, 164.99, 227.46, 313.86, 433.46, 599.17, 828.97, 1147.93, 1591.03],\n",
    "}\n",
    "\n",
    "# Create the DataFrame\n",
    "AI_MarketSize = pd.DataFrame(AI_MarketSize)\n",
    "\n",
    "# Display the DataFrame\n",
    "AI_MarketSize.head()"
   ]
  },
  {
   "cell_type": "code",
   "execution_count": 115,
   "id": "a0d40f11",
   "metadata": {},
   "outputs": [
    {
     "data": {
      "text/html": [
       "<div>\n",
       "<style scoped>\n",
       "    .dataframe tbody tr th:only-of-type {\n",
       "        vertical-align: middle;\n",
       "    }\n",
       "\n",
       "    .dataframe tbody tr th {\n",
       "        vertical-align: top;\n",
       "    }\n",
       "\n",
       "    .dataframe thead th {\n",
       "        text-align: right;\n",
       "    }\n",
       "</style>\n",
       "<table border=\"1\" class=\"dataframe\">\n",
       "  <thead>\n",
       "    <tr style=\"text-align: right;\">\n",
       "      <th></th>\n",
       "      <th>Year</th>\n",
       "      <th>AI Market Size (Billions USD)</th>\n",
       "      <th>AI Adoption Rates (%)</th>\n",
       "    </tr>\n",
       "  </thead>\n",
       "  <tbody>\n",
       "    <tr>\n",
       "      <th>0</th>\n",
       "      <td>2021</td>\n",
       "      <td>87.04</td>\n",
       "      <td>0.560000</td>\n",
       "    </tr>\n",
       "    <tr>\n",
       "      <th>1</th>\n",
       "      <td>2022</td>\n",
       "      <td>119.78</td>\n",
       "      <td>0.500000</td>\n",
       "    </tr>\n",
       "    <tr>\n",
       "      <th>2</th>\n",
       "      <td>2023</td>\n",
       "      <td>164.99</td>\n",
       "      <td>0.637333</td>\n",
       "    </tr>\n",
       "    <tr>\n",
       "      <th>3</th>\n",
       "      <td>2024</td>\n",
       "      <td>227.46</td>\n",
       "      <td>0.685619</td>\n",
       "    </tr>\n",
       "    <tr>\n",
       "      <th>4</th>\n",
       "      <td>2025</td>\n",
       "      <td>313.86</td>\n",
       "      <td>0.733905</td>\n",
       "    </tr>\n",
       "    <tr>\n",
       "      <th>5</th>\n",
       "      <td>2026</td>\n",
       "      <td>433.46</td>\n",
       "      <td>0.782190</td>\n",
       "    </tr>\n",
       "    <tr>\n",
       "      <th>6</th>\n",
       "      <td>2027</td>\n",
       "      <td>599.17</td>\n",
       "      <td>0.830476</td>\n",
       "    </tr>\n",
       "  </tbody>\n",
       "</table>\n",
       "</div>"
      ],
      "text/plain": [
       "   Year  AI Market Size (Billions USD)  AI Adoption Rates (%)\n",
       "0  2021                          87.04               0.560000\n",
       "1  2022                         119.78               0.500000\n",
       "2  2023                         164.99               0.637333\n",
       "3  2024                         227.46               0.685619\n",
       "4  2025                         313.86               0.733905\n",
       "5  2026                         433.46               0.782190\n",
       "6  2027                         599.17               0.830476"
      ]
     },
     "execution_count": 115,
     "metadata": {},
     "output_type": "execute_result"
    }
   ],
   "source": [
    "merged = pd.merge(AI_MarketSize, predicted_df, on = 'Year')\n",
    "merged"
   ]
  },
  {
   "cell_type": "code",
   "execution_count": 215,
   "id": "0c5288c7",
   "metadata": {},
   "outputs": [
    {
     "data": {
      "text/html": [
       "<div>\n",
       "<style scoped>\n",
       "    .dataframe tbody tr th:only-of-type {\n",
       "        vertical-align: middle;\n",
       "    }\n",
       "\n",
       "    .dataframe tbody tr th {\n",
       "        vertical-align: top;\n",
       "    }\n",
       "\n",
       "    .dataframe thead th {\n",
       "        text-align: right;\n",
       "    }\n",
       "</style>\n",
       "<table border=\"1\" class=\"dataframe\">\n",
       "  <thead>\n",
       "    <tr style=\"text-align: right;\">\n",
       "      <th>4</th>\n",
       "      <th>Occupations</th>\n",
       "      <th>Total_workers</th>\n",
       "      <th>Total_weekly_earnings</th>\n",
       "      <th>M_workers</th>\n",
       "      <th>M_weekly_earnings</th>\n",
       "      <th>F_workers</th>\n",
       "      <th>F_weekly_earnings</th>\n",
       "      <th>M_workers</th>\n",
       "      <th>Total_Annual_Salary</th>\n",
       "      <th>Male_Annual_Salary</th>\n",
       "      <th>Female_Annual_Salary</th>\n",
       "      <th>Income_Class</th>\n",
       "      <th>Year</th>\n",
       "    </tr>\n",
       "  </thead>\n",
       "  <tbody>\n",
       "    <tr>\n",
       "      <th>0</th>\n",
       "      <td>Total, full-time wage and salary workers</td>\n",
       "      <td>115567</td>\n",
       "      <td>886</td>\n",
       "      <td>64,142</td>\n",
       "      <td>973</td>\n",
       "      <td>51425</td>\n",
       "      <td>789</td>\n",
       "      <td>64142</td>\n",
       "      <td>46072</td>\n",
       "      <td>50596</td>\n",
       "      <td>41028</td>\n",
       "      <td>Lower Middle Class</td>\n",
       "      <td>2018</td>\n",
       "    </tr>\n",
       "    <tr>\n",
       "      <th>1</th>\n",
       "      <td>Management, professional, and related occupations</td>\n",
       "      <td>48808</td>\n",
       "      <td>1246</td>\n",
       "      <td>23,685</td>\n",
       "      <td>1468</td>\n",
       "      <td>25123</td>\n",
       "      <td>1078</td>\n",
       "      <td>23685</td>\n",
       "      <td>64792</td>\n",
       "      <td>76336</td>\n",
       "      <td>56056</td>\n",
       "      <td>Middle Class</td>\n",
       "      <td>2018</td>\n",
       "    </tr>\n",
       "    <tr>\n",
       "      <th>2</th>\n",
       "      <td>Management, business, and financial operations...</td>\n",
       "      <td>19863</td>\n",
       "      <td>1355</td>\n",
       "      <td>10,668</td>\n",
       "      <td>1537</td>\n",
       "      <td>9195</td>\n",
       "      <td>1168</td>\n",
       "      <td>10668</td>\n",
       "      <td>70460</td>\n",
       "      <td>79924</td>\n",
       "      <td>60736</td>\n",
       "      <td>Upper Middle Class</td>\n",
       "      <td>2018</td>\n",
       "    </tr>\n",
       "    <tr>\n",
       "      <th>3</th>\n",
       "      <td>Management occupations</td>\n",
       "      <td>13477</td>\n",
       "      <td>1429</td>\n",
       "      <td>7,754</td>\n",
       "      <td>1585</td>\n",
       "      <td>5724</td>\n",
       "      <td>1236</td>\n",
       "      <td>7754</td>\n",
       "      <td>74308</td>\n",
       "      <td>82420</td>\n",
       "      <td>64272</td>\n",
       "      <td>Upper Middle Class</td>\n",
       "      <td>2018</td>\n",
       "    </tr>\n",
       "    <tr>\n",
       "      <th>4</th>\n",
       "      <td>Chief executives</td>\n",
       "      <td>1098</td>\n",
       "      <td>2291</td>\n",
       "      <td>790</td>\n",
       "      <td>2488</td>\n",
       "      <td>307</td>\n",
       "      <td>1736</td>\n",
       "      <td>790</td>\n",
       "      <td>119132</td>\n",
       "      <td>129376</td>\n",
       "      <td>90272</td>\n",
       "      <td>Upper Class</td>\n",
       "      <td>2018</td>\n",
       "    </tr>\n",
       "  </tbody>\n",
       "</table>\n",
       "</div>"
      ],
      "text/plain": [
       "4                                        Occupations  Total_workers  \\\n",
       "0           Total, full-time wage and salary workers         115567   \n",
       "1  Management, professional, and related occupations          48808   \n",
       "2  Management, business, and financial operations...          19863   \n",
       "3                             Management occupations          13477   \n",
       "4                                   Chief executives           1098   \n",
       "\n",
       "4  Total_weekly_earnings  M_workers  M_weekly_earnings  F_workers  \\\n",
       "0                    886     64,142                973      51425   \n",
       "1                   1246     23,685               1468      25123   \n",
       "2                   1355     10,668               1537       9195   \n",
       "3                   1429      7,754               1585       5724   \n",
       "4                   2291        790               2488        307   \n",
       "\n",
       "4  F_weekly_earnings  M_workers  Total_Annual_Salary  Male_Annual_Salary  \\\n",
       "0                789      64142                46072               50596   \n",
       "1               1078      23685                64792               76336   \n",
       "2               1168      10668                70460               79924   \n",
       "3               1236       7754                74308               82420   \n",
       "4               1736        790               119132              129376   \n",
       "\n",
       "4  Female_Annual_Salary        Income_Class  Year  \n",
       "0                 41028  Lower Middle Class  2018  \n",
       "1                 56056        Middle Class  2018  \n",
       "2                 60736  Upper Middle Class  2018  \n",
       "3                 64272  Upper Middle Class  2018  \n",
       "4                 90272         Upper Class  2018  "
      ]
     },
     "execution_count": 215,
     "metadata": {},
     "output_type": "execute_result"
    }
   ],
   "source": [
    "# Combine the employment data frames, 5 years of data from BLS (2018 - 2022)\n",
    "combined_df = pd.concat([df_5, df_4, df_3, df_2, df])\n",
    "combined_df.head()"
   ]
  },
  {
   "cell_type": "code",
   "execution_count": 216,
   "id": "8f5cc887",
   "metadata": {},
   "outputs": [
    {
     "data": {
      "text/html": [
       "<div>\n",
       "<style scoped>\n",
       "    .dataframe tbody tr th:only-of-type {\n",
       "        vertical-align: middle;\n",
       "    }\n",
       "\n",
       "    .dataframe tbody tr th {\n",
       "        vertical-align: top;\n",
       "    }\n",
       "\n",
       "    .dataframe thead th {\n",
       "        text-align: right;\n",
       "    }\n",
       "</style>\n",
       "<table border=\"1\" class=\"dataframe\">\n",
       "  <thead>\n",
       "    <tr style=\"text-align: right;\">\n",
       "      <th></th>\n",
       "      <th>Occupations</th>\n",
       "      <th>Total_workers</th>\n",
       "      <th>Total_weekly_earnings</th>\n",
       "      <th>M_workers</th>\n",
       "      <th>M_weekly_earnings</th>\n",
       "      <th>F_workers</th>\n",
       "      <th>F_weekly_earnings</th>\n",
       "      <th>M_workers</th>\n",
       "      <th>Total_Annual_Salary</th>\n",
       "      <th>Male_Annual_Salary</th>\n",
       "      <th>Female_Annual_Salary</th>\n",
       "      <th>Income_Class</th>\n",
       "      <th>Year</th>\n",
       "      <th>AI Market Size (Billions USD)</th>\n",
       "      <th>AI Adoption Rates (%)</th>\n",
       "    </tr>\n",
       "  </thead>\n",
       "  <tbody>\n",
       "    <tr>\n",
       "      <th>0</th>\n",
       "      <td>Total, full-time wage and salary workers</td>\n",
       "      <td>114316</td>\n",
       "      <td>998</td>\n",
       "      <td>NaN</td>\n",
       "      <td>1097</td>\n",
       "      <td>51388</td>\n",
       "      <td>912</td>\n",
       "      <td>62928</td>\n",
       "      <td>51896</td>\n",
       "      <td>57044</td>\n",
       "      <td>47424</td>\n",
       "      <td>Middle Class</td>\n",
       "      <td>2021</td>\n",
       "      <td>87.04</td>\n",
       "      <td>0.56</td>\n",
       "    </tr>\n",
       "    <tr>\n",
       "      <th>1</th>\n",
       "      <td>Management, professional, and related occupations</td>\n",
       "      <td>51166</td>\n",
       "      <td>1390</td>\n",
       "      <td>NaN</td>\n",
       "      <td>1609</td>\n",
       "      <td>26605</td>\n",
       "      <td>1222</td>\n",
       "      <td>24561</td>\n",
       "      <td>72280</td>\n",
       "      <td>83668</td>\n",
       "      <td>63544</td>\n",
       "      <td>Upper Middle Class</td>\n",
       "      <td>2021</td>\n",
       "      <td>87.04</td>\n",
       "      <td>0.56</td>\n",
       "    </tr>\n",
       "    <tr>\n",
       "      <th>2</th>\n",
       "      <td>Management, business, and financial operations...</td>\n",
       "      <td>21529</td>\n",
       "      <td>1482</td>\n",
       "      <td>NaN</td>\n",
       "      <td>1672</td>\n",
       "      <td>10299</td>\n",
       "      <td>1306</td>\n",
       "      <td>11231</td>\n",
       "      <td>77064</td>\n",
       "      <td>86944</td>\n",
       "      <td>67912</td>\n",
       "      <td>Upper Middle Class</td>\n",
       "      <td>2021</td>\n",
       "      <td>87.04</td>\n",
       "      <td>0.56</td>\n",
       "    </tr>\n",
       "    <tr>\n",
       "      <th>3</th>\n",
       "      <td>Management occupations</td>\n",
       "      <td>13942</td>\n",
       "      <td>1546</td>\n",
       "      <td>NaN</td>\n",
       "      <td>1752</td>\n",
       "      <td>6116</td>\n",
       "      <td>1341</td>\n",
       "      <td>7826</td>\n",
       "      <td>80392</td>\n",
       "      <td>91104</td>\n",
       "      <td>69732</td>\n",
       "      <td>Upper Middle Class</td>\n",
       "      <td>2021</td>\n",
       "      <td>87.04</td>\n",
       "      <td>0.56</td>\n",
       "    </tr>\n",
       "    <tr>\n",
       "      <th>4</th>\n",
       "      <td>Chief executives</td>\n",
       "      <td>1151</td>\n",
       "      <td>2473</td>\n",
       "      <td>NaN</td>\n",
       "      <td>2721</td>\n",
       "      <td>348</td>\n",
       "      <td>1904</td>\n",
       "      <td>803</td>\n",
       "      <td>128596</td>\n",
       "      <td>141492</td>\n",
       "      <td>99008</td>\n",
       "      <td>Upper Class</td>\n",
       "      <td>2021</td>\n",
       "      <td>87.04</td>\n",
       "      <td>0.56</td>\n",
       "    </tr>\n",
       "  </tbody>\n",
       "</table>\n",
       "</div>"
      ],
      "text/plain": [
       "                                         Occupations  Total_workers  \\\n",
       "0           Total, full-time wage and salary workers         114316   \n",
       "1  Management, professional, and related occupations          51166   \n",
       "2  Management, business, and financial operations...          21529   \n",
       "3                             Management occupations          13942   \n",
       "4                                   Chief executives           1151   \n",
       "\n",
       "   Total_weekly_earnings  M_workers  M_weekly_earnings  F_workers  \\\n",
       "0                    998        NaN               1097      51388   \n",
       "1                   1390        NaN               1609      26605   \n",
       "2                   1482        NaN               1672      10299   \n",
       "3                   1546        NaN               1752       6116   \n",
       "4                   2473        NaN               2721        348   \n",
       "\n",
       "   F_weekly_earnings  M_workers  Total_Annual_Salary  Male_Annual_Salary  \\\n",
       "0                912      62928                51896               57044   \n",
       "1               1222      24561                72280               83668   \n",
       "2               1306      11231                77064               86944   \n",
       "3               1341       7826                80392               91104   \n",
       "4               1904        803               128596              141492   \n",
       "\n",
       "   Female_Annual_Salary        Income_Class  Year  \\\n",
       "0                 47424        Middle Class  2021   \n",
       "1                 63544  Upper Middle Class  2021   \n",
       "2                 67912  Upper Middle Class  2021   \n",
       "3                 69732  Upper Middle Class  2021   \n",
       "4                 99008         Upper Class  2021   \n",
       "\n",
       "   AI Market Size (Billions USD)  AI Adoption Rates (%)  \n",
       "0                          87.04                   0.56  \n",
       "1                          87.04                   0.56  \n",
       "2                          87.04                   0.56  \n",
       "3                          87.04                   0.56  \n",
       "4                          87.04                   0.56  "
      ]
     },
     "execution_count": 216,
     "metadata": {},
     "output_type": "execute_result"
    }
   ],
   "source": [
    "combined_df = combined_df.merge(merged, on='Year')\n",
    "combined_df.head()"
   ]
  },
  {
   "cell_type": "code",
   "execution_count": 253,
   "id": "8996b7b7",
   "metadata": {},
   "outputs": [
    {
     "name": "stdout",
     "output_type": "stream",
     "text": [
      "Year 2024: Predicted impact on employment: 74.04\n",
      "Year 2025: Predicted impact on employment: 81.31\n",
      "Year 2026: Predicted impact on employment: 91.36\n"
     ]
    }
   ],
   "source": [
    "# Prepare the data for training\n",
    "X = combined_df[['AI Market Size (Billions USD)', 'AI Adoption Rates (%)']]\n",
    "y = combined_df['Income_Class']\n",
    "\n",
    "# Convert Income Class to numerical values\n",
    "class_mapping = {\n",
    "    'Middle Class': 47,\n",
    "    'Upper Middle Class': 100,\n",
    "    'Upper Class': 100,\n",
    "    'Lower Middle Class': 47,\n",
    "    'Lower Class': 47\n",
    "}\n",
    "\n",
    "y_numeric = y.map(class_mapping)\n",
    "\n",
    "# Define the linear regression model\n",
    "model = LinearRegression()\n",
    "\n",
    "# Train the model\n",
    "model.fit(X, y_numeric)\n",
    "\n",
    "# Predict the impact of AI on future employment\n",
    "future_ai_data = pd.DataFrame({\n",
    "    'Year': [2024, 2025, 2026],\n",
    "    'AI Market Size (Billions USD)': [227.46, 313.86, 433.46],\n",
    "    'AI Adoption Rates (%)': [0.686, 0.734, 0.782]\n",
    "})\n",
    "\n",
    "predictions = model.predict(future_ai_data[['AI Market Size (Billions USD)', 'AI Adoption Rates (%)']])\n",
    "\n",
    "# Print the predicted impact of AI on future employment\n",
    "for year, prediction in zip(future_ai_data['Year'], predictions):\n",
    "    print(f\"Year {year}: Predicted impact of AI on employment: {prediction:.2f}\")"
   ]
  },
  {
   "cell_type": "code",
   "execution_count": 252,
   "id": "27ab859b",
   "metadata": {},
   "outputs": [
    {
     "name": "stdout",
     "output_type": "stream",
     "text": [
      "Year 2024: Predicted impact on employment: 64.99\n",
      "Year 2025: Predicted impact on employment: 64.99\n",
      "Year 2026: Predicted impact on employment: 64.99\n"
     ]
    }
   ],
   "source": [
    "from sklearn.tree import DecisionTreeRegressor\n",
    "\n",
    "# Prepare the data for training\n",
    "X = combined_df[['AI Market Size (Billions USD)', 'AI Adoption Rates (%)']]\n",
    "y = combined_df['Income_Class']\n",
    "\n",
    "# Convert Income Class to numerical values\n",
    "class_mapping = {\n",
    "    'Middle Class': 47,\n",
    "    'Upper Middle Class': 100,\n",
    "    'Upper Class': 100,\n",
    "    'Lower Middle Class': 47,\n",
    "    'Lower Class': 47\n",
    "}\n",
    "y_numeric = y.map(class_mapping)\n",
    "\n",
    "# Define the decision tree regression model\n",
    "model = DecisionTreeRegressor()\n",
    "\n",
    "# Train the model\n",
    "model.fit(X, y_numeric)\n",
    "\n",
    "# Predict the impact of AI on future employment\n",
    "future_ai_data = pd.DataFrame({\n",
    "    'Year': [2024, 2025, 2026],\n",
    "    'AI Market Size (Billions USD)': [227.46, 313.86, 433.46],\n",
    "    'AI Adoption Rates (%)': [0.686, 0.734, 0.782]\n",
    "})\n",
    "\n",
    "predictions = model.predict(future_ai_data[['AI Market Size (Billions USD)', 'AI Adoption Rates (%)']])\n",
    "\n",
    "# Print the predicted impact of AI on future employment\n",
    "for year, prediction in zip(future_ai_data['Year'], predictions):\n",
    "    print(f\"Year {year}: Predicted impact of AI on employment: {prediction:.2f}\")"
   ]
  },
  {
   "cell_type": "code",
   "execution_count": 251,
   "id": "0070c40c",
   "metadata": {},
   "outputs": [
    {
     "name": "stdout",
     "output_type": "stream",
     "text": [
      "Year 2024: Predicted impact on employment: 64.99\n",
      "Year 2025: Predicted impact on employment: 64.99\n",
      "Year 2026: Predicted impact on employment: 64.99\n"
     ]
    }
   ],
   "source": [
    "import xgboost as xgb\n",
    "\n",
    "# Prepare the data for training\n",
    "X = combined_df[['AI Market Size (Billions USD)', 'AI Adoption Rates (%)']]\n",
    "y = combined_df['Income_Class']\n",
    "\n",
    "# Convert Income Class to numerical values\n",
    "class_mapping = {\n",
    "    'Middle Class': 47,\n",
    "    'Upper Middle Class': 100,\n",
    "    'Upper Class': 100,\n",
    "    'Lower Middle Class': 47,\n",
    "    'Lower Class': 47\n",
    "}\n",
    "y_numeric = y.map(class_mapping)\n",
    "\n",
    "# Define the gradient boosting regression model (XGBoost)\n",
    "model = xgb.XGBRegressor()\n",
    "\n",
    "# Train the model\n",
    "model.fit(X, y_numeric)\n",
    "\n",
    "# Predict the impact of AI on future employment\n",
    "future_ai_data = pd.DataFrame({\n",
    "    'Year': [2024, 2025, 2026],\n",
    "    'AI Market Size (Billions USD)': [227.46, 313.86, 433.46],\n",
    "    'AI Adoption Rates (%)': [0.686, 0.734, 0.782]\n",
    "})\n",
    "\n",
    "predictions = model.predict(future_ai_data[['AI Market Size (Billions USD)', 'AI Adoption Rates (%)']])\n",
    "\n",
    "# Print the predicted impact of AI on future employment\n",
    "for year, prediction in zip(future_ai_data['Year'], predictions):\n",
    "    print(f\"Year {year}: Predicted impact of AI on employment: {prediction:.2f}\")"
   ]
  },
  {
   "cell_type": "code",
   "execution_count": 260,
   "id": "e5c8e217",
   "metadata": {},
   "outputs": [
    {
     "name": "stdout",
     "output_type": "stream",
     "text": [
      "Year 2024: Predicted impact on employment: Significant impact\n",
      "Year 2025: Predicted impact on employment: Significant impact\n",
      "Year 2026: Predicted impact on employment: Significant impact\n"
     ]
    }
   ],
   "source": [
    "from sklearn.linear_model import LogisticRegression\n",
    "\n",
    "# Prepare the data for training\n",
    "X = combined_df[['AI Market Size (Billions USD)', 'AI Adoption Rates (%)']]\n",
    "y = combined_df['Income_Class']\n",
    "\n",
    "# Convert Income Class to binary values: Middle Class and below vs. Upper Middle Class and above\n",
    "class_mapping = {\n",
    "    'Middle Class': 0,\n",
    "    'Upper Middle Class': 1,\n",
    "    'Upper Class': 1,\n",
    "    'Lower Middle Class': 0,\n",
    "    'Lower Class': 0\n",
    "}\n",
    "y_binary = y.map(class_mapping)\n",
    "\n",
    "# Define the logistic regression model\n",
    "model = LogisticRegression()\n",
    "\n",
    "# Train the model\n",
    "model.fit(X, y_binary)\n",
    "\n",
    "# Predict the impact of AI on future employment\n",
    "future_ai_data = pd.DataFrame({\n",
    "    'Year': [2024, 2025, 2026],\n",
    "    'AI Market Size (Billions USD)': [227.46, 313.86, 433.46],\n",
    "    'AI Adoption Rates (%)': [0.686, 0.734, 0.782]\n",
    "})\n",
    "\n",
    "predictions = model.predict(future_ai_data[['AI Market Size (Billions USD)', 'AI Adoption Rates (%)']])\n",
    "\n",
    "# Print the predicted impact of AI on future employment\n",
    "for year, prediction in zip(future_ai_data['Year'], predictions):\n",
    "    if prediction == 0:\n",
    "        impact = \"No significant impact\"\n",
    "    else:\n",
    "        impact = \"Significant impact\"\n",
    "    print(f\"Year {year}: Predicted impact of AI on employment: {impact}\")"
   ]
  },
  {
   "cell_type": "code",
   "execution_count": 264,
   "id": "5dd1bfa9",
   "metadata": {},
   "outputs": [
    {
     "name": "stdout",
     "output_type": "stream",
     "text": [
      "Year 2024: Predicted impact of AI on employment: 13.80%\n",
      "Year 2025: Predicted impact of AI on employment: 46.00%\n",
      "Year 2026: Predicted impact of AI on employment: 79.35%\n"
     ]
    }
   ],
   "source": [
    "# Prepare the data for training\n",
    "X = combined_df[['AI Market Size (Billions USD)', 'AI Adoption Rates (%)']]\n",
    "y = combined_df['Income_Class']\n",
    "\n",
    "# Convert Income Class to binary values: Middle Class and below vs. Upper Middle Class and above\n",
    "class_mapping = {\n",
    "    'Middle Class': 0,\n",
    "    'Upper Middle Class': 1,\n",
    "    'Upper Class': 1,\n",
    "    'Lower Middle Class': 0,\n",
    "    'Lower Class': 0\n",
    "}\n",
    "y_binary = y.map(class_mapping)\n",
    "\n",
    "# Define the logistic regression model\n",
    "model = LogisticRegression()\n",
    "\n",
    "# Train the model\n",
    "model.fit(X, y_binary)\n",
    "\n",
    "# Predict the impact of AI on future employment\n",
    "future_ai_data = pd.DataFrame({\n",
    "    'Year': [2024, 2025, 2026],\n",
    "    'AI Market Size (Billions USD)': [227.46, 313.86, 433.46],\n",
    "    'AI Adoption Rates (%)': [0.686, 0.734, 0.782]\n",
    "})\n",
    "\n",
    "predictions = model.predict_proba(future_ai_data[['AI Market Size (Billions USD)', 'AI Adoption Rates (%)']])\n",
    "\n",
    "# Calculate the percentage change in employment\n",
    "baseline_prob = predictions[0][0]  # Probability of Middle Class and below\n",
    "percentage_change = (predictions[:, 1] - baseline_prob) / baseline_prob * 100\n",
    "\n",
    "# Print the predicted percentage change in employment\n",
    "for year, change in zip(future_ai_data['Year'], percentage_change):\n",
    "    print(f\"Year {year}: Predicted impact of AI on employment: {change:.2f}%\")"
   ]
  },
  {
   "cell_type": "code",
   "execution_count": 265,
   "id": "18d6842c",
   "metadata": {},
   "outputs": [
    {
     "name": "stdout",
     "output_type": "stream",
     "text": [
      "Cross-Validation Accuracy Scores:\n",
      "Fold 1: 0.6984\n",
      "Fold 2: 0.6825\n",
      "Fold 3: 0.6825\n",
      "Fold 4: 0.6825\n",
      "Fold 5: 0.6825\n",
      "\n",
      "Mean Accuracy: 0.6857\n"
     ]
    }
   ],
   "source": [
    "from sklearn.model_selection import cross_val_score\n",
    "\n",
    "# Perform cross-validation\n",
    "scores = cross_val_score(model, X, y_binary, cv=5, scoring='accuracy')\n",
    "\n",
    "# Print the cross-validation accuracy scores\n",
    "print(\"Cross-Validation Accuracy Scores:\")\n",
    "for fold, score in enumerate(scores, 1):\n",
    "    print(f\"Fold {fold}: {score:.4f}\")\n",
    "\n",
    "# Calculate and print the mean accuracy score\n",
    "mean_score = scores.mean()\n",
    "print(f\"\\nMean Accuracy: {mean_score:.4f}\")"
   ]
  },
  {
   "cell_type": "code",
   "execution_count": 6,
   "id": "0183c319",
   "metadata": {},
   "outputs": [
    {
     "data": {
      "text/html": [
       "<div>\n",
       "<style scoped>\n",
       "    .dataframe tbody tr th:only-of-type {\n",
       "        vertical-align: middle;\n",
       "    }\n",
       "\n",
       "    .dataframe tbody tr th {\n",
       "        vertical-align: top;\n",
       "    }\n",
       "\n",
       "    .dataframe thead th {\n",
       "        text-align: right;\n",
       "    }\n",
       "</style>\n",
       "<table border=\"1\" class=\"dataframe\">\n",
       "  <thead>\n",
       "    <tr style=\"text-align: right;\">\n",
       "      <th></th>\n",
       "      <th>Text</th>\n",
       "    </tr>\n",
       "  </thead>\n",
       "  <tbody>\n",
       "    <tr>\n",
       "      <th>1</th>\n",
       "      <td>So anyone who's been paying attention for the ...</td>\n",
       "    </tr>\n",
       "    <tr>\n",
       "      <th>3</th>\n",
       "      <td>Now, what I'm going to argue today is not only...</td>\n",
       "    </tr>\n",
       "    <tr>\n",
       "      <th>7</th>\n",
       "      <td>Just to put that in plain language, that could...</td>\n",
       "    </tr>\n",
       "    <tr>\n",
       "      <th>9</th>\n",
       "      <td>Now the reason why he framed it as a problem, ...</td>\n",
       "    </tr>\n",
       "    <tr>\n",
       "      <th>11</th>\n",
       "      <td>What I'm about to show you is I think the firs...</td>\n",
       "    </tr>\n",
       "  </tbody>\n",
       "</table>\n",
       "</div>"
      ],
      "text/plain": [
       "                                                 Text\n",
       "1   So anyone who's been paying attention for the ...\n",
       "3   Now, what I'm going to argue today is not only...\n",
       "7   Just to put that in plain language, that could...\n",
       "9   Now the reason why he framed it as a problem, ...\n",
       "11  What I'm about to show you is I think the firs..."
      ]
     },
     "execution_count": 6,
     "metadata": {},
     "output_type": "execute_result"
    }
   ],
   "source": [
    "# Sentiment Analysis for various AI related reports to see if they are positive or negative.\n",
    "\n",
    "from textblob import TextBlob\n",
    "\n",
    "SalKhan = pd.read_csv('/Users/adishsundar/Desktop/AI Research/SalKhan_AI.txt', sep='\\t', header=None, names=['Text'])\n",
    "\n",
    "SalKhan = SalKhan[~SalKhan['Text'].str.contains('\\d')]  # Remove rows containing numbers\n",
    "\n",
    "SalKhan.head()"
   ]
  },
  {
   "cell_type": "code",
   "execution_count": 7,
   "id": "4d96fd19",
   "metadata": {},
   "outputs": [
    {
     "name": "stdout",
     "output_type": "stream",
     "text": [
      "Average Sentiment: 0.13246929004483451\n"
     ]
    }
   ],
   "source": [
    "# Function to calculate sentiment scores\n",
    "\n",
    "def calculate_sentiment(text):\n",
    "    blob = TextBlob(text)\n",
    "    return blob.sentiment.polarity\n",
    "\n",
    "\n",
    "SalKhan['Sentiment'] = SalKhan['Text'].apply(lambda x: calculate_sentiment(x))\n",
    "\n",
    "# Calculate the average sentiment\n",
    "average_sentiment = SalKhan['Sentiment'].mean()\n",
    "\n",
    "print(\"Average Sentiment:\", average_sentiment)"
   ]
  },
  {
   "cell_type": "code",
   "execution_count": 278,
   "id": "f3d13779",
   "metadata": {},
   "outputs": [
    {
     "name": "stdout",
     "output_type": "stream",
     "text": [
      "Average Sentiment: 0.1456082215944229\n"
     ]
    }
   ],
   "source": [
    "PauseAILetter = pd.read_csv('/Users/adishsundar/Desktop/AI Research/PauseAIDevelopment.txt', sep='\\t', header=None, names=['Text'])\n",
    "\n",
    "PauseAILetter['Sentiment'] = PauseAILetter['Text'].apply(lambda x: calculate_sentiment(x))\n",
    "\n",
    "# Calculate the average sentiment\n",
    "average_sentiment = PauseAILetter['Sentiment'].mean()\n",
    "\n",
    "print(\"Average Sentiment:\", average_sentiment)"
   ]
  },
  {
   "cell_type": "code",
   "execution_count": 29,
   "id": "c4fdc073",
   "metadata": {},
   "outputs": [
    {
     "name": "stdout",
     "output_type": "stream",
     "text": [
      "Text         MUSK: Yeah. And then 5 million cars and then 1...\n",
      "Sentiment                                             0.125952\n",
      "Name: 4, dtype: object\n",
      "\n",
      "MUSK: Yeah. And then 5 million cars and then 10 million cars. So and I will also say that if positions were reversed and say – well in fact, the positions are reverse. For example, Google has Waymo, which is you know, sort of attempting self-driving and they are able to make self-driving work in a very limited geography with very tightly mapped streets. But as soon as anything goes wrong with those streets like there’s an accident or a parade or road construction, it stops working. Basically, Google is unable to produce a generalized solution to self-driving that works anywhere. They’ve been trying to do that for a long time. They have been unsuccessful. Tesla basically has that and is far more advanced than Google. And so if the positions were reversed, and you said, okay, Tesla’s got to produce a large language model that has output equal to or greater than ChatGPT or Microsoft OpenAI has to do self-driving, and we just flip the tasks, Tesla would win. \n"
     ]
    }
   ],
   "source": [
    "Elon = pd.read_csv('/Users/adishsundar/Desktop/AI Research/Elon_AI.txt', sep='\\t', header=None, names=['Text'])\n",
    "\n",
    "# Filter the DataFrame to keep only rows that start with \"MUSK\"\n",
    "Elon = Elon[Elon['Text'].str.startswith('MUSK')]\n",
    "\n",
    "Elon['Sentiment'] = Elon['Text'].apply(lambda x: calculate_sentiment(x))\n",
    "\n",
    "# Calculate the average sentiment\n",
    "average_sentiment = Elon['Sentiment'].mean()\n",
    "\n",
    "print(Elon.iloc[4])\n",
    "print()\n",
    "print(Elon['Text'].iloc[4])\n",
    "\n",
    "# print(\"Average Sentiment:\", average_sentiment)"
   ]
  },
  {
   "cell_type": "code",
   "execution_count": 15,
   "id": "2dd878c3",
   "metadata": {},
   "outputs": [
    {
     "name": "stdout",
     "output_type": "stream",
     "text": [
      "Average Sentiment: 0.49132499999999996\n"
     ]
    }
   ],
   "source": [
    "import nltk\n",
    "from nltk.sentiment import SentimentIntensityAnalyzer\n",
    "\n",
    "# Initialize VADER sentiment analyzer\n",
    "sid = SentimentIntensityAnalyzer()\n",
    "\n",
    "# Perform sentiment analysis on the 'Text' column\n",
    "Elon['Sentiment'] = Elon['Text'].apply(lambda x: sid.polarity_scores(x)['compound'])\n",
    "\n",
    "# Classify sentiments based on the compound score\n",
    "Elon['Sentiment_Label'] = Elon['Sentiment'].apply(lambda x: 'Positive' if x >= 0 else 'Negative')\n",
    "\n",
    "# Calculate the average sentiment\n",
    "average_sentiment = Elon['Sentiment'].mean()\n",
    "\n",
    "print(\"Average Sentiment:\", average_sentiment)"
   ]
  },
  {
   "cell_type": "code",
   "execution_count": 16,
   "id": "bf5c9206",
   "metadata": {},
   "outputs": [
    {
     "name": "stdout",
     "output_type": "stream",
     "text": [
      "Average Sentiment: 0.38682413793103454\n"
     ]
    }
   ],
   "source": [
    "# Initialize VADER sentiment analyzer\n",
    "sid = SentimentIntensityAnalyzer()\n",
    "\n",
    "# Perform sentiment analysis on the 'Text' column\n",
    "SalKhan['Sentiment'] = SalKhan['Text'].apply(lambda x: sid.polarity_scores(x)['compound'])\n",
    "\n",
    "# Classify sentiments based on the compound score\n",
    "SalKhan['Sentiment_Label'] = SalKhan['Sentiment'].apply(lambda x: 'Positive' if x >= 0 else 'Negative')\n",
    "\n",
    "# Calculate the average sentiment\n",
    "average_sentiment = SalKhan['Sentiment'].mean()\n",
    "\n",
    "print(\"Average Sentiment:\", average_sentiment)"
   ]
  },
  {
   "cell_type": "code",
   "execution_count": 6,
   "id": "5ad3cb4b",
   "metadata": {},
   "outputs": [],
   "source": [
    "import pandas as pd\n",
    "import numpy as np\n",
    "from sklearn.model_selection import train_test_split\n",
    "from sklearn.preprocessing import LabelEncoder\n",
    "from sklearn.pipeline import make_pipeline\n",
    "from sklearn.svm import SVC\n",
    "from sklearn.metrics import accuracy_score\n",
    "from skimage.io import imread\n",
    "from skimage.transform import resize"
   ]
  },
  {
   "cell_type": "code",
   "execution_count": 7,
   "id": "6423fb51",
   "metadata": {},
   "outputs": [],
   "source": [
    "# Load CSV file\n",
    "csv_path = '/Users/adishsundar/Desktop/AI Research/archive/birds.csv'\n",
    "df = pd.read_csv(csv_path)\n",
    "\n",
    "# Preprocess the data\n",
    "image_paths = df['filepaths'].values\n",
    "bird_names = df['labels'].values\n",
    "\n",
    "# Add the prefix to image paths\n",
    "prefix = 'Desktop/AI Research/archive/'\n",
    "image_paths = [prefix + path for path in image_paths]\n",
    "\n",
    "# Encode the bird names\n",
    "label_encoder = LabelEncoder()\n",
    "labels = label_encoder.fit_transform(bird_names)\n",
    "\n",
    "# Select a subset of the data\n",
    "subset_size = int(len(image_paths) * 0.02)  # 2% of the total data\n",
    "image_paths = image_paths[:subset_size]\n",
    "labels = labels[:subset_size]"
   ]
  },
  {
   "cell_type": "code",
   "execution_count": 8,
   "id": "fb9b34d3",
   "metadata": {
    "scrolled": true
   },
   "outputs": [],
   "source": [
    "# Create empty lists to store the images and their corresponding labels\n",
    "images = []\n",
    "\n",
    "# Iterate over the image paths and load each image\n",
    "for path in image_paths:\n",
    "    image = imread(path)  # Load the image using scikit-image\n",
    "    image = resize(image, (224, 224))  # Resize the image to a desired size\n",
    "    images.append(image.flatten())  # Flatten the image and add it to the list\n",
    "\n",
    "# Convert the image list to a NumPy array\n",
    "images = np.array(images)\n",
    "\n",
    "# Normalize the image data\n",
    "images = images / 255.0\n",
    "\n",
    "# Split the data into training and testing sets\n",
    "X_train, X_test, y_train, y_test = train_test_split(images, labels, test_size=0.2, random_state=42)"
   ]
  },
  {
   "cell_type": "code",
   "execution_count": 10,
   "id": "97b7fa78",
   "metadata": {},
   "outputs": [
    {
     "name": "stdout",
     "output_type": "stream",
     "text": [
      "                            precision    recall  f1-score   support\n",
      "\n",
      "           ABBOTTS BABBLER       0.17      0.40      0.24        25\n",
      "             ABBOTTS BOOBY       0.48      0.74      0.59        39\n",
      "ABYSSINIAN GROUND HORNBILL       0.40      0.42      0.41        40\n",
      "     AFRICAN CROWNED CRANE       1.00      0.00      0.00        36\n",
      "    AFRICAN EMERALD CUCKOO       0.82      0.39      0.53        23\n",
      "         AFRICAN FIREFINCH       0.67      0.08      0.15        24\n",
      "    AFRICAN OYSTER CATCHER       0.61      0.57      0.59        30\n",
      "     AFRICAN PIED HORNBILL       0.30      0.36      0.33        36\n",
      "       AFRICAN PYGMY GOOSE       0.32      0.66      0.43        38\n",
      "                 ALBATROSS       0.50      0.04      0.07        26\n",
      "            ALBERTS TOWHEE       0.55      0.50      0.52        36\n",
      "      ALEXANDRINE PARAKEET       1.00      0.00      0.00         7\n",
      "\n",
      "                  accuracy                           0.39       360\n",
      "                 macro avg       0.57      0.35      0.32       360\n",
      "              weighted avg       0.53      0.39      0.35       360\n",
      "\n"
     ]
    }
   ],
   "source": [
    "from sklearn.metrics import classification_report\n",
    "\n",
    "model = make_pipeline(\n",
    "    SVC(kernel='linear', C=1.0, random_state=42)\n",
    ")\n",
    "\n",
    "model.fit(X_train, y_train)\n",
    "\n",
    "y_pred = model.predict(X_test)\n",
    "classification_result = classification_report(y_test, y_pred, labels=np.unique(labels), target_names=label_encoder.classes_, zero_division=1.0)\n",
    "\n",
    "print(classification_result)"
   ]
  },
  {
   "cell_type": "code",
   "execution_count": 1,
   "id": "17022efe",
   "metadata": {},
   "outputs": [],
   "source": [
    "import pandas as pd\n",
    "import numpy as np\n",
    "from sklearn.preprocessing import LabelEncoder\n",
    "from skimage.io import imread\n",
    "from skimage.transform import resize\n",
    "from sklearn.model_selection import train_test_split\n",
    "from sklearn.svm import SVC\n",
    "from sklearn.model_selection import GridSearchCV\n",
    "from sklearn.metrics import classification_report\n",
    "\n",
    "# Load CSV file\n",
    "csv_path = '/Users/adishsundar/Desktop/AI Research/archive/birds.csv'\n",
    "df = pd.read_csv(csv_path)\n",
    "\n",
    "# Preprocess the data\n",
    "image_paths = df['filepaths'].values\n",
    "bird_names = df['labels'].values\n",
    "\n",
    "# Add the prefix to image paths\n",
    "prefix = 'Desktop/AI Research/archive/'\n",
    "image_paths = [prefix + path for path in image_paths]\n",
    "\n",
    "# Encode the bird names\n",
    "label_encoder = LabelEncoder()\n",
    "labels = label_encoder.fit_transform(bird_names)\n",
    "\n",
    "# Select a subset of the data\n",
    "subset_size = int(len(image_paths) * 0.02)  # 2% of the total data\n",
    "image_paths = image_paths[:subset_size]\n",
    "labels = labels[:subset_size]\n",
    "\n",
    "# Create empty lists to store the images and their corresponding labels\n",
    "images = []\n",
    "\n",
    "# Iterate over the image paths and load each image\n",
    "for path in image_paths:\n",
    "    image = imread(path)  # Load the image using scikit-image\n",
    "    image = resize(image, (224, 224))  # Resize the image to a desired size\n",
    "    images.append(image.flatten())  # Flatten the image and add it to the list\n",
    "\n",
    "# Convert the image list to a NumPy array\n",
    "images = np.array(images)\n",
    "\n",
    "# Normalize the image data\n",
    "images = images / 255.0\n",
    "\n",
    "# Split the data into training and testing sets\n",
    "X_train, X_test, y_train, y_test = train_test_split(images, labels, test_size=0.2, random_state=42)"
   ]
  },
  {
   "cell_type": "code",
   "execution_count": 2,
   "id": "fe2c2faf",
   "metadata": {},
   "outputs": [
    {
     "name": "stdout",
     "output_type": "stream",
     "text": [
      "                               precision    recall  f1-score   support\n",
      "\n",
      "              ABBOTTS BABBLER       0.41      0.60      0.48        25\n",
      "                ABBOTTS BOOBY       0.55      0.62      0.58        39\n",
      "   ABYSSINIAN GROUND HORNBILL       0.58      0.62      0.60        40\n",
      "        AFRICAN CROWNED CRANE       0.70      0.44      0.54        36\n",
      "       AFRICAN EMERALD CUCKOO       0.59      0.57      0.58        23\n",
      "            AFRICAN FIREFINCH       0.50      0.33      0.40        24\n",
      "       AFRICAN OYSTER CATCHER       0.76      0.73      0.75        30\n",
      "        AFRICAN PIED HORNBILL       0.46      0.58      0.51        36\n",
      "          AFRICAN PYGMY GOOSE       0.70      0.68      0.69        38\n",
      "                    ALBATROSS       0.65      0.58      0.61        26\n",
      "               ALBERTS TOWHEE       0.53      0.58      0.55        36\n",
      "         ALEXANDRINE PARAKEET       0.00      0.00      0.00         7\n",
      "\n",
      "                     accuracy                           0.57       360\n",
      "                    macro avg       0.53      0.53      0.53       360\n",
      "                 weighted avg       0.58      0.57      0.57       360\n",
      "\n"
     ]
    },
    {
     "name": "stderr",
     "output_type": "stream",
     "text": [
      "/Users/adishsundar/anaconda3/lib/python3.10/site-packages/sklearn/metrics/_classification.py:2326: UserWarning: labels size, 12, does not match size of target_names, 525\n",
      "  warnings.warn(\n",
      "/Users/adishsundar/anaconda3/lib/python3.10/site-packages/sklearn/metrics/_classification.py:1344: UndefinedMetricWarning: Precision and F-score are ill-defined and being set to 0.0 in labels with no predicted samples. Use `zero_division` parameter to control this behavior.\n",
      "  _warn_prf(average, modifier, msg_start, len(result))\n",
      "/Users/adishsundar/anaconda3/lib/python3.10/site-packages/sklearn/metrics/_classification.py:1344: UndefinedMetricWarning: Precision and F-score are ill-defined and being set to 0.0 in labels with no predicted samples. Use `zero_division` parameter to control this behavior.\n",
      "  _warn_prf(average, modifier, msg_start, len(result))\n",
      "/Users/adishsundar/anaconda3/lib/python3.10/site-packages/sklearn/metrics/_classification.py:1344: UndefinedMetricWarning: Precision and F-score are ill-defined and being set to 0.0 in labels with no predicted samples. Use `zero_division` parameter to control this behavior.\n",
      "  _warn_prf(average, modifier, msg_start, len(result))\n"
     ]
    }
   ],
   "source": [
    "# Define the parameter grid for GridSearchCV\n",
    "param_grid = {\n",
    "    'C': [0.1, 1, 10],  # Adjust the values as needed\n",
    "    'kernel': ['linear', 'rbf']  # Add more kernel options if desired\n",
    "}\n",
    "\n",
    "# Perform grid search to find the best hyperparameters\n",
    "grid_search = GridSearchCV(SVC(random_state=42), param_grid, scoring='f1_macro', cv=5)\n",
    "grid_search.fit(X_train, y_train)\n",
    "\n",
    "# Get the best model and its predictions\n",
    "best_model = grid_search.best_estimator_\n",
    "y_pred = best_model.predict(X_test)\n",
    "\n",
    "# Compute the classification report\n",
    "classification_result = classification_report(y_test, y_pred, labels=np.unique(labels), target_names=label_encoder.classes_)\n",
    "\n",
    "print(classification_result)"
   ]
  },
  {
   "cell_type": "code",
   "execution_count": 121,
   "id": "c4b0e29c",
   "metadata": {
    "scrolled": true
   },
   "outputs": [
    {
     "data": {
      "text/html": [
       "<div>\n",
       "<style scoped>\n",
       "    .dataframe tbody tr th:only-of-type {\n",
       "        vertical-align: middle;\n",
       "    }\n",
       "\n",
       "    .dataframe tbody tr th {\n",
       "        vertical-align: top;\n",
       "    }\n",
       "\n",
       "    .dataframe thead th {\n",
       "        text-align: right;\n",
       "    }\n",
       "</style>\n",
       "<table border=\"1\" class=\"dataframe\">\n",
       "  <thead>\n",
       "    <tr style=\"text-align: right;\">\n",
       "      <th></th>\n",
       "      <th>Date</th>\n",
       "      <th>Number of Users</th>\n",
       "      <th>% of World Population</th>\n",
       "    </tr>\n",
       "  </thead>\n",
       "  <tbody>\n",
       "    <tr>\n",
       "      <th>0</th>\n",
       "      <td>December, 1995</td>\n",
       "      <td>16 millions</td>\n",
       "      <td>0.4 %</td>\n",
       "    </tr>\n",
       "    <tr>\n",
       "      <th>1</th>\n",
       "      <td>December, 1996</td>\n",
       "      <td>36 millions</td>\n",
       "      <td>0.9 %</td>\n",
       "    </tr>\n",
       "    <tr>\n",
       "      <th>2</th>\n",
       "      <td>December, 1997</td>\n",
       "      <td>70 millions</td>\n",
       "      <td>1.7 %</td>\n",
       "    </tr>\n",
       "    <tr>\n",
       "      <th>3</th>\n",
       "      <td>December, 1998</td>\n",
       "      <td>147 millions</td>\n",
       "      <td>3.6 %</td>\n",
       "    </tr>\n",
       "    <tr>\n",
       "      <th>4</th>\n",
       "      <td>December, 1999</td>\n",
       "      <td>248 millions</td>\n",
       "      <td>4.1 %</td>\n",
       "    </tr>\n",
       "  </tbody>\n",
       "</table>\n",
       "</div>"
      ],
      "text/plain": [
       "             Date Number of Users % of World Population\n",
       "0  December, 1995     16 millions                 0.4 %\n",
       "1  December, 1996     36 millions                 0.9 %\n",
       "2  December, 1997     70 millions                 1.7 %\n",
       "3  December, 1998    147 millions                 3.6 %\n",
       "4  December, 1999    248 millions                 4.1 %"
      ]
     },
     "execution_count": 121,
     "metadata": {},
     "output_type": "execute_result"
    }
   ],
   "source": [
    "# Internet Growth Statistics\n",
    "\n",
    "data = [\n",
    "    [\"December, 1995\", \"16 millions\", \"0.4 %\"],\n",
    "    [\"December, 1996\", \"36 millions\", \"0.9 %\"],\n",
    "    [\"December, 1997\", \"70 millions\", \"1.7 %\"],\n",
    "    [\"December, 1998\", \"147 millions\", \"3.6 %\"],\n",
    "    [\"December, 1999\", \"248 millions\", \"4.1 %\"],\n",
    "    [\"March, 2000\", \"304 millions\", \"5.0 %\"],\n",
    "    [\"July, 2000\", \"359 millions\", \"5.9 %\"],\n",
    "    [\"December, 2000\", \"361 millions\", \"5.8 %\"],\n",
    "    [\"March, 2001\", \"458 millions\", \"7.6 %\"],\n",
    "    [\"June, 2001\", \"479 millions\", \"7.9 %\"],\n",
    "    [\"August, 2001\", \"513 millions\", \"8.6 %\"],\n",
    "    [\"April, 2002\", \"558 millions\", \"8.6 %\"],\n",
    "    [\"July, 2002\", \"569 millions\", \"9.1 %\"],\n",
    "    [\"September, 2002\", \"587 millions\", \"9.4 %\"],\n",
    "    [\"March, 2003\", \"608 millions\", \"9.7 %\"],\n",
    "    [\"September, 2003\", \"677 millions\", \"10.6 %\"],\n",
    "    [\"October, 2003\", \"682 millions\", \"10.7 %\"],\n",
    "    [\"December, 2003\", \"719 millions\", \"11.1 %\"],\n",
    "    [\"February, 2004\", \"745 millions\", \"11.5 %\"],\n",
    "    [\"May, 2004\", \"757 millions\", \"11.7 %\"],\n",
    "    [\"October, 2004\", \"812 millions\", \"12.7 %\"],\n",
    "    [\"December, 2004\", \"817 millions\", \"12.7 %\"],\n",
    "    [\"March, 2005\", \"888 millions\", \"13.9 %\"],\n",
    "    [\"June, 2005\", \"938 millions\", \"14.6 %\"],\n",
    "    [\"September, 2005\", \"957 millions\", \"14.9 %\"],\n",
    "    [\"November, 2005\", \"972 millions\", \"15.2 %\"],\n",
    "    [\"December, 2005\", \"1,018 millions\", \"15.7 %\"],\n",
    "    [\"March, 2006\", \"1,023 millions\", \"15.7 %\"],\n",
    "    [\"June, 2006\", \"1,043 millions\", \"16.0 %\"],\n",
    "    [\"Sept, 2006\", \"1,086 millions\", \"16.7 %\"],\n",
    "    [\"Dec, 2006\", \"1,093 millions\", \"16.7 %\"],\n",
    "    [\"Mar, 2007\", \"1,129 millions\", \"17.2 %\"],\n",
    "    [\"June, 2007\", \"1,173 millions\", \"17.8 %\"],\n",
    "    [\"Sept, 2007\", \"1,245 millions\", \"18.9 %\"],\n",
    "    [\"Dec, 2007\", \"1,319 millions\", \"20.0 %\"],\n",
    "    [\"Mar, 2008\", \"1,407 millions\", \"21.1 %\"],\n",
    "    [\"June, 2008\", \"1,463 millions\", \"21.9 %\"],\n",
    "    [\"Sept, 2008\", \"1,504 millions\", \"22.5 %\"],\n",
    "    [\"Dec, 2008\", \"1,574 millions\", \"23.5 %\"],\n",
    "    [\"Mar, 2009\", \"1,596 millions\", \"23.8 %\"],\n",
    "    [\"June, 2009\", \"1,669 millions\", \"24.7 %\"],\n",
    "    [\"Sept, 2009\", \"1,734 millions\", \"25.6 %\"],\n",
    "    [\"Dec, 2009\", \"1,802 millions\", \"26.6 %\"],\n",
    "    [\"June, 2010\", \"1,966 millions\", \"28.7 %\"],\n",
    "    [\"Sept, 2010\", \"1,971 millions\", \"28.8 %\"],\n",
    "    [\"Mar, 2011\", \"2,095 millions\", \"30.2 %\"],\n",
    "    [\"Jun, 2011\", \"2,110 millions\", \"30.4 %\"],\n",
    "    [\"Sept, 2011\", \"2,180 millions\", \"31.5 %\"],\n",
    "    [\"Dec, 2011\", \"2,267 millions\", \"32.7 %\"],\n",
    "    [\"Mar, 2012\", \"2,336 millions\", \"33.3 %\"],\n",
    "    [\"June, 2012\", \"2,405 millions\", \"34.3 %\"],\n",
    "    [\"Sept, 2012\", \"2,439 millions\", \"34.8 %\"],\n",
    "    [\"Dec, 2012\", \"2,497 millions\", \"35.7 %\"],\n",
    "    [\"Dec, 2013\", \"2,802 millions\", \"39.0 %\"],\n",
    "    [\"June, 2014\", \"3,035 millions\", \"42.3 %\"],\n",
    "    [\"Dec, 2014\", \"3,079 millions\", \"42.4 %\"],\n",
    "    [\"June, 2015\", \"3,270 millions\", \"45.0 %\"],\n",
    "    [\"Dec, 2015\", \"3,366 millions\", \"46.4 %\"],\n",
    "    [\"Jun. 2016\", \"3,631 millions\", \"49.5 %\"],\n",
    "    [\"Dec. 2016\", \"3,696 millions\", \"49.5 %\"],\n",
    "    [\"June, 2017\", \"3,885 millions\", \"51.7 %\"],\n",
    "    [\"Dec, 2017\", \"4,156 millions\", \"54.4 %\"],\n",
    "    [\"Jun, 2018\", \"4,208 millions\", \"55.1 %\"],\n",
    "    [\"Dec, 2018\", \"4,313 millions\", \"55.6 %\"],\n",
    "    [\"Mar, 2019\", \"4,383 millions\", \"56.8 %\"],\n",
    "    [\"Jun, 2019\", \"4,536 millions\", \"58.8 %\"],\n",
    "    [\"Jun, 2020\", \"4,833 millions\", \"62.0 %\"],\n",
    "    [\"Dec, 2020\", \"5,053 millions\", \"64.2 %\"],\n",
    "    [\"Mar, 2021\", \"5,168 millions\", \"65.6 %\"],\n",
    "    [\"Dec, 2021\", \"5,252 millions\", \"66.2 %\"],\n",
    "    [\"Mar, 2022\", \"5,382 millions\", \"67.8 %\"],\n",
    "    [\"July, 2022\", \"5,473 millions\", \"69.0 %\"],\n",
    "    [\"Dec, 2022\", \"5,544 millions\", \"69.0 %\"],\n",
    "]\n",
    "\n",
    "df = pd.DataFrame(data, columns=[\"Date\", \"Number of Users\", \"% of World Population\"])\n",
    "\n",
    "df.head()"
   ]
  },
  {
   "cell_type": "code",
   "execution_count": 122,
   "id": "3615a5ed",
   "metadata": {},
   "outputs": [
    {
     "data": {
      "text/html": [
       "<div>\n",
       "<style scoped>\n",
       "    .dataframe tbody tr th:only-of-type {\n",
       "        vertical-align: middle;\n",
       "    }\n",
       "\n",
       "    .dataframe tbody tr th {\n",
       "        vertical-align: top;\n",
       "    }\n",
       "\n",
       "    .dataframe thead th {\n",
       "        text-align: right;\n",
       "    }\n",
       "</style>\n",
       "<table border=\"1\" class=\"dataframe\">\n",
       "  <thead>\n",
       "    <tr style=\"text-align: right;\">\n",
       "      <th></th>\n",
       "      <th>Date</th>\n",
       "      <th>Number of Users</th>\n",
       "      <th>% of World Population</th>\n",
       "    </tr>\n",
       "  </thead>\n",
       "  <tbody>\n",
       "    <tr>\n",
       "      <th>0</th>\n",
       "      <td>1995-12-01</td>\n",
       "      <td>16000000</td>\n",
       "      <td>0.4</td>\n",
       "    </tr>\n",
       "    <tr>\n",
       "      <th>1</th>\n",
       "      <td>1996-12-01</td>\n",
       "      <td>36000000</td>\n",
       "      <td>0.9</td>\n",
       "    </tr>\n",
       "    <tr>\n",
       "      <th>2</th>\n",
       "      <td>1997-12-01</td>\n",
       "      <td>70000000</td>\n",
       "      <td>1.7</td>\n",
       "    </tr>\n",
       "    <tr>\n",
       "      <th>3</th>\n",
       "      <td>1998-12-01</td>\n",
       "      <td>147000000</td>\n",
       "      <td>3.6</td>\n",
       "    </tr>\n",
       "    <tr>\n",
       "      <th>4</th>\n",
       "      <td>1999-12-01</td>\n",
       "      <td>248000000</td>\n",
       "      <td>4.1</td>\n",
       "    </tr>\n",
       "  </tbody>\n",
       "</table>\n",
       "</div>"
      ],
      "text/plain": [
       "        Date  Number of Users  % of World Population\n",
       "0 1995-12-01         16000000                    0.4\n",
       "1 1996-12-01         36000000                    0.9\n",
       "2 1997-12-01         70000000                    1.7\n",
       "3 1998-12-01        147000000                    3.6\n",
       "4 1999-12-01        248000000                    4.1"
      ]
     },
     "execution_count": 122,
     "metadata": {},
     "output_type": "execute_result"
    }
   ],
   "source": [
    "# Convert the number of users to actual numbers\n",
    "df['Number of Users'] = df['Number of Users'].str.replace(',', '').str.replace(' millions', '').astype(int) * 1000000\n",
    "\n",
    "# Remove percent sign and convert to float\n",
    "df['% of World Population'] = df['% of World Population'].str.rstrip('%').astype(float)\n",
    "\n",
    "# Convert Date column to datetime object\n",
    "df['Date'] = pd.to_datetime(df['Date'], infer_datetime_format=True, errors='coerce')\n",
    "\n",
    "# Print the updated dataframe\n",
    "df.head()"
   ]
  },
  {
   "cell_type": "code",
   "execution_count": 123,
   "id": "eaa395b1",
   "metadata": {},
   "outputs": [
    {
     "data": {
      "application/vnd.plotly.v1+json": {
       "config": {
        "plotlyServerURL": "https://plotly.com"
       },
       "data": [
        {
         "hovertemplate": "Date=%{x}<br>Number of Users=%{y}<extra></extra>",
         "legendgroup": "",
         "line": {
          "color": "#636efa",
          "dash": "solid"
         },
         "marker": {
          "symbol": "circle"
         },
         "mode": "lines",
         "name": "",
         "orientation": "v",
         "showlegend": false,
         "type": "scatter",
         "x": [
          "1995-12-31T00:00:00",
          "1996-12-31T00:00:00",
          "1997-12-31T00:00:00",
          "1998-12-31T00:00:00",
          "1999-12-31T00:00:00",
          "2000-12-31T00:00:00",
          "2001-12-31T00:00:00",
          "2002-12-31T00:00:00",
          "2003-12-31T00:00:00",
          "2004-12-31T00:00:00",
          "2005-12-31T00:00:00",
          "2006-12-31T00:00:00",
          "2007-12-31T00:00:00",
          "2008-12-31T00:00:00",
          "2009-12-31T00:00:00",
          "2010-12-31T00:00:00",
          "2011-12-31T00:00:00",
          "2012-12-31T00:00:00",
          "2013-12-31T00:00:00",
          "2014-12-31T00:00:00",
          "2015-12-31T00:00:00",
          "2016-12-31T00:00:00",
          "2017-12-31T00:00:00",
          "2018-12-31T00:00:00",
          "2019-12-31T00:00:00",
          "2020-12-31T00:00:00",
          "2021-12-31T00:00:00",
          "2022-12-31T00:00:00"
         ],
         "xaxis": "x",
         "y": [
          16000000,
          36000000,
          70000000,
          147000000,
          248000000,
          361000000,
          513000000,
          587000000,
          719000000,
          817000000,
          1018000000,
          1093000000,
          1319000000,
          1574000000,
          1802000000,
          1971000000,
          2267000000,
          2497000000,
          2802000000,
          3079000000,
          3366000000,
          3696000000,
          4156000000,
          4313000000,
          4536000000,
          5053000000,
          5252000000,
          5544000000
         ],
         "yaxis": "y"
        }
       ],
       "layout": {
        "legend": {
         "tracegroupgap": 0
        },
        "template": {
         "data": {
          "bar": [
           {
            "error_x": {
             "color": "#2a3f5f"
            },
            "error_y": {
             "color": "#2a3f5f"
            },
            "marker": {
             "line": {
              "color": "#E5ECF6",
              "width": 0.5
             },
             "pattern": {
              "fillmode": "overlay",
              "size": 10,
              "solidity": 0.2
             }
            },
            "type": "bar"
           }
          ],
          "barpolar": [
           {
            "marker": {
             "line": {
              "color": "#E5ECF6",
              "width": 0.5
             },
             "pattern": {
              "fillmode": "overlay",
              "size": 10,
              "solidity": 0.2
             }
            },
            "type": "barpolar"
           }
          ],
          "carpet": [
           {
            "aaxis": {
             "endlinecolor": "#2a3f5f",
             "gridcolor": "white",
             "linecolor": "white",
             "minorgridcolor": "white",
             "startlinecolor": "#2a3f5f"
            },
            "baxis": {
             "endlinecolor": "#2a3f5f",
             "gridcolor": "white",
             "linecolor": "white",
             "minorgridcolor": "white",
             "startlinecolor": "#2a3f5f"
            },
            "type": "carpet"
           }
          ],
          "choropleth": [
           {
            "colorbar": {
             "outlinewidth": 0,
             "ticks": ""
            },
            "type": "choropleth"
           }
          ],
          "contour": [
           {
            "colorbar": {
             "outlinewidth": 0,
             "ticks": ""
            },
            "colorscale": [
             [
              0,
              "#0d0887"
             ],
             [
              0.1111111111111111,
              "#46039f"
             ],
             [
              0.2222222222222222,
              "#7201a8"
             ],
             [
              0.3333333333333333,
              "#9c179e"
             ],
             [
              0.4444444444444444,
              "#bd3786"
             ],
             [
              0.5555555555555556,
              "#d8576b"
             ],
             [
              0.6666666666666666,
              "#ed7953"
             ],
             [
              0.7777777777777778,
              "#fb9f3a"
             ],
             [
              0.8888888888888888,
              "#fdca26"
             ],
             [
              1,
              "#f0f921"
             ]
            ],
            "type": "contour"
           }
          ],
          "contourcarpet": [
           {
            "colorbar": {
             "outlinewidth": 0,
             "ticks": ""
            },
            "type": "contourcarpet"
           }
          ],
          "heatmap": [
           {
            "colorbar": {
             "outlinewidth": 0,
             "ticks": ""
            },
            "colorscale": [
             [
              0,
              "#0d0887"
             ],
             [
              0.1111111111111111,
              "#46039f"
             ],
             [
              0.2222222222222222,
              "#7201a8"
             ],
             [
              0.3333333333333333,
              "#9c179e"
             ],
             [
              0.4444444444444444,
              "#bd3786"
             ],
             [
              0.5555555555555556,
              "#d8576b"
             ],
             [
              0.6666666666666666,
              "#ed7953"
             ],
             [
              0.7777777777777778,
              "#fb9f3a"
             ],
             [
              0.8888888888888888,
              "#fdca26"
             ],
             [
              1,
              "#f0f921"
             ]
            ],
            "type": "heatmap"
           }
          ],
          "heatmapgl": [
           {
            "colorbar": {
             "outlinewidth": 0,
             "ticks": ""
            },
            "colorscale": [
             [
              0,
              "#0d0887"
             ],
             [
              0.1111111111111111,
              "#46039f"
             ],
             [
              0.2222222222222222,
              "#7201a8"
             ],
             [
              0.3333333333333333,
              "#9c179e"
             ],
             [
              0.4444444444444444,
              "#bd3786"
             ],
             [
              0.5555555555555556,
              "#d8576b"
             ],
             [
              0.6666666666666666,
              "#ed7953"
             ],
             [
              0.7777777777777778,
              "#fb9f3a"
             ],
             [
              0.8888888888888888,
              "#fdca26"
             ],
             [
              1,
              "#f0f921"
             ]
            ],
            "type": "heatmapgl"
           }
          ],
          "histogram": [
           {
            "marker": {
             "pattern": {
              "fillmode": "overlay",
              "size": 10,
              "solidity": 0.2
             }
            },
            "type": "histogram"
           }
          ],
          "histogram2d": [
           {
            "colorbar": {
             "outlinewidth": 0,
             "ticks": ""
            },
            "colorscale": [
             [
              0,
              "#0d0887"
             ],
             [
              0.1111111111111111,
              "#46039f"
             ],
             [
              0.2222222222222222,
              "#7201a8"
             ],
             [
              0.3333333333333333,
              "#9c179e"
             ],
             [
              0.4444444444444444,
              "#bd3786"
             ],
             [
              0.5555555555555556,
              "#d8576b"
             ],
             [
              0.6666666666666666,
              "#ed7953"
             ],
             [
              0.7777777777777778,
              "#fb9f3a"
             ],
             [
              0.8888888888888888,
              "#fdca26"
             ],
             [
              1,
              "#f0f921"
             ]
            ],
            "type": "histogram2d"
           }
          ],
          "histogram2dcontour": [
           {
            "colorbar": {
             "outlinewidth": 0,
             "ticks": ""
            },
            "colorscale": [
             [
              0,
              "#0d0887"
             ],
             [
              0.1111111111111111,
              "#46039f"
             ],
             [
              0.2222222222222222,
              "#7201a8"
             ],
             [
              0.3333333333333333,
              "#9c179e"
             ],
             [
              0.4444444444444444,
              "#bd3786"
             ],
             [
              0.5555555555555556,
              "#d8576b"
             ],
             [
              0.6666666666666666,
              "#ed7953"
             ],
             [
              0.7777777777777778,
              "#fb9f3a"
             ],
             [
              0.8888888888888888,
              "#fdca26"
             ],
             [
              1,
              "#f0f921"
             ]
            ],
            "type": "histogram2dcontour"
           }
          ],
          "mesh3d": [
           {
            "colorbar": {
             "outlinewidth": 0,
             "ticks": ""
            },
            "type": "mesh3d"
           }
          ],
          "parcoords": [
           {
            "line": {
             "colorbar": {
              "outlinewidth": 0,
              "ticks": ""
             }
            },
            "type": "parcoords"
           }
          ],
          "pie": [
           {
            "automargin": true,
            "type": "pie"
           }
          ],
          "scatter": [
           {
            "fillpattern": {
             "fillmode": "overlay",
             "size": 10,
             "solidity": 0.2
            },
            "type": "scatter"
           }
          ],
          "scatter3d": [
           {
            "line": {
             "colorbar": {
              "outlinewidth": 0,
              "ticks": ""
             }
            },
            "marker": {
             "colorbar": {
              "outlinewidth": 0,
              "ticks": ""
             }
            },
            "type": "scatter3d"
           }
          ],
          "scattercarpet": [
           {
            "marker": {
             "colorbar": {
              "outlinewidth": 0,
              "ticks": ""
             }
            },
            "type": "scattercarpet"
           }
          ],
          "scattergeo": [
           {
            "marker": {
             "colorbar": {
              "outlinewidth": 0,
              "ticks": ""
             }
            },
            "type": "scattergeo"
           }
          ],
          "scattergl": [
           {
            "marker": {
             "colorbar": {
              "outlinewidth": 0,
              "ticks": ""
             }
            },
            "type": "scattergl"
           }
          ],
          "scattermapbox": [
           {
            "marker": {
             "colorbar": {
              "outlinewidth": 0,
              "ticks": ""
             }
            },
            "type": "scattermapbox"
           }
          ],
          "scatterpolar": [
           {
            "marker": {
             "colorbar": {
              "outlinewidth": 0,
              "ticks": ""
             }
            },
            "type": "scatterpolar"
           }
          ],
          "scatterpolargl": [
           {
            "marker": {
             "colorbar": {
              "outlinewidth": 0,
              "ticks": ""
             }
            },
            "type": "scatterpolargl"
           }
          ],
          "scatterternary": [
           {
            "marker": {
             "colorbar": {
              "outlinewidth": 0,
              "ticks": ""
             }
            },
            "type": "scatterternary"
           }
          ],
          "surface": [
           {
            "colorbar": {
             "outlinewidth": 0,
             "ticks": ""
            },
            "colorscale": [
             [
              0,
              "#0d0887"
             ],
             [
              0.1111111111111111,
              "#46039f"
             ],
             [
              0.2222222222222222,
              "#7201a8"
             ],
             [
              0.3333333333333333,
              "#9c179e"
             ],
             [
              0.4444444444444444,
              "#bd3786"
             ],
             [
              0.5555555555555556,
              "#d8576b"
             ],
             [
              0.6666666666666666,
              "#ed7953"
             ],
             [
              0.7777777777777778,
              "#fb9f3a"
             ],
             [
              0.8888888888888888,
              "#fdca26"
             ],
             [
              1,
              "#f0f921"
             ]
            ],
            "type": "surface"
           }
          ],
          "table": [
           {
            "cells": {
             "fill": {
              "color": "#EBF0F8"
             },
             "line": {
              "color": "white"
             }
            },
            "header": {
             "fill": {
              "color": "#C8D4E3"
             },
             "line": {
              "color": "white"
             }
            },
            "type": "table"
           }
          ]
         },
         "layout": {
          "annotationdefaults": {
           "arrowcolor": "#2a3f5f",
           "arrowhead": 0,
           "arrowwidth": 1
          },
          "autotypenumbers": "strict",
          "coloraxis": {
           "colorbar": {
            "outlinewidth": 0,
            "ticks": ""
           }
          },
          "colorscale": {
           "diverging": [
            [
             0,
             "#8e0152"
            ],
            [
             0.1,
             "#c51b7d"
            ],
            [
             0.2,
             "#de77ae"
            ],
            [
             0.3,
             "#f1b6da"
            ],
            [
             0.4,
             "#fde0ef"
            ],
            [
             0.5,
             "#f7f7f7"
            ],
            [
             0.6,
             "#e6f5d0"
            ],
            [
             0.7,
             "#b8e186"
            ],
            [
             0.8,
             "#7fbc41"
            ],
            [
             0.9,
             "#4d9221"
            ],
            [
             1,
             "#276419"
            ]
           ],
           "sequential": [
            [
             0,
             "#0d0887"
            ],
            [
             0.1111111111111111,
             "#46039f"
            ],
            [
             0.2222222222222222,
             "#7201a8"
            ],
            [
             0.3333333333333333,
             "#9c179e"
            ],
            [
             0.4444444444444444,
             "#bd3786"
            ],
            [
             0.5555555555555556,
             "#d8576b"
            ],
            [
             0.6666666666666666,
             "#ed7953"
            ],
            [
             0.7777777777777778,
             "#fb9f3a"
            ],
            [
             0.8888888888888888,
             "#fdca26"
            ],
            [
             1,
             "#f0f921"
            ]
           ],
           "sequentialminus": [
            [
             0,
             "#0d0887"
            ],
            [
             0.1111111111111111,
             "#46039f"
            ],
            [
             0.2222222222222222,
             "#7201a8"
            ],
            [
             0.3333333333333333,
             "#9c179e"
            ],
            [
             0.4444444444444444,
             "#bd3786"
            ],
            [
             0.5555555555555556,
             "#d8576b"
            ],
            [
             0.6666666666666666,
             "#ed7953"
            ],
            [
             0.7777777777777778,
             "#fb9f3a"
            ],
            [
             0.8888888888888888,
             "#fdca26"
            ],
            [
             1,
             "#f0f921"
            ]
           ]
          },
          "colorway": [
           "#636efa",
           "#EF553B",
           "#00cc96",
           "#ab63fa",
           "#FFA15A",
           "#19d3f3",
           "#FF6692",
           "#B6E880",
           "#FF97FF",
           "#FECB52"
          ],
          "font": {
           "color": "#2a3f5f"
          },
          "geo": {
           "bgcolor": "white",
           "lakecolor": "white",
           "landcolor": "#E5ECF6",
           "showlakes": true,
           "showland": true,
           "subunitcolor": "white"
          },
          "hoverlabel": {
           "align": "left"
          },
          "hovermode": "closest",
          "mapbox": {
           "style": "light"
          },
          "paper_bgcolor": "white",
          "plot_bgcolor": "#E5ECF6",
          "polar": {
           "angularaxis": {
            "gridcolor": "white",
            "linecolor": "white",
            "ticks": ""
           },
           "bgcolor": "#E5ECF6",
           "radialaxis": {
            "gridcolor": "white",
            "linecolor": "white",
            "ticks": ""
           }
          },
          "scene": {
           "xaxis": {
            "backgroundcolor": "#E5ECF6",
            "gridcolor": "white",
            "gridwidth": 2,
            "linecolor": "white",
            "showbackground": true,
            "ticks": "",
            "zerolinecolor": "white"
           },
           "yaxis": {
            "backgroundcolor": "#E5ECF6",
            "gridcolor": "white",
            "gridwidth": 2,
            "linecolor": "white",
            "showbackground": true,
            "ticks": "",
            "zerolinecolor": "white"
           },
           "zaxis": {
            "backgroundcolor": "#E5ECF6",
            "gridcolor": "white",
            "gridwidth": 2,
            "linecolor": "white",
            "showbackground": true,
            "ticks": "",
            "zerolinecolor": "white"
           }
          },
          "shapedefaults": {
           "line": {
            "color": "#2a3f5f"
           }
          },
          "ternary": {
           "aaxis": {
            "gridcolor": "white",
            "linecolor": "white",
            "ticks": ""
           },
           "baxis": {
            "gridcolor": "white",
            "linecolor": "white",
            "ticks": ""
           },
           "bgcolor": "#E5ECF6",
           "caxis": {
            "gridcolor": "white",
            "linecolor": "white",
            "ticks": ""
           }
          },
          "title": {
           "x": 0.05
          },
          "xaxis": {
           "automargin": true,
           "gridcolor": "white",
           "linecolor": "white",
           "ticks": "",
           "title": {
            "standoff": 15
           },
           "zerolinecolor": "white",
           "zerolinewidth": 2
          },
          "yaxis": {
           "automargin": true,
           "gridcolor": "white",
           "linecolor": "white",
           "ticks": "",
           "title": {
            "standoff": 15
           },
           "zerolinecolor": "white",
           "zerolinewidth": 2
          }
         }
        },
        "title": {
         "text": "Number of Internet Users Over Time"
        },
        "xaxis": {
         "anchor": "y",
         "domain": [
          0,
          1
         ],
         "title": {
          "text": "Date"
         }
        },
        "yaxis": {
         "anchor": "x",
         "domain": [
          0,
          1
         ],
         "title": {
          "text": "Number of Users"
         }
        }
       }
      },
      "text/html": [
       "<div>                            <div id=\"3d28dc18-3a4a-4ada-9f06-c2ed43be9bb2\" class=\"plotly-graph-div\" style=\"height:525px; width:100%;\"></div>            <script type=\"text/javascript\">                require([\"plotly\"], function(Plotly) {                    window.PLOTLYENV=window.PLOTLYENV || {};                                    if (document.getElementById(\"3d28dc18-3a4a-4ada-9f06-c2ed43be9bb2\")) {                    Plotly.newPlot(                        \"3d28dc18-3a4a-4ada-9f06-c2ed43be9bb2\",                        [{\"hovertemplate\":\"Date=%{x}<br>Number of Users=%{y}<extra></extra>\",\"legendgroup\":\"\",\"line\":{\"color\":\"#636efa\",\"dash\":\"solid\"},\"marker\":{\"symbol\":\"circle\"},\"mode\":\"lines\",\"name\":\"\",\"orientation\":\"v\",\"showlegend\":false,\"x\":[\"1995-12-31T00:00:00\",\"1996-12-31T00:00:00\",\"1997-12-31T00:00:00\",\"1998-12-31T00:00:00\",\"1999-12-31T00:00:00\",\"2000-12-31T00:00:00\",\"2001-12-31T00:00:00\",\"2002-12-31T00:00:00\",\"2003-12-31T00:00:00\",\"2004-12-31T00:00:00\",\"2005-12-31T00:00:00\",\"2006-12-31T00:00:00\",\"2007-12-31T00:00:00\",\"2008-12-31T00:00:00\",\"2009-12-31T00:00:00\",\"2010-12-31T00:00:00\",\"2011-12-31T00:00:00\",\"2012-12-31T00:00:00\",\"2013-12-31T00:00:00\",\"2014-12-31T00:00:00\",\"2015-12-31T00:00:00\",\"2016-12-31T00:00:00\",\"2017-12-31T00:00:00\",\"2018-12-31T00:00:00\",\"2019-12-31T00:00:00\",\"2020-12-31T00:00:00\",\"2021-12-31T00:00:00\",\"2022-12-31T00:00:00\"],\"xaxis\":\"x\",\"y\":[16000000,36000000,70000000,147000000,248000000,361000000,513000000,587000000,719000000,817000000,1018000000,1093000000,1319000000,1574000000,1802000000,1971000000,2267000000,2497000000,2802000000,3079000000,3366000000,3696000000,4156000000,4313000000,4536000000,5053000000,5252000000,5544000000],\"yaxis\":\"y\",\"type\":\"scatter\"}],                        {\"template\":{\"data\":{\"histogram2dcontour\":[{\"type\":\"histogram2dcontour\",\"colorbar\":{\"outlinewidth\":0,\"ticks\":\"\"},\"colorscale\":[[0.0,\"#0d0887\"],[0.1111111111111111,\"#46039f\"],[0.2222222222222222,\"#7201a8\"],[0.3333333333333333,\"#9c179e\"],[0.4444444444444444,\"#bd3786\"],[0.5555555555555556,\"#d8576b\"],[0.6666666666666666,\"#ed7953\"],[0.7777777777777778,\"#fb9f3a\"],[0.8888888888888888,\"#fdca26\"],[1.0,\"#f0f921\"]]}],\"choropleth\":[{\"type\":\"choropleth\",\"colorbar\":{\"outlinewidth\":0,\"ticks\":\"\"}}],\"histogram2d\":[{\"type\":\"histogram2d\",\"colorbar\":{\"outlinewidth\":0,\"ticks\":\"\"},\"colorscale\":[[0.0,\"#0d0887\"],[0.1111111111111111,\"#46039f\"],[0.2222222222222222,\"#7201a8\"],[0.3333333333333333,\"#9c179e\"],[0.4444444444444444,\"#bd3786\"],[0.5555555555555556,\"#d8576b\"],[0.6666666666666666,\"#ed7953\"],[0.7777777777777778,\"#fb9f3a\"],[0.8888888888888888,\"#fdca26\"],[1.0,\"#f0f921\"]]}],\"heatmap\":[{\"type\":\"heatmap\",\"colorbar\":{\"outlinewidth\":0,\"ticks\":\"\"},\"colorscale\":[[0.0,\"#0d0887\"],[0.1111111111111111,\"#46039f\"],[0.2222222222222222,\"#7201a8\"],[0.3333333333333333,\"#9c179e\"],[0.4444444444444444,\"#bd3786\"],[0.5555555555555556,\"#d8576b\"],[0.6666666666666666,\"#ed7953\"],[0.7777777777777778,\"#fb9f3a\"],[0.8888888888888888,\"#fdca26\"],[1.0,\"#f0f921\"]]}],\"heatmapgl\":[{\"type\":\"heatmapgl\",\"colorbar\":{\"outlinewidth\":0,\"ticks\":\"\"},\"colorscale\":[[0.0,\"#0d0887\"],[0.1111111111111111,\"#46039f\"],[0.2222222222222222,\"#7201a8\"],[0.3333333333333333,\"#9c179e\"],[0.4444444444444444,\"#bd3786\"],[0.5555555555555556,\"#d8576b\"],[0.6666666666666666,\"#ed7953\"],[0.7777777777777778,\"#fb9f3a\"],[0.8888888888888888,\"#fdca26\"],[1.0,\"#f0f921\"]]}],\"contourcarpet\":[{\"type\":\"contourcarpet\",\"colorbar\":{\"outlinewidth\":0,\"ticks\":\"\"}}],\"contour\":[{\"type\":\"contour\",\"colorbar\":{\"outlinewidth\":0,\"ticks\":\"\"},\"colorscale\":[[0.0,\"#0d0887\"],[0.1111111111111111,\"#46039f\"],[0.2222222222222222,\"#7201a8\"],[0.3333333333333333,\"#9c179e\"],[0.4444444444444444,\"#bd3786\"],[0.5555555555555556,\"#d8576b\"],[0.6666666666666666,\"#ed7953\"],[0.7777777777777778,\"#fb9f3a\"],[0.8888888888888888,\"#fdca26\"],[1.0,\"#f0f921\"]]}],\"surface\":[{\"type\":\"surface\",\"colorbar\":{\"outlinewidth\":0,\"ticks\":\"\"},\"colorscale\":[[0.0,\"#0d0887\"],[0.1111111111111111,\"#46039f\"],[0.2222222222222222,\"#7201a8\"],[0.3333333333333333,\"#9c179e\"],[0.4444444444444444,\"#bd3786\"],[0.5555555555555556,\"#d8576b\"],[0.6666666666666666,\"#ed7953\"],[0.7777777777777778,\"#fb9f3a\"],[0.8888888888888888,\"#fdca26\"],[1.0,\"#f0f921\"]]}],\"mesh3d\":[{\"type\":\"mesh3d\",\"colorbar\":{\"outlinewidth\":0,\"ticks\":\"\"}}],\"scatter\":[{\"fillpattern\":{\"fillmode\":\"overlay\",\"size\":10,\"solidity\":0.2},\"type\":\"scatter\"}],\"parcoords\":[{\"type\":\"parcoords\",\"line\":{\"colorbar\":{\"outlinewidth\":0,\"ticks\":\"\"}}}],\"scatterpolargl\":[{\"type\":\"scatterpolargl\",\"marker\":{\"colorbar\":{\"outlinewidth\":0,\"ticks\":\"\"}}}],\"bar\":[{\"error_x\":{\"color\":\"#2a3f5f\"},\"error_y\":{\"color\":\"#2a3f5f\"},\"marker\":{\"line\":{\"color\":\"#E5ECF6\",\"width\":0.5},\"pattern\":{\"fillmode\":\"overlay\",\"size\":10,\"solidity\":0.2}},\"type\":\"bar\"}],\"scattergeo\":[{\"type\":\"scattergeo\",\"marker\":{\"colorbar\":{\"outlinewidth\":0,\"ticks\":\"\"}}}],\"scatterpolar\":[{\"type\":\"scatterpolar\",\"marker\":{\"colorbar\":{\"outlinewidth\":0,\"ticks\":\"\"}}}],\"histogram\":[{\"marker\":{\"pattern\":{\"fillmode\":\"overlay\",\"size\":10,\"solidity\":0.2}},\"type\":\"histogram\"}],\"scattergl\":[{\"type\":\"scattergl\",\"marker\":{\"colorbar\":{\"outlinewidth\":0,\"ticks\":\"\"}}}],\"scatter3d\":[{\"type\":\"scatter3d\",\"line\":{\"colorbar\":{\"outlinewidth\":0,\"ticks\":\"\"}},\"marker\":{\"colorbar\":{\"outlinewidth\":0,\"ticks\":\"\"}}}],\"scattermapbox\":[{\"type\":\"scattermapbox\",\"marker\":{\"colorbar\":{\"outlinewidth\":0,\"ticks\":\"\"}}}],\"scatterternary\":[{\"type\":\"scatterternary\",\"marker\":{\"colorbar\":{\"outlinewidth\":0,\"ticks\":\"\"}}}],\"scattercarpet\":[{\"type\":\"scattercarpet\",\"marker\":{\"colorbar\":{\"outlinewidth\":0,\"ticks\":\"\"}}}],\"carpet\":[{\"aaxis\":{\"endlinecolor\":\"#2a3f5f\",\"gridcolor\":\"white\",\"linecolor\":\"white\",\"minorgridcolor\":\"white\",\"startlinecolor\":\"#2a3f5f\"},\"baxis\":{\"endlinecolor\":\"#2a3f5f\",\"gridcolor\":\"white\",\"linecolor\":\"white\",\"minorgridcolor\":\"white\",\"startlinecolor\":\"#2a3f5f\"},\"type\":\"carpet\"}],\"table\":[{\"cells\":{\"fill\":{\"color\":\"#EBF0F8\"},\"line\":{\"color\":\"white\"}},\"header\":{\"fill\":{\"color\":\"#C8D4E3\"},\"line\":{\"color\":\"white\"}},\"type\":\"table\"}],\"barpolar\":[{\"marker\":{\"line\":{\"color\":\"#E5ECF6\",\"width\":0.5},\"pattern\":{\"fillmode\":\"overlay\",\"size\":10,\"solidity\":0.2}},\"type\":\"barpolar\"}],\"pie\":[{\"automargin\":true,\"type\":\"pie\"}]},\"layout\":{\"autotypenumbers\":\"strict\",\"colorway\":[\"#636efa\",\"#EF553B\",\"#00cc96\",\"#ab63fa\",\"#FFA15A\",\"#19d3f3\",\"#FF6692\",\"#B6E880\",\"#FF97FF\",\"#FECB52\"],\"font\":{\"color\":\"#2a3f5f\"},\"hovermode\":\"closest\",\"hoverlabel\":{\"align\":\"left\"},\"paper_bgcolor\":\"white\",\"plot_bgcolor\":\"#E5ECF6\",\"polar\":{\"bgcolor\":\"#E5ECF6\",\"angularaxis\":{\"gridcolor\":\"white\",\"linecolor\":\"white\",\"ticks\":\"\"},\"radialaxis\":{\"gridcolor\":\"white\",\"linecolor\":\"white\",\"ticks\":\"\"}},\"ternary\":{\"bgcolor\":\"#E5ECF6\",\"aaxis\":{\"gridcolor\":\"white\",\"linecolor\":\"white\",\"ticks\":\"\"},\"baxis\":{\"gridcolor\":\"white\",\"linecolor\":\"white\",\"ticks\":\"\"},\"caxis\":{\"gridcolor\":\"white\",\"linecolor\":\"white\",\"ticks\":\"\"}},\"coloraxis\":{\"colorbar\":{\"outlinewidth\":0,\"ticks\":\"\"}},\"colorscale\":{\"sequential\":[[0.0,\"#0d0887\"],[0.1111111111111111,\"#46039f\"],[0.2222222222222222,\"#7201a8\"],[0.3333333333333333,\"#9c179e\"],[0.4444444444444444,\"#bd3786\"],[0.5555555555555556,\"#d8576b\"],[0.6666666666666666,\"#ed7953\"],[0.7777777777777778,\"#fb9f3a\"],[0.8888888888888888,\"#fdca26\"],[1.0,\"#f0f921\"]],\"sequentialminus\":[[0.0,\"#0d0887\"],[0.1111111111111111,\"#46039f\"],[0.2222222222222222,\"#7201a8\"],[0.3333333333333333,\"#9c179e\"],[0.4444444444444444,\"#bd3786\"],[0.5555555555555556,\"#d8576b\"],[0.6666666666666666,\"#ed7953\"],[0.7777777777777778,\"#fb9f3a\"],[0.8888888888888888,\"#fdca26\"],[1.0,\"#f0f921\"]],\"diverging\":[[0,\"#8e0152\"],[0.1,\"#c51b7d\"],[0.2,\"#de77ae\"],[0.3,\"#f1b6da\"],[0.4,\"#fde0ef\"],[0.5,\"#f7f7f7\"],[0.6,\"#e6f5d0\"],[0.7,\"#b8e186\"],[0.8,\"#7fbc41\"],[0.9,\"#4d9221\"],[1,\"#276419\"]]},\"xaxis\":{\"gridcolor\":\"white\",\"linecolor\":\"white\",\"ticks\":\"\",\"title\":{\"standoff\":15},\"zerolinecolor\":\"white\",\"automargin\":true,\"zerolinewidth\":2},\"yaxis\":{\"gridcolor\":\"white\",\"linecolor\":\"white\",\"ticks\":\"\",\"title\":{\"standoff\":15},\"zerolinecolor\":\"white\",\"automargin\":true,\"zerolinewidth\":2},\"scene\":{\"xaxis\":{\"backgroundcolor\":\"#E5ECF6\",\"gridcolor\":\"white\",\"linecolor\":\"white\",\"showbackground\":true,\"ticks\":\"\",\"zerolinecolor\":\"white\",\"gridwidth\":2},\"yaxis\":{\"backgroundcolor\":\"#E5ECF6\",\"gridcolor\":\"white\",\"linecolor\":\"white\",\"showbackground\":true,\"ticks\":\"\",\"zerolinecolor\":\"white\",\"gridwidth\":2},\"zaxis\":{\"backgroundcolor\":\"#E5ECF6\",\"gridcolor\":\"white\",\"linecolor\":\"white\",\"showbackground\":true,\"ticks\":\"\",\"zerolinecolor\":\"white\",\"gridwidth\":2}},\"shapedefaults\":{\"line\":{\"color\":\"#2a3f5f\"}},\"annotationdefaults\":{\"arrowcolor\":\"#2a3f5f\",\"arrowhead\":0,\"arrowwidth\":1},\"geo\":{\"bgcolor\":\"white\",\"landcolor\":\"#E5ECF6\",\"subunitcolor\":\"white\",\"showland\":true,\"showlakes\":true,\"lakecolor\":\"white\"},\"title\":{\"x\":0.05},\"mapbox\":{\"style\":\"light\"}}},\"xaxis\":{\"anchor\":\"y\",\"domain\":[0.0,1.0],\"title\":{\"text\":\"Date\"}},\"yaxis\":{\"anchor\":\"x\",\"domain\":[0.0,1.0],\"title\":{\"text\":\"Number of Users\"}},\"legend\":{\"tracegroupgap\":0},\"title\":{\"text\":\"Number of Internet Users Over Time\"}},                        {\"responsive\": true}                    ).then(function(){\n",
       "                            \n",
       "var gd = document.getElementById('3d28dc18-3a4a-4ada-9f06-c2ed43be9bb2');\n",
       "var x = new MutationObserver(function (mutations, observer) {{\n",
       "        var display = window.getComputedStyle(gd).display;\n",
       "        if (!display || display === 'none') {{\n",
       "            console.log([gd, 'removed!']);\n",
       "            Plotly.purge(gd);\n",
       "            observer.disconnect();\n",
       "        }}\n",
       "}});\n",
       "\n",
       "// Listen for the removal of the full notebook cells\n",
       "var notebookContainer = gd.closest('#notebook-container');\n",
       "if (notebookContainer) {{\n",
       "    x.observe(notebookContainer, {childList: true});\n",
       "}}\n",
       "\n",
       "// Listen for the clearing of the current output cell\n",
       "var outputEl = gd.closest('.output');\n",
       "if (outputEl) {{\n",
       "    x.observe(outputEl, {childList: true});\n",
       "}}\n",
       "\n",
       "                        })                };                });            </script>        </div>"
      ]
     },
     "metadata": {},
     "output_type": "display_data"
    }
   ],
   "source": [
    "import plotly.express as px\n",
    "\n",
    "df_yearly = df.resample('Y', on='Date').last().reset_index()\n",
    "fig = px.line(df_yearly, x='Date', y='Number of Users', title='Number of Internet Users Over Time')\n",
    "fig.show()"
   ]
  },
  {
   "cell_type": "code",
   "execution_count": 124,
   "id": "87ca72f3",
   "metadata": {},
   "outputs": [
    {
     "data": {
      "application/vnd.plotly.v1+json": {
       "config": {
        "plotlyServerURL": "https://plotly.com"
       },
       "data": [
        {
         "hovertemplate": "Date=%{x}<br>% of World Population=%{y}<extra></extra>",
         "legendgroup": "",
         "line": {
          "color": "#636efa",
          "dash": "solid"
         },
         "marker": {
          "symbol": "circle"
         },
         "mode": "lines",
         "name": "",
         "orientation": "v",
         "showlegend": false,
         "type": "scatter",
         "x": [
          1995,
          1996,
          1997,
          1998,
          1999,
          2000,
          2001,
          2002,
          2003,
          2004,
          2005,
          2006,
          2007,
          2008,
          2009,
          2010,
          2011,
          2012,
          2013,
          2014,
          2015,
          2016,
          2017,
          2018,
          2019,
          2020,
          2021,
          2022
         ],
         "xaxis": "x",
         "y": [
          0.4,
          0.9,
          1.7,
          3.6,
          4.1,
          5.566666666666666,
          8.033333333333333,
          9.033333333333333,
          10.524999999999999,
          12.149999999999999,
          14.86,
          16.275,
          18.475,
          22.25,
          25.175,
          28.75,
          31.2,
          34.525,
          39,
          42.349999999999994,
          45.7,
          49.5,
          53.05,
          55.35,
          57.8,
          63.1,
          65.9,
          68.60000000000001
         ],
         "yaxis": "y"
        }
       ],
       "layout": {
        "legend": {
         "tracegroupgap": 0
        },
        "template": {
         "data": {
          "bar": [
           {
            "error_x": {
             "color": "#2a3f5f"
            },
            "error_y": {
             "color": "#2a3f5f"
            },
            "marker": {
             "line": {
              "color": "#E5ECF6",
              "width": 0.5
             },
             "pattern": {
              "fillmode": "overlay",
              "size": 10,
              "solidity": 0.2
             }
            },
            "type": "bar"
           }
          ],
          "barpolar": [
           {
            "marker": {
             "line": {
              "color": "#E5ECF6",
              "width": 0.5
             },
             "pattern": {
              "fillmode": "overlay",
              "size": 10,
              "solidity": 0.2
             }
            },
            "type": "barpolar"
           }
          ],
          "carpet": [
           {
            "aaxis": {
             "endlinecolor": "#2a3f5f",
             "gridcolor": "white",
             "linecolor": "white",
             "minorgridcolor": "white",
             "startlinecolor": "#2a3f5f"
            },
            "baxis": {
             "endlinecolor": "#2a3f5f",
             "gridcolor": "white",
             "linecolor": "white",
             "minorgridcolor": "white",
             "startlinecolor": "#2a3f5f"
            },
            "type": "carpet"
           }
          ],
          "choropleth": [
           {
            "colorbar": {
             "outlinewidth": 0,
             "ticks": ""
            },
            "type": "choropleth"
           }
          ],
          "contour": [
           {
            "colorbar": {
             "outlinewidth": 0,
             "ticks": ""
            },
            "colorscale": [
             [
              0,
              "#0d0887"
             ],
             [
              0.1111111111111111,
              "#46039f"
             ],
             [
              0.2222222222222222,
              "#7201a8"
             ],
             [
              0.3333333333333333,
              "#9c179e"
             ],
             [
              0.4444444444444444,
              "#bd3786"
             ],
             [
              0.5555555555555556,
              "#d8576b"
             ],
             [
              0.6666666666666666,
              "#ed7953"
             ],
             [
              0.7777777777777778,
              "#fb9f3a"
             ],
             [
              0.8888888888888888,
              "#fdca26"
             ],
             [
              1,
              "#f0f921"
             ]
            ],
            "type": "contour"
           }
          ],
          "contourcarpet": [
           {
            "colorbar": {
             "outlinewidth": 0,
             "ticks": ""
            },
            "type": "contourcarpet"
           }
          ],
          "heatmap": [
           {
            "colorbar": {
             "outlinewidth": 0,
             "ticks": ""
            },
            "colorscale": [
             [
              0,
              "#0d0887"
             ],
             [
              0.1111111111111111,
              "#46039f"
             ],
             [
              0.2222222222222222,
              "#7201a8"
             ],
             [
              0.3333333333333333,
              "#9c179e"
             ],
             [
              0.4444444444444444,
              "#bd3786"
             ],
             [
              0.5555555555555556,
              "#d8576b"
             ],
             [
              0.6666666666666666,
              "#ed7953"
             ],
             [
              0.7777777777777778,
              "#fb9f3a"
             ],
             [
              0.8888888888888888,
              "#fdca26"
             ],
             [
              1,
              "#f0f921"
             ]
            ],
            "type": "heatmap"
           }
          ],
          "heatmapgl": [
           {
            "colorbar": {
             "outlinewidth": 0,
             "ticks": ""
            },
            "colorscale": [
             [
              0,
              "#0d0887"
             ],
             [
              0.1111111111111111,
              "#46039f"
             ],
             [
              0.2222222222222222,
              "#7201a8"
             ],
             [
              0.3333333333333333,
              "#9c179e"
             ],
             [
              0.4444444444444444,
              "#bd3786"
             ],
             [
              0.5555555555555556,
              "#d8576b"
             ],
             [
              0.6666666666666666,
              "#ed7953"
             ],
             [
              0.7777777777777778,
              "#fb9f3a"
             ],
             [
              0.8888888888888888,
              "#fdca26"
             ],
             [
              1,
              "#f0f921"
             ]
            ],
            "type": "heatmapgl"
           }
          ],
          "histogram": [
           {
            "marker": {
             "pattern": {
              "fillmode": "overlay",
              "size": 10,
              "solidity": 0.2
             }
            },
            "type": "histogram"
           }
          ],
          "histogram2d": [
           {
            "colorbar": {
             "outlinewidth": 0,
             "ticks": ""
            },
            "colorscale": [
             [
              0,
              "#0d0887"
             ],
             [
              0.1111111111111111,
              "#46039f"
             ],
             [
              0.2222222222222222,
              "#7201a8"
             ],
             [
              0.3333333333333333,
              "#9c179e"
             ],
             [
              0.4444444444444444,
              "#bd3786"
             ],
             [
              0.5555555555555556,
              "#d8576b"
             ],
             [
              0.6666666666666666,
              "#ed7953"
             ],
             [
              0.7777777777777778,
              "#fb9f3a"
             ],
             [
              0.8888888888888888,
              "#fdca26"
             ],
             [
              1,
              "#f0f921"
             ]
            ],
            "type": "histogram2d"
           }
          ],
          "histogram2dcontour": [
           {
            "colorbar": {
             "outlinewidth": 0,
             "ticks": ""
            },
            "colorscale": [
             [
              0,
              "#0d0887"
             ],
             [
              0.1111111111111111,
              "#46039f"
             ],
             [
              0.2222222222222222,
              "#7201a8"
             ],
             [
              0.3333333333333333,
              "#9c179e"
             ],
             [
              0.4444444444444444,
              "#bd3786"
             ],
             [
              0.5555555555555556,
              "#d8576b"
             ],
             [
              0.6666666666666666,
              "#ed7953"
             ],
             [
              0.7777777777777778,
              "#fb9f3a"
             ],
             [
              0.8888888888888888,
              "#fdca26"
             ],
             [
              1,
              "#f0f921"
             ]
            ],
            "type": "histogram2dcontour"
           }
          ],
          "mesh3d": [
           {
            "colorbar": {
             "outlinewidth": 0,
             "ticks": ""
            },
            "type": "mesh3d"
           }
          ],
          "parcoords": [
           {
            "line": {
             "colorbar": {
              "outlinewidth": 0,
              "ticks": ""
             }
            },
            "type": "parcoords"
           }
          ],
          "pie": [
           {
            "automargin": true,
            "type": "pie"
           }
          ],
          "scatter": [
           {
            "fillpattern": {
             "fillmode": "overlay",
             "size": 10,
             "solidity": 0.2
            },
            "type": "scatter"
           }
          ],
          "scatter3d": [
           {
            "line": {
             "colorbar": {
              "outlinewidth": 0,
              "ticks": ""
             }
            },
            "marker": {
             "colorbar": {
              "outlinewidth": 0,
              "ticks": ""
             }
            },
            "type": "scatter3d"
           }
          ],
          "scattercarpet": [
           {
            "marker": {
             "colorbar": {
              "outlinewidth": 0,
              "ticks": ""
             }
            },
            "type": "scattercarpet"
           }
          ],
          "scattergeo": [
           {
            "marker": {
             "colorbar": {
              "outlinewidth": 0,
              "ticks": ""
             }
            },
            "type": "scattergeo"
           }
          ],
          "scattergl": [
           {
            "marker": {
             "colorbar": {
              "outlinewidth": 0,
              "ticks": ""
             }
            },
            "type": "scattergl"
           }
          ],
          "scattermapbox": [
           {
            "marker": {
             "colorbar": {
              "outlinewidth": 0,
              "ticks": ""
             }
            },
            "type": "scattermapbox"
           }
          ],
          "scatterpolar": [
           {
            "marker": {
             "colorbar": {
              "outlinewidth": 0,
              "ticks": ""
             }
            },
            "type": "scatterpolar"
           }
          ],
          "scatterpolargl": [
           {
            "marker": {
             "colorbar": {
              "outlinewidth": 0,
              "ticks": ""
             }
            },
            "type": "scatterpolargl"
           }
          ],
          "scatterternary": [
           {
            "marker": {
             "colorbar": {
              "outlinewidth": 0,
              "ticks": ""
             }
            },
            "type": "scatterternary"
           }
          ],
          "surface": [
           {
            "colorbar": {
             "outlinewidth": 0,
             "ticks": ""
            },
            "colorscale": [
             [
              0,
              "#0d0887"
             ],
             [
              0.1111111111111111,
              "#46039f"
             ],
             [
              0.2222222222222222,
              "#7201a8"
             ],
             [
              0.3333333333333333,
              "#9c179e"
             ],
             [
              0.4444444444444444,
              "#bd3786"
             ],
             [
              0.5555555555555556,
              "#d8576b"
             ],
             [
              0.6666666666666666,
              "#ed7953"
             ],
             [
              0.7777777777777778,
              "#fb9f3a"
             ],
             [
              0.8888888888888888,
              "#fdca26"
             ],
             [
              1,
              "#f0f921"
             ]
            ],
            "type": "surface"
           }
          ],
          "table": [
           {
            "cells": {
             "fill": {
              "color": "#EBF0F8"
             },
             "line": {
              "color": "white"
             }
            },
            "header": {
             "fill": {
              "color": "#C8D4E3"
             },
             "line": {
              "color": "white"
             }
            },
            "type": "table"
           }
          ]
         },
         "layout": {
          "annotationdefaults": {
           "arrowcolor": "#2a3f5f",
           "arrowhead": 0,
           "arrowwidth": 1
          },
          "autotypenumbers": "strict",
          "coloraxis": {
           "colorbar": {
            "outlinewidth": 0,
            "ticks": ""
           }
          },
          "colorscale": {
           "diverging": [
            [
             0,
             "#8e0152"
            ],
            [
             0.1,
             "#c51b7d"
            ],
            [
             0.2,
             "#de77ae"
            ],
            [
             0.3,
             "#f1b6da"
            ],
            [
             0.4,
             "#fde0ef"
            ],
            [
             0.5,
             "#f7f7f7"
            ],
            [
             0.6,
             "#e6f5d0"
            ],
            [
             0.7,
             "#b8e186"
            ],
            [
             0.8,
             "#7fbc41"
            ],
            [
             0.9,
             "#4d9221"
            ],
            [
             1,
             "#276419"
            ]
           ],
           "sequential": [
            [
             0,
             "#0d0887"
            ],
            [
             0.1111111111111111,
             "#46039f"
            ],
            [
             0.2222222222222222,
             "#7201a8"
            ],
            [
             0.3333333333333333,
             "#9c179e"
            ],
            [
             0.4444444444444444,
             "#bd3786"
            ],
            [
             0.5555555555555556,
             "#d8576b"
            ],
            [
             0.6666666666666666,
             "#ed7953"
            ],
            [
             0.7777777777777778,
             "#fb9f3a"
            ],
            [
             0.8888888888888888,
             "#fdca26"
            ],
            [
             1,
             "#f0f921"
            ]
           ],
           "sequentialminus": [
            [
             0,
             "#0d0887"
            ],
            [
             0.1111111111111111,
             "#46039f"
            ],
            [
             0.2222222222222222,
             "#7201a8"
            ],
            [
             0.3333333333333333,
             "#9c179e"
            ],
            [
             0.4444444444444444,
             "#bd3786"
            ],
            [
             0.5555555555555556,
             "#d8576b"
            ],
            [
             0.6666666666666666,
             "#ed7953"
            ],
            [
             0.7777777777777778,
             "#fb9f3a"
            ],
            [
             0.8888888888888888,
             "#fdca26"
            ],
            [
             1,
             "#f0f921"
            ]
           ]
          },
          "colorway": [
           "#636efa",
           "#EF553B",
           "#00cc96",
           "#ab63fa",
           "#FFA15A",
           "#19d3f3",
           "#FF6692",
           "#B6E880",
           "#FF97FF",
           "#FECB52"
          ],
          "font": {
           "color": "#2a3f5f"
          },
          "geo": {
           "bgcolor": "white",
           "lakecolor": "white",
           "landcolor": "#E5ECF6",
           "showlakes": true,
           "showland": true,
           "subunitcolor": "white"
          },
          "hoverlabel": {
           "align": "left"
          },
          "hovermode": "closest",
          "mapbox": {
           "style": "light"
          },
          "paper_bgcolor": "white",
          "plot_bgcolor": "#E5ECF6",
          "polar": {
           "angularaxis": {
            "gridcolor": "white",
            "linecolor": "white",
            "ticks": ""
           },
           "bgcolor": "#E5ECF6",
           "radialaxis": {
            "gridcolor": "white",
            "linecolor": "white",
            "ticks": ""
           }
          },
          "scene": {
           "xaxis": {
            "backgroundcolor": "#E5ECF6",
            "gridcolor": "white",
            "gridwidth": 2,
            "linecolor": "white",
            "showbackground": true,
            "ticks": "",
            "zerolinecolor": "white"
           },
           "yaxis": {
            "backgroundcolor": "#E5ECF6",
            "gridcolor": "white",
            "gridwidth": 2,
            "linecolor": "white",
            "showbackground": true,
            "ticks": "",
            "zerolinecolor": "white"
           },
           "zaxis": {
            "backgroundcolor": "#E5ECF6",
            "gridcolor": "white",
            "gridwidth": 2,
            "linecolor": "white",
            "showbackground": true,
            "ticks": "",
            "zerolinecolor": "white"
           }
          },
          "shapedefaults": {
           "line": {
            "color": "#2a3f5f"
           }
          },
          "ternary": {
           "aaxis": {
            "gridcolor": "white",
            "linecolor": "white",
            "ticks": ""
           },
           "baxis": {
            "gridcolor": "white",
            "linecolor": "white",
            "ticks": ""
           },
           "bgcolor": "#E5ECF6",
           "caxis": {
            "gridcolor": "white",
            "linecolor": "white",
            "ticks": ""
           }
          },
          "title": {
           "x": 0.05
          },
          "xaxis": {
           "automargin": true,
           "gridcolor": "white",
           "linecolor": "white",
           "ticks": "",
           "title": {
            "standoff": 15
           },
           "zerolinecolor": "white",
           "zerolinewidth": 2
          },
          "yaxis": {
           "automargin": true,
           "gridcolor": "white",
           "linecolor": "white",
           "ticks": "",
           "title": {
            "standoff": 15
           },
           "zerolinecolor": "white",
           "zerolinewidth": 2
          }
         }
        },
        "title": {
         "text": "World Population Percentage Over Time"
        },
        "xaxis": {
         "anchor": "y",
         "domain": [
          0,
          1
         ],
         "title": {
          "text": "Date"
         }
        },
        "yaxis": {
         "anchor": "x",
         "domain": [
          0,
          1
         ],
         "title": {
          "text": "% of World Population"
         }
        }
       }
      },
      "text/html": [
       "<div>                            <div id=\"26cf2e51-db72-47b4-b20a-980c13b7a0fd\" class=\"plotly-graph-div\" style=\"height:525px; width:100%;\"></div>            <script type=\"text/javascript\">                require([\"plotly\"], function(Plotly) {                    window.PLOTLYENV=window.PLOTLYENV || {};                                    if (document.getElementById(\"26cf2e51-db72-47b4-b20a-980c13b7a0fd\")) {                    Plotly.newPlot(                        \"26cf2e51-db72-47b4-b20a-980c13b7a0fd\",                        [{\"hovertemplate\":\"Date=%{x}<br>% of World Population=%{y}<extra></extra>\",\"legendgroup\":\"\",\"line\":{\"color\":\"#636efa\",\"dash\":\"solid\"},\"marker\":{\"symbol\":\"circle\"},\"mode\":\"lines\",\"name\":\"\",\"orientation\":\"v\",\"showlegend\":false,\"x\":[1995,1996,1997,1998,1999,2000,2001,2002,2003,2004,2005,2006,2007,2008,2009,2010,2011,2012,2013,2014,2015,2016,2017,2018,2019,2020,2021,2022],\"xaxis\":\"x\",\"y\":[0.4,0.9,1.7,3.6,4.1,5.566666666666666,8.033333333333333,9.033333333333333,10.524999999999999,12.149999999999999,14.86,16.275,18.475,22.25,25.175,28.75,31.2,34.525,39.0,42.349999999999994,45.7,49.5,53.05,55.35,57.8,63.1,65.9,68.60000000000001],\"yaxis\":\"y\",\"type\":\"scatter\"}],                        {\"template\":{\"data\":{\"histogram2dcontour\":[{\"type\":\"histogram2dcontour\",\"colorbar\":{\"outlinewidth\":0,\"ticks\":\"\"},\"colorscale\":[[0.0,\"#0d0887\"],[0.1111111111111111,\"#46039f\"],[0.2222222222222222,\"#7201a8\"],[0.3333333333333333,\"#9c179e\"],[0.4444444444444444,\"#bd3786\"],[0.5555555555555556,\"#d8576b\"],[0.6666666666666666,\"#ed7953\"],[0.7777777777777778,\"#fb9f3a\"],[0.8888888888888888,\"#fdca26\"],[1.0,\"#f0f921\"]]}],\"choropleth\":[{\"type\":\"choropleth\",\"colorbar\":{\"outlinewidth\":0,\"ticks\":\"\"}}],\"histogram2d\":[{\"type\":\"histogram2d\",\"colorbar\":{\"outlinewidth\":0,\"ticks\":\"\"},\"colorscale\":[[0.0,\"#0d0887\"],[0.1111111111111111,\"#46039f\"],[0.2222222222222222,\"#7201a8\"],[0.3333333333333333,\"#9c179e\"],[0.4444444444444444,\"#bd3786\"],[0.5555555555555556,\"#d8576b\"],[0.6666666666666666,\"#ed7953\"],[0.7777777777777778,\"#fb9f3a\"],[0.8888888888888888,\"#fdca26\"],[1.0,\"#f0f921\"]]}],\"heatmap\":[{\"type\":\"heatmap\",\"colorbar\":{\"outlinewidth\":0,\"ticks\":\"\"},\"colorscale\":[[0.0,\"#0d0887\"],[0.1111111111111111,\"#46039f\"],[0.2222222222222222,\"#7201a8\"],[0.3333333333333333,\"#9c179e\"],[0.4444444444444444,\"#bd3786\"],[0.5555555555555556,\"#d8576b\"],[0.6666666666666666,\"#ed7953\"],[0.7777777777777778,\"#fb9f3a\"],[0.8888888888888888,\"#fdca26\"],[1.0,\"#f0f921\"]]}],\"heatmapgl\":[{\"type\":\"heatmapgl\",\"colorbar\":{\"outlinewidth\":0,\"ticks\":\"\"},\"colorscale\":[[0.0,\"#0d0887\"],[0.1111111111111111,\"#46039f\"],[0.2222222222222222,\"#7201a8\"],[0.3333333333333333,\"#9c179e\"],[0.4444444444444444,\"#bd3786\"],[0.5555555555555556,\"#d8576b\"],[0.6666666666666666,\"#ed7953\"],[0.7777777777777778,\"#fb9f3a\"],[0.8888888888888888,\"#fdca26\"],[1.0,\"#f0f921\"]]}],\"contourcarpet\":[{\"type\":\"contourcarpet\",\"colorbar\":{\"outlinewidth\":0,\"ticks\":\"\"}}],\"contour\":[{\"type\":\"contour\",\"colorbar\":{\"outlinewidth\":0,\"ticks\":\"\"},\"colorscale\":[[0.0,\"#0d0887\"],[0.1111111111111111,\"#46039f\"],[0.2222222222222222,\"#7201a8\"],[0.3333333333333333,\"#9c179e\"],[0.4444444444444444,\"#bd3786\"],[0.5555555555555556,\"#d8576b\"],[0.6666666666666666,\"#ed7953\"],[0.7777777777777778,\"#fb9f3a\"],[0.8888888888888888,\"#fdca26\"],[1.0,\"#f0f921\"]]}],\"surface\":[{\"type\":\"surface\",\"colorbar\":{\"outlinewidth\":0,\"ticks\":\"\"},\"colorscale\":[[0.0,\"#0d0887\"],[0.1111111111111111,\"#46039f\"],[0.2222222222222222,\"#7201a8\"],[0.3333333333333333,\"#9c179e\"],[0.4444444444444444,\"#bd3786\"],[0.5555555555555556,\"#d8576b\"],[0.6666666666666666,\"#ed7953\"],[0.7777777777777778,\"#fb9f3a\"],[0.8888888888888888,\"#fdca26\"],[1.0,\"#f0f921\"]]}],\"mesh3d\":[{\"type\":\"mesh3d\",\"colorbar\":{\"outlinewidth\":0,\"ticks\":\"\"}}],\"scatter\":[{\"fillpattern\":{\"fillmode\":\"overlay\",\"size\":10,\"solidity\":0.2},\"type\":\"scatter\"}],\"parcoords\":[{\"type\":\"parcoords\",\"line\":{\"colorbar\":{\"outlinewidth\":0,\"ticks\":\"\"}}}],\"scatterpolargl\":[{\"type\":\"scatterpolargl\",\"marker\":{\"colorbar\":{\"outlinewidth\":0,\"ticks\":\"\"}}}],\"bar\":[{\"error_x\":{\"color\":\"#2a3f5f\"},\"error_y\":{\"color\":\"#2a3f5f\"},\"marker\":{\"line\":{\"color\":\"#E5ECF6\",\"width\":0.5},\"pattern\":{\"fillmode\":\"overlay\",\"size\":10,\"solidity\":0.2}},\"type\":\"bar\"}],\"scattergeo\":[{\"type\":\"scattergeo\",\"marker\":{\"colorbar\":{\"outlinewidth\":0,\"ticks\":\"\"}}}],\"scatterpolar\":[{\"type\":\"scatterpolar\",\"marker\":{\"colorbar\":{\"outlinewidth\":0,\"ticks\":\"\"}}}],\"histogram\":[{\"marker\":{\"pattern\":{\"fillmode\":\"overlay\",\"size\":10,\"solidity\":0.2}},\"type\":\"histogram\"}],\"scattergl\":[{\"type\":\"scattergl\",\"marker\":{\"colorbar\":{\"outlinewidth\":0,\"ticks\":\"\"}}}],\"scatter3d\":[{\"type\":\"scatter3d\",\"line\":{\"colorbar\":{\"outlinewidth\":0,\"ticks\":\"\"}},\"marker\":{\"colorbar\":{\"outlinewidth\":0,\"ticks\":\"\"}}}],\"scattermapbox\":[{\"type\":\"scattermapbox\",\"marker\":{\"colorbar\":{\"outlinewidth\":0,\"ticks\":\"\"}}}],\"scatterternary\":[{\"type\":\"scatterternary\",\"marker\":{\"colorbar\":{\"outlinewidth\":0,\"ticks\":\"\"}}}],\"scattercarpet\":[{\"type\":\"scattercarpet\",\"marker\":{\"colorbar\":{\"outlinewidth\":0,\"ticks\":\"\"}}}],\"carpet\":[{\"aaxis\":{\"endlinecolor\":\"#2a3f5f\",\"gridcolor\":\"white\",\"linecolor\":\"white\",\"minorgridcolor\":\"white\",\"startlinecolor\":\"#2a3f5f\"},\"baxis\":{\"endlinecolor\":\"#2a3f5f\",\"gridcolor\":\"white\",\"linecolor\":\"white\",\"minorgridcolor\":\"white\",\"startlinecolor\":\"#2a3f5f\"},\"type\":\"carpet\"}],\"table\":[{\"cells\":{\"fill\":{\"color\":\"#EBF0F8\"},\"line\":{\"color\":\"white\"}},\"header\":{\"fill\":{\"color\":\"#C8D4E3\"},\"line\":{\"color\":\"white\"}},\"type\":\"table\"}],\"barpolar\":[{\"marker\":{\"line\":{\"color\":\"#E5ECF6\",\"width\":0.5},\"pattern\":{\"fillmode\":\"overlay\",\"size\":10,\"solidity\":0.2}},\"type\":\"barpolar\"}],\"pie\":[{\"automargin\":true,\"type\":\"pie\"}]},\"layout\":{\"autotypenumbers\":\"strict\",\"colorway\":[\"#636efa\",\"#EF553B\",\"#00cc96\",\"#ab63fa\",\"#FFA15A\",\"#19d3f3\",\"#FF6692\",\"#B6E880\",\"#FF97FF\",\"#FECB52\"],\"font\":{\"color\":\"#2a3f5f\"},\"hovermode\":\"closest\",\"hoverlabel\":{\"align\":\"left\"},\"paper_bgcolor\":\"white\",\"plot_bgcolor\":\"#E5ECF6\",\"polar\":{\"bgcolor\":\"#E5ECF6\",\"angularaxis\":{\"gridcolor\":\"white\",\"linecolor\":\"white\",\"ticks\":\"\"},\"radialaxis\":{\"gridcolor\":\"white\",\"linecolor\":\"white\",\"ticks\":\"\"}},\"ternary\":{\"bgcolor\":\"#E5ECF6\",\"aaxis\":{\"gridcolor\":\"white\",\"linecolor\":\"white\",\"ticks\":\"\"},\"baxis\":{\"gridcolor\":\"white\",\"linecolor\":\"white\",\"ticks\":\"\"},\"caxis\":{\"gridcolor\":\"white\",\"linecolor\":\"white\",\"ticks\":\"\"}},\"coloraxis\":{\"colorbar\":{\"outlinewidth\":0,\"ticks\":\"\"}},\"colorscale\":{\"sequential\":[[0.0,\"#0d0887\"],[0.1111111111111111,\"#46039f\"],[0.2222222222222222,\"#7201a8\"],[0.3333333333333333,\"#9c179e\"],[0.4444444444444444,\"#bd3786\"],[0.5555555555555556,\"#d8576b\"],[0.6666666666666666,\"#ed7953\"],[0.7777777777777778,\"#fb9f3a\"],[0.8888888888888888,\"#fdca26\"],[1.0,\"#f0f921\"]],\"sequentialminus\":[[0.0,\"#0d0887\"],[0.1111111111111111,\"#46039f\"],[0.2222222222222222,\"#7201a8\"],[0.3333333333333333,\"#9c179e\"],[0.4444444444444444,\"#bd3786\"],[0.5555555555555556,\"#d8576b\"],[0.6666666666666666,\"#ed7953\"],[0.7777777777777778,\"#fb9f3a\"],[0.8888888888888888,\"#fdca26\"],[1.0,\"#f0f921\"]],\"diverging\":[[0,\"#8e0152\"],[0.1,\"#c51b7d\"],[0.2,\"#de77ae\"],[0.3,\"#f1b6da\"],[0.4,\"#fde0ef\"],[0.5,\"#f7f7f7\"],[0.6,\"#e6f5d0\"],[0.7,\"#b8e186\"],[0.8,\"#7fbc41\"],[0.9,\"#4d9221\"],[1,\"#276419\"]]},\"xaxis\":{\"gridcolor\":\"white\",\"linecolor\":\"white\",\"ticks\":\"\",\"title\":{\"standoff\":15},\"zerolinecolor\":\"white\",\"automargin\":true,\"zerolinewidth\":2},\"yaxis\":{\"gridcolor\":\"white\",\"linecolor\":\"white\",\"ticks\":\"\",\"title\":{\"standoff\":15},\"zerolinecolor\":\"white\",\"automargin\":true,\"zerolinewidth\":2},\"scene\":{\"xaxis\":{\"backgroundcolor\":\"#E5ECF6\",\"gridcolor\":\"white\",\"linecolor\":\"white\",\"showbackground\":true,\"ticks\":\"\",\"zerolinecolor\":\"white\",\"gridwidth\":2},\"yaxis\":{\"backgroundcolor\":\"#E5ECF6\",\"gridcolor\":\"white\",\"linecolor\":\"white\",\"showbackground\":true,\"ticks\":\"\",\"zerolinecolor\":\"white\",\"gridwidth\":2},\"zaxis\":{\"backgroundcolor\":\"#E5ECF6\",\"gridcolor\":\"white\",\"linecolor\":\"white\",\"showbackground\":true,\"ticks\":\"\",\"zerolinecolor\":\"white\",\"gridwidth\":2}},\"shapedefaults\":{\"line\":{\"color\":\"#2a3f5f\"}},\"annotationdefaults\":{\"arrowcolor\":\"#2a3f5f\",\"arrowhead\":0,\"arrowwidth\":1},\"geo\":{\"bgcolor\":\"white\",\"landcolor\":\"#E5ECF6\",\"subunitcolor\":\"white\",\"showland\":true,\"showlakes\":true,\"lakecolor\":\"white\"},\"title\":{\"x\":0.05},\"mapbox\":{\"style\":\"light\"}}},\"xaxis\":{\"anchor\":\"y\",\"domain\":[0.0,1.0],\"title\":{\"text\":\"Date\"}},\"yaxis\":{\"anchor\":\"x\",\"domain\":[0.0,1.0],\"title\":{\"text\":\"% of World Population\"}},\"legend\":{\"tracegroupgap\":0},\"title\":{\"text\":\"World Population Percentage Over Time\"}},                        {\"responsive\": true}                    ).then(function(){\n",
       "                            \n",
       "var gd = document.getElementById('26cf2e51-db72-47b4-b20a-980c13b7a0fd');\n",
       "var x = new MutationObserver(function (mutations, observer) {{\n",
       "        var display = window.getComputedStyle(gd).display;\n",
       "        if (!display || display === 'none') {{\n",
       "            console.log([gd, 'removed!']);\n",
       "            Plotly.purge(gd);\n",
       "            observer.disconnect();\n",
       "        }}\n",
       "}});\n",
       "\n",
       "// Listen for the removal of the full notebook cells\n",
       "var notebookContainer = gd.closest('#notebook-container');\n",
       "if (notebookContainer) {{\n",
       "    x.observe(notebookContainer, {childList: true});\n",
       "}}\n",
       "\n",
       "// Listen for the clearing of the current output cell\n",
       "var outputEl = gd.closest('.output');\n",
       "if (outputEl) {{\n",
       "    x.observe(outputEl, {childList: true});\n",
       "}}\n",
       "\n",
       "                        })                };                });            </script>        </div>"
      ]
     },
     "metadata": {},
     "output_type": "display_data"
    }
   ],
   "source": [
    "# Group by year and calculate the average '% of World Population'\n",
    "df_yearly = df.groupby(df['Date'].dt.year)['% of World Population'].mean().reset_index()\n",
    "\n",
    "# Create the time series plot\n",
    "fig = px.line(df_yearly, x='Date', y='% of World Population', title='World Population Percentage Over Time')\n",
    "fig.show()"
   ]
  },
  {
   "cell_type": "code",
   "execution_count": 125,
   "id": "8ed2bcb8",
   "metadata": {},
   "outputs": [
    {
     "data": {
      "text/html": [
       "<div>\n",
       "<style scoped>\n",
       "    .dataframe tbody tr th:only-of-type {\n",
       "        vertical-align: middle;\n",
       "    }\n",
       "\n",
       "    .dataframe tbody tr th {\n",
       "        vertical-align: top;\n",
       "    }\n",
       "\n",
       "    .dataframe thead th {\n",
       "        text-align: right;\n",
       "    }\n",
       "</style>\n",
       "<table border=\"1\" class=\"dataframe\">\n",
       "  <thead>\n",
       "    <tr style=\"text-align: right;\">\n",
       "      <th></th>\n",
       "      <th>Title</th>\n",
       "      <th>url</th>\n",
       "      <th>Word count</th>\n",
       "      <th># of Links</th>\n",
       "      <th># of comments</th>\n",
       "      <th># Images video</th>\n",
       "      <th>Elapsed days</th>\n",
       "      <th># Shares</th>\n",
       "    </tr>\n",
       "  </thead>\n",
       "  <tbody>\n",
       "    <tr>\n",
       "      <th>0</th>\n",
       "      <td>What is Machine Learning and how do we use it ...</td>\n",
       "      <td>https://blog.signals.network/what-is-machine-l...</td>\n",
       "      <td>1888</td>\n",
       "      <td>1</td>\n",
       "      <td>2.0</td>\n",
       "      <td>2</td>\n",
       "      <td>34</td>\n",
       "      <td>200000</td>\n",
       "    </tr>\n",
       "    <tr>\n",
       "      <th>1</th>\n",
       "      <td>10 Companies Using Machine Learning in Cool Ways</td>\n",
       "      <td>NaN</td>\n",
       "      <td>1742</td>\n",
       "      <td>9</td>\n",
       "      <td>NaN</td>\n",
       "      <td>9</td>\n",
       "      <td>5</td>\n",
       "      <td>25000</td>\n",
       "    </tr>\n",
       "    <tr>\n",
       "      <th>2</th>\n",
       "      <td>How Artificial Intelligence Is Revolutionizing...</td>\n",
       "      <td>NaN</td>\n",
       "      <td>962</td>\n",
       "      <td>6</td>\n",
       "      <td>0.0</td>\n",
       "      <td>1</td>\n",
       "      <td>10</td>\n",
       "      <td>42000</td>\n",
       "    </tr>\n",
       "    <tr>\n",
       "      <th>3</th>\n",
       "      <td>Dbrain and the Blockchain of Artificial Intell...</td>\n",
       "      <td>NaN</td>\n",
       "      <td>1221</td>\n",
       "      <td>3</td>\n",
       "      <td>NaN</td>\n",
       "      <td>2</td>\n",
       "      <td>68</td>\n",
       "      <td>200000</td>\n",
       "    </tr>\n",
       "    <tr>\n",
       "      <th>4</th>\n",
       "      <td>Nasa finds entire solar system filled with eig...</td>\n",
       "      <td>NaN</td>\n",
       "      <td>2039</td>\n",
       "      <td>1</td>\n",
       "      <td>104.0</td>\n",
       "      <td>4</td>\n",
       "      <td>131</td>\n",
       "      <td>200000</td>\n",
       "    </tr>\n",
       "  </tbody>\n",
       "</table>\n",
       "</div>"
      ],
      "text/plain": [
       "                                               Title  \\\n",
       "0  What is Machine Learning and how do we use it ...   \n",
       "1   10 Companies Using Machine Learning in Cool Ways   \n",
       "2  How Artificial Intelligence Is Revolutionizing...   \n",
       "3  Dbrain and the Blockchain of Artificial Intell...   \n",
       "4  Nasa finds entire solar system filled with eig...   \n",
       "\n",
       "                                                 url  Word count  # of Links  \\\n",
       "0  https://blog.signals.network/what-is-machine-l...        1888           1   \n",
       "1                                                NaN        1742           9   \n",
       "2                                                NaN         962           6   \n",
       "3                                                NaN        1221           3   \n",
       "4                                                NaN        2039           1   \n",
       "\n",
       "   # of comments  # Images video  Elapsed days  # Shares  \n",
       "0            2.0               2            34    200000  \n",
       "1            NaN               9             5     25000  \n",
       "2            0.0               1            10     42000  \n",
       "3            NaN               2            68    200000  \n",
       "4          104.0               4           131    200000  "
      ]
     },
     "execution_count": 125,
     "metadata": {},
     "output_type": "execute_result"
    }
   ],
   "source": [
    "# After scraping the web for various articles related to AI and ML, I compiled a list of 160+ articles\n",
    "\n",
    "articles = pd.read_csv('/Users/adishsundar/Desktop/AI Research/articles_ML_AI.csv')\n",
    "\n",
    "articles.head()"
   ]
  },
  {
   "cell_type": "code",
   "execution_count": 130,
   "id": "a424a809",
   "metadata": {},
   "outputs": [
    {
     "data": {
      "text/plain": [
       "'Nasa finds entire solar system filled with eight planets like our own'"
      ]
     },
     "execution_count": 130,
     "metadata": {},
     "output_type": "execute_result"
    }
   ],
   "source": [
    "df_sorted = articles.sort_values(by='# Shares', ascending=False)\n",
    "\n",
    "# Select the top 5 rows\n",
    "top_5_articles = df_sorted.head(5)\n",
    "\n",
    "# Display the top 5 articles\n",
    "top_5_articles['Title'].iloc[3]"
   ]
  },
  {
   "cell_type": "code",
   "execution_count": 141,
   "id": "61b6bc3e",
   "metadata": {},
   "outputs": [
    {
     "data": {
      "text/html": [
       "<div>\n",
       "<style scoped>\n",
       "    .dataframe tbody tr th:only-of-type {\n",
       "        vertical-align: middle;\n",
       "    }\n",
       "\n",
       "    .dataframe tbody tr th {\n",
       "        vertical-align: top;\n",
       "    }\n",
       "\n",
       "    .dataframe thead th {\n",
       "        text-align: right;\n",
       "    }\n",
       "</style>\n",
       "<table border=\"1\" class=\"dataframe\">\n",
       "  <thead>\n",
       "    <tr style=\"text-align: right;\">\n",
       "      <th></th>\n",
       "      <th>age</th>\n",
       "      <th>sex</th>\n",
       "      <th>cp</th>\n",
       "      <th>trestbps</th>\n",
       "      <th>chol</th>\n",
       "      <th>fbs</th>\n",
       "      <th>restecg</th>\n",
       "      <th>thalach</th>\n",
       "      <th>exang</th>\n",
       "      <th>oldpeak</th>\n",
       "      <th>slope</th>\n",
       "      <th>ca</th>\n",
       "      <th>thal</th>\n",
       "      <th>target</th>\n",
       "    </tr>\n",
       "  </thead>\n",
       "  <tbody>\n",
       "    <tr>\n",
       "      <th>0</th>\n",
       "      <td>63</td>\n",
       "      <td>1</td>\n",
       "      <td>3</td>\n",
       "      <td>145</td>\n",
       "      <td>233</td>\n",
       "      <td>1</td>\n",
       "      <td>0</td>\n",
       "      <td>150</td>\n",
       "      <td>0</td>\n",
       "      <td>2.3</td>\n",
       "      <td>0</td>\n",
       "      <td>0</td>\n",
       "      <td>1</td>\n",
       "      <td>1</td>\n",
       "    </tr>\n",
       "    <tr>\n",
       "      <th>1</th>\n",
       "      <td>37</td>\n",
       "      <td>1</td>\n",
       "      <td>2</td>\n",
       "      <td>130</td>\n",
       "      <td>250</td>\n",
       "      <td>0</td>\n",
       "      <td>1</td>\n",
       "      <td>187</td>\n",
       "      <td>0</td>\n",
       "      <td>3.5</td>\n",
       "      <td>0</td>\n",
       "      <td>0</td>\n",
       "      <td>2</td>\n",
       "      <td>1</td>\n",
       "    </tr>\n",
       "    <tr>\n",
       "      <th>2</th>\n",
       "      <td>41</td>\n",
       "      <td>0</td>\n",
       "      <td>1</td>\n",
       "      <td>130</td>\n",
       "      <td>204</td>\n",
       "      <td>0</td>\n",
       "      <td>0</td>\n",
       "      <td>172</td>\n",
       "      <td>0</td>\n",
       "      <td>1.4</td>\n",
       "      <td>2</td>\n",
       "      <td>0</td>\n",
       "      <td>2</td>\n",
       "      <td>1</td>\n",
       "    </tr>\n",
       "    <tr>\n",
       "      <th>3</th>\n",
       "      <td>56</td>\n",
       "      <td>1</td>\n",
       "      <td>1</td>\n",
       "      <td>120</td>\n",
       "      <td>236</td>\n",
       "      <td>0</td>\n",
       "      <td>1</td>\n",
       "      <td>178</td>\n",
       "      <td>0</td>\n",
       "      <td>0.8</td>\n",
       "      <td>2</td>\n",
       "      <td>0</td>\n",
       "      <td>2</td>\n",
       "      <td>1</td>\n",
       "    </tr>\n",
       "    <tr>\n",
       "      <th>4</th>\n",
       "      <td>57</td>\n",
       "      <td>0</td>\n",
       "      <td>0</td>\n",
       "      <td>120</td>\n",
       "      <td>354</td>\n",
       "      <td>0</td>\n",
       "      <td>1</td>\n",
       "      <td>163</td>\n",
       "      <td>1</td>\n",
       "      <td>0.6</td>\n",
       "      <td>2</td>\n",
       "      <td>0</td>\n",
       "      <td>2</td>\n",
       "      <td>1</td>\n",
       "    </tr>\n",
       "  </tbody>\n",
       "</table>\n",
       "</div>"
      ],
      "text/plain": [
       "   age  sex  cp  trestbps  chol  fbs  restecg  thalach  exang  oldpeak  slope  \\\n",
       "0   63    1   3       145   233    1        0      150      0      2.3      0   \n",
       "1   37    1   2       130   250    0        1      187      0      3.5      0   \n",
       "2   41    0   1       130   204    0        0      172      0      1.4      2   \n",
       "3   56    1   1       120   236    0        1      178      0      0.8      2   \n",
       "4   57    0   0       120   354    0        1      163      1      0.6      2   \n",
       "\n",
       "   ca  thal  target  \n",
       "0   0     1       1  \n",
       "1   0     2       1  \n",
       "2   0     2       1  \n",
       "3   0     2       1  \n",
       "4   0     2       1  "
      ]
     },
     "execution_count": 141,
     "metadata": {},
     "output_type": "execute_result"
    }
   ],
   "source": [
    "# Training a machine learning model to predict the possibility of a heart attack. \n",
    "\n",
    "data = pd.read_csv('/Users/adishsundar/Desktop/AI Research/heart.csv')\n",
    "data.head()"
   ]
  },
  {
   "cell_type": "code",
   "execution_count": 144,
   "id": "1f3c790d",
   "metadata": {},
   "outputs": [
    {
     "name": "stdout",
     "output_type": "stream",
     "text": [
      "Accuracy: 0.8688524590163934\n"
     ]
    }
   ],
   "source": [
    "from sklearn.model_selection import train_test_split\n",
    "from sklearn.preprocessing import StandardScaler\n",
    "from sklearn.linear_model import LogisticRegression\n",
    "from sklearn.metrics import accuracy_score\n",
    "\n",
    "# Separate the features (X) and the target variable (y)\n",
    "X = data.drop('target', axis=1)\n",
    "y = data['target']\n",
    "\n",
    "# Split the dataset into training and testing sets\n",
    "X_train, X_test, y_train, y_test = train_test_split(X, y, test_size=0.2, random_state=42)\n",
    "\n",
    "# Perform feature scaling on the numerical columns\n",
    "scaler = StandardScaler()\n",
    "numerical_columns = ['age', 'trestbps', 'chol', 'thalach', 'oldpeak']\n",
    "X_train[numerical_columns] = scaler.fit_transform(X_train[numerical_columns])\n",
    "X_test[numerical_columns] = scaler.transform(X_test[numerical_columns])\n",
    "\n",
    "# Train a Logistic Regression model\n",
    "model = LogisticRegression()\n",
    "model.fit(X_train, y_train)\n",
    "\n",
    "# Make predictions on the testing data\n",
    "y_pred = model.predict(X_test)\n",
    "\n",
    "# Evaluate the model's accuracy\n",
    "accuracy = accuracy_score(y_test, y_pred)\n",
    "print(\"Accuracy:\", accuracy)"
   ]
  },
  {
   "cell_type": "code",
   "execution_count": 154,
   "id": "8b868c5a",
   "metadata": {},
   "outputs": [],
   "source": [
    "from qiskit_machine_learning.datasets import ad_hoc_data\n",
    "\n",
    "adhoc_dimension = 2\n",
    "train_features, train_labels, test_features, test_labels, adhoc_total = ad_hoc_data(\n",
    "    training_size=20,\n",
    "    test_size=5,\n",
    "    n=adhoc_dimension,\n",
    "    gap=0.3,\n",
    "    plot_data=False,\n",
    "    one_hot=False,\n",
    "    include_sample_total=True,\n",
    ")"
   ]
  },
  {
   "cell_type": "code",
   "execution_count": 155,
   "id": "b97e9a93",
   "metadata": {},
   "outputs": [],
   "source": [
    "import matplotlib.pyplot as plt\n",
    "import numpy as np\n",
    "\n",
    "\n",
    "def plot_features(ax, features, labels, class_label, marker, face, edge, label):\n",
    "    # A train plot\n",
    "    ax.scatter(\n",
    "        # x coordinate of labels where class is class_label\n",
    "        features[np.where(labels[:] == class_label), 0],\n",
    "        # y coordinate of labels where class is class_label\n",
    "        features[np.where(labels[:] == class_label), 1],\n",
    "        marker=marker,\n",
    "        facecolors=face,\n",
    "        edgecolors=edge,\n",
    "        label=label,\n",
    "    )\n",
    "\n",
    "\n",
    "def plot_dataset(train_features, train_labels, test_features, test_labels, adhoc_total):\n",
    "\n",
    "    plt.figure(figsize=(5, 5))\n",
    "    plt.ylim(0, 2 * np.pi)\n",
    "    plt.xlim(0, 2 * np.pi)\n",
    "    plt.imshow(\n",
    "        np.asmatrix(adhoc_total).T,\n",
    "        interpolation=\"nearest\",\n",
    "        origin=\"lower\",\n",
    "        cmap=\"RdBu\",\n",
    "        extent=[0, 2 * np.pi, 0, 2 * np.pi],\n",
    "    )\n",
    "\n",
    "    # A train plot\n",
    "    plot_features(plt, train_features, train_labels, 0, \"s\", \"w\", \"b\", \"A train\")\n",
    "\n",
    "    # B train plot\n",
    "    plot_features(plt, train_features, train_labels, 1, \"o\", \"w\", \"r\", \"B train\")\n",
    "\n",
    "    # A test plot\n",
    "    plot_features(plt, test_features, test_labels, 0, \"s\", \"b\", \"w\", \"A test\")\n",
    "\n",
    "    # B test plot\n",
    "    plot_features(plt, test_features, test_labels, 1, \"o\", \"r\", \"w\", \"B test\")\n",
    "\n",
    "    plt.legend(bbox_to_anchor=(1.05, 1), loc=\"upper left\", borderaxespad=0.0)\n",
    "    plt.title(\"Ad hoc dataset\")\n",
    "\n",
    "    plt.show()"
   ]
  },
  {
   "cell_type": "code",
   "execution_count": 156,
   "id": "5c777a14",
   "metadata": {},
   "outputs": [
    {
     "data": {
      "image/png": "[encoded data removed]",
      "text/plain": [
       "<Figure size 500x500 with 1 Axes>"
      ]
     },
     "metadata": {},
     "output_type": "display_data"
    }
   ],
   "source": [
    "plot_dataset(train_features, train_labels, test_features, test_labels, adhoc_total)"
   ]
  },
  {
   "cell_type": "code",
   "execution_count": 162,
   "id": "619778df",
   "metadata": {},
   "outputs": [],
   "source": [
    "adhoc_dimension = 2\n",
    "train_features, train_labels, test_features, test_labels, adhoc_total = ad_hoc_data(\n",
    "    training_size=25,\n",
    "    test_size=0,\n",
    "    n=adhoc_dimension,\n",
    "    gap=0.6,\n",
    "    plot_data=False,\n",
    "    one_hot=False,\n",
    "    include_sample_total=True,\n",
    ")"
   ]
  },
  {
   "cell_type": "code",
   "execution_count": 163,
   "id": "15a5e1ad",
   "metadata": {},
   "outputs": [
    {
     "data": {
      "image/png": "[encoded data removed]",
      "text/plain": [
       "<Figure size 500x500 with 1 Axes>"
      ]
     },
     "metadata": {},
     "output_type": "display_data"
    }
   ],
   "source": [
    "plt.figure(figsize=(5, 5))\n",
    "plt.ylim(0, 2 * np.pi)\n",
    "plt.xlim(0, 2 * np.pi)\n",
    "plt.imshow(\n",
    "    np.asmatrix(adhoc_total).T,\n",
    "    interpolation=\"nearest\",\n",
    "    origin=\"lower\",\n",
    "    cmap=\"RdBu\",\n",
    "    extent=[0, 2 * np.pi, 0, 2 * np.pi],\n",
    ")\n",
    "\n",
    "# A label plot\n",
    "plot_features(plt, train_features, train_labels, 0, \"s\", \"w\", \"b\", \"B\")\n",
    "\n",
    "# B label plot\n",
    "plot_features(plt, train_features, train_labels, 1, \"o\", \"w\", \"r\", \"B\")\n",
    "\n",
    "plt.legend(bbox_to_anchor=(1.05, 1), loc=\"upper left\", borderaxespad=0.0)\n",
    "plt.title(\"Ad hoc dataset for clustering\")\n",
    "\n",
    "plt.show()"
   ]
  },
  {
   "cell_type": "code",
   "execution_count": 164,
   "id": "61e71b2c",
   "metadata": {},
   "outputs": [],
   "source": [
    "from qiskit.circuit.library import ZZFeatureMap\n",
    "from qiskit.primitives import Sampler\n",
    "from qiskit.algorithms.state_fidelities import ComputeUncompute\n",
    "from qiskit_machine_learning.kernels import FidelityQuantumKernel\n",
    "\n",
    "adhoc_feature_map = ZZFeatureMap(feature_dimension=adhoc_dimension, reps=2, entanglement=\"linear\")\n",
    "\n",
    "adhoc_kernel = FidelityQuantumKernel(feature_map=adhoc_feature_map)"
   ]
  },
  {
   "cell_type": "code",
   "execution_count": 165,
   "id": "978b7849",
   "metadata": {},
   "outputs": [
    {
     "data": {
      "image/png": "[encoded data removed]",
      "text/plain": [
       "<Figure size 500x500 with 1 Axes>"
      ]
     },
     "metadata": {},
     "output_type": "display_data"
    }
   ],
   "source": [
    "adhoc_matrix = adhoc_kernel.evaluate(x_vec=train_features)\n",
    "\n",
    "plt.figure(figsize=(5, 5))\n",
    "plt.imshow(np.asmatrix(adhoc_matrix), interpolation=\"nearest\", origin=\"upper\", cmap=\"Greens\")\n",
    "plt.title(\"Ad hoc clustering kernel matrix\")\n",
    "plt.show()"
   ]
  },
  {
   "cell_type": "code",
   "execution_count": 166,
   "id": "a753bfde",
   "metadata": {},
   "outputs": [
    {
     "name": "stdout",
     "output_type": "stream",
     "text": [
      "Clustering score: 0.8782063702756282\n"
     ]
    }
   ],
   "source": [
    "from sklearn.cluster import SpectralClustering\n",
    "from sklearn.metrics import normalized_mutual_info_score\n",
    "\n",
    "adhoc_spectral = SpectralClustering(2, affinity=\"precomputed\")\n",
    "\n",
    "cluster_labels = adhoc_spectral.fit_predict(adhoc_matrix)\n",
    "\n",
    "cluster_score = normalized_mutual_info_score(cluster_labels, train_labels)\n",
    "\n",
    "print(f\"Clustering score: {cluster_score}\")"
   ]
  },
  {
   "cell_type": "code",
   "execution_count": null,
   "id": "6d99c2ce",
   "metadata": {},
   "outputs": [],
   "source": []
  }
 ],
 "metadata": {
  "kernelspec": {
   "display_name": "Python 3 (ipykernel)",
   "language": "python",
   "name": "python3"
  },
  "language_info": {
   "codemirror_mode": {
    "name": "ipython",
    "version": 3
   },
   "file_extension": ".py",
   "mimetype": "text/x-python",
   "name": "python",
   "nbconvert_exporter": "python",
   "pygments_lexer": "ipython3",
   "version": "3.10.9"
  }
 },
 "nbformat": 4,
 "nbformat_minor": 5
}
